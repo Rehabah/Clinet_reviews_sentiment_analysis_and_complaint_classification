{
  "cells": [
    {
      "cell_type": "markdown",
      "metadata": {
        "id": "view-in-github",
        "colab_type": "text"
      },
      "source": [
        "<a href=\"https://colab.research.google.com/github/Rehabah/sent_class/blob/main/Final_Sentimenet_Analysis_and_Text_classification.ipynb\" target=\"_parent\"><img src=\"https://colab.research.google.com/assets/colab-badge.svg\" alt=\"Open In Colab\"/></a>"
      ]
    },
    {
      "cell_type": "markdown",
      "metadata": {
        "id": "Y0k9hwMkhLEg"
      },
      "source": [
        "Text Preprocessing"
      ]
    },
    {
      "cell_type": "markdown",
      "source": [
        "Libraries Installation and Importing"
      ],
      "metadata": {
        "id": "29a334Rd4ItM"
      }
    },
    {
      "cell_type": "code",
      "source": [
        "pip install pyarabic"
      ],
      "metadata": {
        "colab": {
          "base_uri": "https://localhost:8080/"
        },
        "id": "Uf3HIjT8hQG7",
        "outputId": "e0f76a73-3511-4efb-8c67-033c7d97eb8d"
      },
      "execution_count": null,
      "outputs": [
        {
          "output_type": "stream",
          "name": "stdout",
          "text": [
            "Looking in indexes: https://pypi.org/simple, https://us-python.pkg.dev/colab-wheels/public/simple/\n",
            "Collecting pyarabic\n",
            "  Downloading PyArabic-0.6.15-py3-none-any.whl (126 kB)\n",
            "\u001b[K     |████████████████████████████████| 126 kB 5.4 MB/s \n",
            "\u001b[?25hRequirement already satisfied: six>=1.14.0 in /usr/local/lib/python3.7/dist-packages (from pyarabic) (1.15.0)\n",
            "Installing collected packages: pyarabic\n",
            "Successfully installed pyarabic-0.6.15\n"
          ]
        }
      ]
    },
    {
      "cell_type": "code",
      "source": [
        "pip install stop-words"
      ],
      "metadata": {
        "colab": {
          "base_uri": "https://localhost:8080/"
        },
        "id": "e2zyVZjC4MPM",
        "outputId": "ecf482bd-a337-4b4b-c37e-4fc3f98aa06e"
      },
      "execution_count": null,
      "outputs": [
        {
          "output_type": "stream",
          "name": "stdout",
          "text": [
            "Looking in indexes: https://pypi.org/simple, https://us-python.pkg.dev/colab-wheels/public/simple/\n",
            "Collecting stop-words\n",
            "  Downloading stop-words-2018.7.23.tar.gz (31 kB)\n",
            "Building wheels for collected packages: stop-words\n",
            "  Building wheel for stop-words (setup.py) ... \u001b[?25l\u001b[?25hdone\n",
            "  Created wheel for stop-words: filename=stop_words-2018.7.23-py3-none-any.whl size=32911 sha256=3ee5ba428cd824d410ed5c2bbd44eaabbbfc3864403f14c5b578355ac1325f4f\n",
            "  Stored in directory: /root/.cache/pip/wheels/fb/86/b2/277b10b1ce9f73ce15059bf6975d4547cc4ec3feeb651978e9\n",
            "Successfully built stop-words\n",
            "Installing collected packages: stop-words\n",
            "Successfully installed stop-words-2018.7.23\n"
          ]
        }
      ]
    },
    {
      "cell_type": "code",
      "source": [
        "pip install arabic-reshaper"
      ],
      "metadata": {
        "colab": {
          "base_uri": "https://localhost:8080/"
        },
        "id": "TOAO9oxC4yRe",
        "outputId": "63e05487-a25b-4fc8-af66-d26a84e446df"
      },
      "execution_count": null,
      "outputs": [
        {
          "output_type": "stream",
          "name": "stdout",
          "text": [
            "Looking in indexes: https://pypi.org/simple, https://us-python.pkg.dev/colab-wheels/public/simple/\n",
            "Collecting arabic-reshaper\n",
            "  Downloading arabic_reshaper-2.1.3-py3-none-any.whl (20 kB)\n",
            "Requirement already satisfied: future in /usr/local/lib/python3.7/dist-packages (from arabic-reshaper) (0.16.0)\n",
            "Requirement already satisfied: setuptools in /usr/local/lib/python3.7/dist-packages (from arabic-reshaper) (57.4.0)\n",
            "Installing collected packages: arabic-reshaper\n",
            "Successfully installed arabic-reshaper-2.1.3\n"
          ]
        }
      ]
    },
    {
      "cell_type": "code",
      "source": [
        "pip install python-bidi"
      ],
      "metadata": {
        "colab": {
          "base_uri": "https://localhost:8080/"
        },
        "id": "dnC3LkoE4y_u",
        "outputId": "59f8fc5a-af7b-41a9-c3cb-563509e8aa0e"
      },
      "execution_count": null,
      "outputs": [
        {
          "output_type": "stream",
          "name": "stdout",
          "text": [
            "Looking in indexes: https://pypi.org/simple, https://us-python.pkg.dev/colab-wheels/public/simple/\n",
            "Collecting python-bidi\n",
            "  Downloading python_bidi-0.4.2-py2.py3-none-any.whl (30 kB)\n",
            "Requirement already satisfied: six in /usr/local/lib/python3.7/dist-packages (from python-bidi) (1.15.0)\n",
            "Installing collected packages: python-bidi\n",
            "Successfully installed python-bidi-0.4.2\n"
          ]
        }
      ]
    },
    {
      "cell_type": "code",
      "source": [
        "pip install emoji"
      ],
      "metadata": {
        "colab": {
          "base_uri": "https://localhost:8080/"
        },
        "id": "1hmgHldT40lT",
        "outputId": "dfce4dc2-1c45-44a9-9aa3-6779be96e8e6"
      },
      "execution_count": null,
      "outputs": [
        {
          "output_type": "stream",
          "name": "stdout",
          "text": [
            "Looking in indexes: https://pypi.org/simple, https://us-python.pkg.dev/colab-wheels/public/simple/\n",
            "Collecting emoji\n",
            "  Downloading emoji-1.7.0.tar.gz (175 kB)\n",
            "\u001b[K     |████████████████████████████████| 175 kB 5.1 MB/s \n",
            "\u001b[?25hBuilding wheels for collected packages: emoji\n",
            "  Building wheel for emoji (setup.py) ... \u001b[?25l\u001b[?25hdone\n",
            "  Created wheel for emoji: filename=emoji-1.7.0-py3-none-any.whl size=171046 sha256=1914a6853fa7b28d398b1d35c5d590264289078357ca8192a4475bf0eec07527\n",
            "  Stored in directory: /root/.cache/pip/wheels/8a/4e/b6/57b01db010d17ef6ea9b40300af725ef3e210cb1acfb7ac8b6\n",
            "Successfully built emoji\n",
            "Installing collected packages: emoji\n",
            "Successfully installed emoji-1.7.0\n"
          ]
        }
      ]
    },
    {
      "cell_type": "code",
      "execution_count": null,
      "metadata": {
        "id": "8r9LjnPWhLEr"
      },
      "outputs": [],
      "source": [
        "import pandas as pd\n",
        "import pyarabic.araby as araby\n",
        "from google.colab import files\n",
        "import io\n",
        "import re\n",
        "from string import punctuation\n",
        "import nltk\n",
        "from nltk.corpus import stopwords\n",
        "from stop_words import get_stop_words\n",
        "import unicodedata\n",
        "import sys\n",
        "import seaborn as sns\n",
        "import matplotlib.pyplot as plt\n",
        "import arabic_reshaper\n",
        "from bidi.algorithm import get_display\n",
        "import numpy as np\n",
        "import emoji\n",
        "from wordcloud import WordCloud\n",
        "import plotly\n",
        "import plotly.offline as py\n",
        "import plotly.graph_objs as go\n",
        "from sklearn.feature_extraction.text import  CountVectorizer\n",
        "from sklearn.model_selection import train_test_split\n",
        "from sklearn.linear_model import LogisticRegression\n",
        "from sklearn.metrics import confusion_matrix,classification_report\n",
        "from sklearn.naive_bayes import MultinomialNB\n",
        "from sklearn import metrics\n",
        "from sklearn.feature_extraction.text import TfidfVectorizer\n",
        "from sklearn.decomposition import NMF\n",
        "from sklearn.decomposition import LatentDirichletAllocation\n"
      ]
    },
    {
      "cell_type": "markdown",
      "metadata": {
        "id": "f2n0cfzBhLE0"
      },
      "source": [
        "Reading Text File"
      ]
    },
    {
      "cell_type": "code",
      "source": [
        "#  from google.colab import drive\n",
        "#  drive.mount(\"/content/drive\", force_remount=True)\n",
        "uploaded=files.upload()"
      ],
      "metadata": {
        "colab": {
          "base_uri": "https://localhost:8080/",
          "height": 73,
          "resources": {
            "http://localhost:8080/nbextensions/google.colab/files.js": {
              "data": "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",
              "ok": true,
              "headers": [
                [
                  "content-type",
                  "application/javascript"
                ]
              ],
              "status": 200,
              "status_text": ""
            }
          }
        },
        "id": "Y1msCpzZmJiF",
        "outputId": "7e50caf6-801e-4cca-b11c-aa772cc6970a"
      },
      "execution_count": null,
      "outputs": [
        {
          "output_type": "display_data",
          "data": {
            "text/plain": [
              "<IPython.core.display.HTML object>"
            ],
            "text/html": [
              "\n",
              "     <input type=\"file\" id=\"files-40cd30ff-e0ad-435b-aa03-ea6b3d8c937b\" name=\"files[]\" multiple disabled\n",
              "        style=\"border:none\" />\n",
              "     <output id=\"result-40cd30ff-e0ad-435b-aa03-ea6b3d8c937b\">\n",
              "      Upload widget is only available when the cell has been executed in the\n",
              "      current browser session. Please rerun this cell to enable.\n",
              "      </output>\n",
              "      <script src=\"/nbextensions/google.colab/files.js\"></script> "
            ]
          },
          "metadata": {}
        },
        {
          "output_type": "stream",
          "name": "stdout",
          "text": [
            "Saving balanced-reviews.txt to balanced-reviews.txt\n"
          ]
        }
      ]
    },
    {
      "cell_type": "code",
      "source": [
        "print(uploaded)"
      ],
      "metadata": {
        "colab": {
          "base_uri": "https://localhost:8080/"
        },
        "id": "IbEBBgyRvqS7",
        "outputId": "7e73bae4-a0e6-4f64-ce87-632fc59ab443"
      },
      "execution_count": null,
      "outputs": [
        {
          "output_type": "stream",
          "name": "stderr",
          "text": [
            "IOPub data rate exceeded.\n",
            "The notebook server will temporarily stop sending output\n",
            "to the client in order to avoid crashing it.\n",
            "To change this limit, set the config variable\n",
            "`--NotebookApp.iopub_data_rate_limit`.\n",
            "\n",
            "Current values:\n",
            "NotebookApp.iopub_data_rate_limit=1000000.0 (bytes/sec)\n",
            "NotebookApp.rate_limit_window=3.0 (secs)\n",
            "\n"
          ]
        }
      ]
    },
    {
      "cell_type": "code",
      "execution_count": null,
      "metadata": {
        "id": "jGGgYVMUhLE3"
      },
      "outputs": [],
      "source": [
        "column1=[]\n",
        "column2=[]\n",
        "column3=[]\n",
        "column4=[]\n",
        "column5=[]\n",
        "coloumn_last = [] \n",
        "with open('balanced-reviews.txt', \"r+\",encoding='utf-16',errors='ignore') as f:\n",
        "    data = f.readlines() \n",
        "    #print (data) \n",
        "    for line in data: \n",
        "        column1.append(line.strip().split(\"\\t\")[1])\n",
        "        column2.append(line.strip().split(\"\\t\")[2]) \n",
        "        column3.append(line.strip().split(\"\\t\")[3]) \n",
        "        column4.append(line.strip().split(\"\\t\")[4]) \n",
        "        column5.append(line.strip().split(\"\\t\")[5]) \n",
        "        coloumn_last.append(line.strip().split(\"\\t\")[-1]) "
      ]
    },
    {
      "cell_type": "code",
      "source": [
        "df = pd.DataFrame(list(zip(column1,column2,column3,column4,column5,coloumn_last)),\n",
        "                columns = ['name','rating','type','type2','duration','text'])"
      ],
      "metadata": {
        "id": "lg_a22wdvhXn"
      },
      "execution_count": null,
      "outputs": []
    },
    {
      "cell_type": "code",
      "source": [
        "len(df)"
      ],
      "metadata": {
        "colab": {
          "base_uri": "https://localhost:8080/"
        },
        "id": "L3G9WvHgurE4",
        "outputId": "534be55a-52ba-4d37-87e6-01b60aa6e1d9"
      },
      "execution_count": null,
      "outputs": [
        {
          "output_type": "execute_result",
          "data": {
            "text/plain": [
              "105699"
            ]
          },
          "metadata": {},
          "execution_count": 26
        }
      ]
    },
    {
      "cell_type": "code",
      "source": [
        "df.head()"
      ],
      "metadata": {
        "colab": {
          "base_uri": "https://localhost:8080/",
          "height": 206
        },
        "id": "sOzTTA-8vWkq",
        "outputId": "14cdd304-1a2f-4ab7-b484-26fbcafebe35"
      },
      "execution_count": null,
      "outputs": [
        {
          "output_type": "execute_result",
          "data": {
            "text/plain": [
              "         name  rating         type                       type2  \\\n",
              "0  Hotel name  rating    user type                   room type   \n",
              "1     فندق 72       2  مسافر منفرد  غرفة ديلوكس مزدوجة أو توأم   \n",
              "2     فندق 72       5          زوج  غرفة ديلوكس مزدوجة أو توأم   \n",
              "3     فندق 72       5          زوج                           -   \n",
              "4     فندق 72       1          زوج          غرفة قياسية مزدوجة   \n",
              "\n",
              "          duration                                               text  \n",
              "0           nights                                             review  \n",
              "1  أقمت ليلة واحدة                   “ممتاز”. النظافة والطاقم متعاون.  \n",
              "2  أقمت ليلة واحدة  استثنائي. سهولة إنهاء المعاملة في الاستقبال. ل...  \n",
              "3      أقمت ليلتين  استثنائي. انصح بأختيار الاسويت و بالاخص غرفه ر...  \n",
              "4  أقمت ليلة واحدة  “استغرب تقييم الفندق كخمس نجوم”. لا شي. يستحق ...  "
            ],
            "text/html": [
              "\n",
              "  <div id=\"df-9c7abc55-57b2-4b3a-9cfe-429c0f15dfc9\">\n",
              "    <div class=\"colab-df-container\">\n",
              "      <div>\n",
              "<style scoped>\n",
              "    .dataframe tbody tr th:only-of-type {\n",
              "        vertical-align: middle;\n",
              "    }\n",
              "\n",
              "    .dataframe tbody tr th {\n",
              "        vertical-align: top;\n",
              "    }\n",
              "\n",
              "    .dataframe thead th {\n",
              "        text-align: right;\n",
              "    }\n",
              "</style>\n",
              "<table border=\"1\" class=\"dataframe\">\n",
              "  <thead>\n",
              "    <tr style=\"text-align: right;\">\n",
              "      <th></th>\n",
              "      <th>name</th>\n",
              "      <th>rating</th>\n",
              "      <th>type</th>\n",
              "      <th>type2</th>\n",
              "      <th>duration</th>\n",
              "      <th>text</th>\n",
              "    </tr>\n",
              "  </thead>\n",
              "  <tbody>\n",
              "    <tr>\n",
              "      <th>0</th>\n",
              "      <td>Hotel name</td>\n",
              "      <td>rating</td>\n",
              "      <td>user type</td>\n",
              "      <td>room type</td>\n",
              "      <td>nights</td>\n",
              "      <td>review</td>\n",
              "    </tr>\n",
              "    <tr>\n",
              "      <th>1</th>\n",
              "      <td>فندق 72</td>\n",
              "      <td>2</td>\n",
              "      <td>مسافر منفرد</td>\n",
              "      <td>غرفة ديلوكس مزدوجة أو توأم</td>\n",
              "      <td>أقمت ليلة واحدة</td>\n",
              "      <td>“ممتاز”. النظافة والطاقم متعاون.</td>\n",
              "    </tr>\n",
              "    <tr>\n",
              "      <th>2</th>\n",
              "      <td>فندق 72</td>\n",
              "      <td>5</td>\n",
              "      <td>زوج</td>\n",
              "      <td>غرفة ديلوكس مزدوجة أو توأم</td>\n",
              "      <td>أقمت ليلة واحدة</td>\n",
              "      <td>استثنائي. سهولة إنهاء المعاملة في الاستقبال. ل...</td>\n",
              "    </tr>\n",
              "    <tr>\n",
              "      <th>3</th>\n",
              "      <td>فندق 72</td>\n",
              "      <td>5</td>\n",
              "      <td>زوج</td>\n",
              "      <td>-</td>\n",
              "      <td>أقمت ليلتين</td>\n",
              "      <td>استثنائي. انصح بأختيار الاسويت و بالاخص غرفه ر...</td>\n",
              "    </tr>\n",
              "    <tr>\n",
              "      <th>4</th>\n",
              "      <td>فندق 72</td>\n",
              "      <td>1</td>\n",
              "      <td>زوج</td>\n",
              "      <td>غرفة قياسية مزدوجة</td>\n",
              "      <td>أقمت ليلة واحدة</td>\n",
              "      <td>“استغرب تقييم الفندق كخمس نجوم”. لا شي. يستحق ...</td>\n",
              "    </tr>\n",
              "  </tbody>\n",
              "</table>\n",
              "</div>\n",
              "      <button class=\"colab-df-convert\" onclick=\"convertToInteractive('df-9c7abc55-57b2-4b3a-9cfe-429c0f15dfc9')\"\n",
              "              title=\"Convert this dataframe to an interactive table.\"\n",
              "              style=\"display:none;\">\n",
              "        \n",
              "  <svg xmlns=\"http://www.w3.org/2000/svg\" height=\"24px\"viewBox=\"0 0 24 24\"\n",
              "       width=\"24px\">\n",
              "    <path d=\"M0 0h24v24H0V0z\" fill=\"none\"/>\n",
              "    <path d=\"M18.56 5.44l.94 2.06.94-2.06 2.06-.94-2.06-.94-.94-2.06-.94 2.06-2.06.94zm-11 1L8.5 8.5l.94-2.06 2.06-.94-2.06-.94L8.5 2.5l-.94 2.06-2.06.94zm10 10l.94 2.06.94-2.06 2.06-.94-2.06-.94-.94-2.06-.94 2.06-2.06.94z\"/><path d=\"M17.41 7.96l-1.37-1.37c-.4-.4-.92-.59-1.43-.59-.52 0-1.04.2-1.43.59L10.3 9.45l-7.72 7.72c-.78.78-.78 2.05 0 2.83L4 21.41c.39.39.9.59 1.41.59.51 0 1.02-.2 1.41-.59l7.78-7.78 2.81-2.81c.8-.78.8-2.07 0-2.86zM5.41 20L4 18.59l7.72-7.72 1.47 1.35L5.41 20z\"/>\n",
              "  </svg>\n",
              "      </button>\n",
              "      \n",
              "  <style>\n",
              "    .colab-df-container {\n",
              "      display:flex;\n",
              "      flex-wrap:wrap;\n",
              "      gap: 12px;\n",
              "    }\n",
              "\n",
              "    .colab-df-convert {\n",
              "      background-color: #E8F0FE;\n",
              "      border: none;\n",
              "      border-radius: 50%;\n",
              "      cursor: pointer;\n",
              "      display: none;\n",
              "      fill: #1967D2;\n",
              "      height: 32px;\n",
              "      padding: 0 0 0 0;\n",
              "      width: 32px;\n",
              "    }\n",
              "\n",
              "    .colab-df-convert:hover {\n",
              "      background-color: #E2EBFA;\n",
              "      box-shadow: 0px 1px 2px rgba(60, 64, 67, 0.3), 0px 1px 3px 1px rgba(60, 64, 67, 0.15);\n",
              "      fill: #174EA6;\n",
              "    }\n",
              "\n",
              "    [theme=dark] .colab-df-convert {\n",
              "      background-color: #3B4455;\n",
              "      fill: #D2E3FC;\n",
              "    }\n",
              "\n",
              "    [theme=dark] .colab-df-convert:hover {\n",
              "      background-color: #434B5C;\n",
              "      box-shadow: 0px 1px 3px 1px rgba(0, 0, 0, 0.15);\n",
              "      filter: drop-shadow(0px 1px 2px rgba(0, 0, 0, 0.3));\n",
              "      fill: #FFFFFF;\n",
              "    }\n",
              "  </style>\n",
              "\n",
              "      <script>\n",
              "        const buttonEl =\n",
              "          document.querySelector('#df-9c7abc55-57b2-4b3a-9cfe-429c0f15dfc9 button.colab-df-convert');\n",
              "        buttonEl.style.display =\n",
              "          google.colab.kernel.accessAllowed ? 'block' : 'none';\n",
              "\n",
              "        async function convertToInteractive(key) {\n",
              "          const element = document.querySelector('#df-9c7abc55-57b2-4b3a-9cfe-429c0f15dfc9');\n",
              "          const dataTable =\n",
              "            await google.colab.kernel.invokeFunction('convertToInteractive',\n",
              "                                                     [key], {});\n",
              "          if (!dataTable) return;\n",
              "\n",
              "          const docLinkHtml = 'Like what you see? Visit the ' +\n",
              "            '<a target=\"_blank\" href=https://colab.research.google.com/notebooks/data_table.ipynb>data table notebook</a>'\n",
              "            + ' to learn more about interactive tables.';\n",
              "          element.innerHTML = '';\n",
              "          dataTable['output_type'] = 'display_data';\n",
              "          await google.colab.output.renderOutput(dataTable, element);\n",
              "          const docLink = document.createElement('div');\n",
              "          docLink.innerHTML = docLinkHtml;\n",
              "          element.appendChild(docLink);\n",
              "        }\n",
              "      </script>\n",
              "    </div>\n",
              "  </div>\n",
              "  "
            ]
          },
          "metadata": {},
          "execution_count": 27
        }
      ]
    },
    {
      "cell_type": "code",
      "source": [
        "#Removing Headers\n",
        "df1 = df.iloc[1: , :]\n",
        "df1.head()"
      ],
      "metadata": {
        "id": "7QMefoH2mc0L",
        "colab": {
          "base_uri": "https://localhost:8080/",
          "height": 206
        },
        "outputId": "a9c55929-529e-404b-8d8f-aeb77e95c8ae"
      },
      "execution_count": null,
      "outputs": [
        {
          "output_type": "execute_result",
          "data": {
            "text/plain": [
              "      name rating         type                       type2         duration  \\\n",
              "1  فندق 72      2  مسافر منفرد  غرفة ديلوكس مزدوجة أو توأم  أقمت ليلة واحدة   \n",
              "2  فندق 72      5          زوج  غرفة ديلوكس مزدوجة أو توأم  أقمت ليلة واحدة   \n",
              "3  فندق 72      5          زوج                           -      أقمت ليلتين   \n",
              "4  فندق 72      1          زوج          غرفة قياسية مزدوجة  أقمت ليلة واحدة   \n",
              "5  فندق 72      4          زوج  غرفة ديلوكس مزدوجة أو توأم      أقمت ليلتين   \n",
              "\n",
              "                                                text  \n",
              "1                   “ممتاز”. النظافة والطاقم متعاون.  \n",
              "2  استثنائي. سهولة إنهاء المعاملة في الاستقبال. ل...  \n",
              "3  استثنائي. انصح بأختيار الاسويت و بالاخص غرفه ر...  \n",
              "4  “استغرب تقييم الفندق كخمس نجوم”. لا شي. يستحق ...  \n",
              "5  جيد. المكان جميل وهاديء. كل شي جيد ونظيف بس كا...  "
            ],
            "text/html": [
              "\n",
              "  <div id=\"df-076173a0-dc51-47fc-ac86-836a35c5a781\">\n",
              "    <div class=\"colab-df-container\">\n",
              "      <div>\n",
              "<style scoped>\n",
              "    .dataframe tbody tr th:only-of-type {\n",
              "        vertical-align: middle;\n",
              "    }\n",
              "\n",
              "    .dataframe tbody tr th {\n",
              "        vertical-align: top;\n",
              "    }\n",
              "\n",
              "    .dataframe thead th {\n",
              "        text-align: right;\n",
              "    }\n",
              "</style>\n",
              "<table border=\"1\" class=\"dataframe\">\n",
              "  <thead>\n",
              "    <tr style=\"text-align: right;\">\n",
              "      <th></th>\n",
              "      <th>name</th>\n",
              "      <th>rating</th>\n",
              "      <th>type</th>\n",
              "      <th>type2</th>\n",
              "      <th>duration</th>\n",
              "      <th>text</th>\n",
              "    </tr>\n",
              "  </thead>\n",
              "  <tbody>\n",
              "    <tr>\n",
              "      <th>1</th>\n",
              "      <td>فندق 72</td>\n",
              "      <td>2</td>\n",
              "      <td>مسافر منفرد</td>\n",
              "      <td>غرفة ديلوكس مزدوجة أو توأم</td>\n",
              "      <td>أقمت ليلة واحدة</td>\n",
              "      <td>“ممتاز”. النظافة والطاقم متعاون.</td>\n",
              "    </tr>\n",
              "    <tr>\n",
              "      <th>2</th>\n",
              "      <td>فندق 72</td>\n",
              "      <td>5</td>\n",
              "      <td>زوج</td>\n",
              "      <td>غرفة ديلوكس مزدوجة أو توأم</td>\n",
              "      <td>أقمت ليلة واحدة</td>\n",
              "      <td>استثنائي. سهولة إنهاء المعاملة في الاستقبال. ل...</td>\n",
              "    </tr>\n",
              "    <tr>\n",
              "      <th>3</th>\n",
              "      <td>فندق 72</td>\n",
              "      <td>5</td>\n",
              "      <td>زوج</td>\n",
              "      <td>-</td>\n",
              "      <td>أقمت ليلتين</td>\n",
              "      <td>استثنائي. انصح بأختيار الاسويت و بالاخص غرفه ر...</td>\n",
              "    </tr>\n",
              "    <tr>\n",
              "      <th>4</th>\n",
              "      <td>فندق 72</td>\n",
              "      <td>1</td>\n",
              "      <td>زوج</td>\n",
              "      <td>غرفة قياسية مزدوجة</td>\n",
              "      <td>أقمت ليلة واحدة</td>\n",
              "      <td>“استغرب تقييم الفندق كخمس نجوم”. لا شي. يستحق ...</td>\n",
              "    </tr>\n",
              "    <tr>\n",
              "      <th>5</th>\n",
              "      <td>فندق 72</td>\n",
              "      <td>4</td>\n",
              "      <td>زوج</td>\n",
              "      <td>غرفة ديلوكس مزدوجة أو توأم</td>\n",
              "      <td>أقمت ليلتين</td>\n",
              "      <td>جيد. المكان جميل وهاديء. كل شي جيد ونظيف بس كا...</td>\n",
              "    </tr>\n",
              "  </tbody>\n",
              "</table>\n",
              "</div>\n",
              "      <button class=\"colab-df-convert\" onclick=\"convertToInteractive('df-076173a0-dc51-47fc-ac86-836a35c5a781')\"\n",
              "              title=\"Convert this dataframe to an interactive table.\"\n",
              "              style=\"display:none;\">\n",
              "        \n",
              "  <svg xmlns=\"http://www.w3.org/2000/svg\" height=\"24px\"viewBox=\"0 0 24 24\"\n",
              "       width=\"24px\">\n",
              "    <path d=\"M0 0h24v24H0V0z\" fill=\"none\"/>\n",
              "    <path d=\"M18.56 5.44l.94 2.06.94-2.06 2.06-.94-2.06-.94-.94-2.06-.94 2.06-2.06.94zm-11 1L8.5 8.5l.94-2.06 2.06-.94-2.06-.94L8.5 2.5l-.94 2.06-2.06.94zm10 10l.94 2.06.94-2.06 2.06-.94-2.06-.94-.94-2.06-.94 2.06-2.06.94z\"/><path d=\"M17.41 7.96l-1.37-1.37c-.4-.4-.92-.59-1.43-.59-.52 0-1.04.2-1.43.59L10.3 9.45l-7.72 7.72c-.78.78-.78 2.05 0 2.83L4 21.41c.39.39.9.59 1.41.59.51 0 1.02-.2 1.41-.59l7.78-7.78 2.81-2.81c.8-.78.8-2.07 0-2.86zM5.41 20L4 18.59l7.72-7.72 1.47 1.35L5.41 20z\"/>\n",
              "  </svg>\n",
              "      </button>\n",
              "      \n",
              "  <style>\n",
              "    .colab-df-container {\n",
              "      display:flex;\n",
              "      flex-wrap:wrap;\n",
              "      gap: 12px;\n",
              "    }\n",
              "\n",
              "    .colab-df-convert {\n",
              "      background-color: #E8F0FE;\n",
              "      border: none;\n",
              "      border-radius: 50%;\n",
              "      cursor: pointer;\n",
              "      display: none;\n",
              "      fill: #1967D2;\n",
              "      height: 32px;\n",
              "      padding: 0 0 0 0;\n",
              "      width: 32px;\n",
              "    }\n",
              "\n",
              "    .colab-df-convert:hover {\n",
              "      background-color: #E2EBFA;\n",
              "      box-shadow: 0px 1px 2px rgba(60, 64, 67, 0.3), 0px 1px 3px 1px rgba(60, 64, 67, 0.15);\n",
              "      fill: #174EA6;\n",
              "    }\n",
              "\n",
              "    [theme=dark] .colab-df-convert {\n",
              "      background-color: #3B4455;\n",
              "      fill: #D2E3FC;\n",
              "    }\n",
              "\n",
              "    [theme=dark] .colab-df-convert:hover {\n",
              "      background-color: #434B5C;\n",
              "      box-shadow: 0px 1px 3px 1px rgba(0, 0, 0, 0.15);\n",
              "      filter: drop-shadow(0px 1px 2px rgba(0, 0, 0, 0.3));\n",
              "      fill: #FFFFFF;\n",
              "    }\n",
              "  </style>\n",
              "\n",
              "      <script>\n",
              "        const buttonEl =\n",
              "          document.querySelector('#df-076173a0-dc51-47fc-ac86-836a35c5a781 button.colab-df-convert');\n",
              "        buttonEl.style.display =\n",
              "          google.colab.kernel.accessAllowed ? 'block' : 'none';\n",
              "\n",
              "        async function convertToInteractive(key) {\n",
              "          const element = document.querySelector('#df-076173a0-dc51-47fc-ac86-836a35c5a781');\n",
              "          const dataTable =\n",
              "            await google.colab.kernel.invokeFunction('convertToInteractive',\n",
              "                                                     [key], {});\n",
              "          if (!dataTable) return;\n",
              "\n",
              "          const docLinkHtml = 'Like what you see? Visit the ' +\n",
              "            '<a target=\"_blank\" href=https://colab.research.google.com/notebooks/data_table.ipynb>data table notebook</a>'\n",
              "            + ' to learn more about interactive tables.';\n",
              "          element.innerHTML = '';\n",
              "          dataTable['output_type'] = 'display_data';\n",
              "          await google.colab.output.renderOutput(dataTable, element);\n",
              "          const docLink = document.createElement('div');\n",
              "          docLink.innerHTML = docLinkHtml;\n",
              "          element.appendChild(docLink);\n",
              "        }\n",
              "      </script>\n",
              "    </div>\n",
              "  </div>\n",
              "  "
            ]
          },
          "metadata": {},
          "execution_count": 29
        }
      ]
    },
    {
      "cell_type": "code",
      "execution_count": null,
      "metadata": {
        "id": "W814RvyrhLFB"
      },
      "outputs": [],
      "source": [
        "pd.set_option('display.width', 1000)\n",
        "pd.set_option('display.expand_frame_repr', False)\n",
        "pd.set_option('display.float_format', lambda x: '%0f' % x)\n",
        "pd.set_option('display.max_colwidth', None)"
      ]
    },
    {
      "cell_type": "markdown",
      "metadata": {
        "id": "dSPicpDdhLFF"
      },
      "source": [
        "Reading data from Github"
      ]
    },
    {
      "cell_type": "code",
      "execution_count": null,
      "metadata": {
        "colab": {
          "base_uri": "https://localhost:8080/",
          "height": 441
        },
        "id": "mvJLPawdhLFI",
        "outputId": "3f50163e-b023-4953-a455-cc13ad3fc530"
      },
      "outputs": [
        {
          "output_type": "execute_result",
          "data": {
            "text/plain": [
              "                                                                                                                                                                                                                                                                                                                                                                                                                                                                                                                                                                                                                                                                                                                                                                                                                                                                                                                                                                                                                                                                                                                                                                                             text  polarity\n",
              "0  المكان الذي يمكنك فيه مراجعة الذات والتفكر هو كوكروبيت، غانا....  \\r\\nثمة الكثير عند زيارة غانا. وعلى الرغم من الفقر الذي سوف تلاحظه على طريقك إلى بيغ ميلي باكيارد، وجدت أن الناس في غانا يملكون ثراء القلب حتى رغم العوز. بيغ ميلي باكيارد هو مكان يمكنني فيه مراجعة الذات والتفكر . التقيت أشخاصاً كانوا يعملون على مبادرات مختلفة. بيغ ميلي هو مكان يمكننا فيه تبادل الملاحظات والآراء. بيغ ميلي مليء بالسلام وهادئ للغاية . الطعام ممتاز جداً! الطهاة ممتازون! وبالإضافة إلى ذلك, لا بد من الإشارة إلى أن العمال الذين لا يكلون، ويحرصون على سعادة نزلائهم هم من يجعلون المكان مضيافاً. هناك خيبة أمل واحدة كبيرة!! رغم أن الفنون والأشغال اليدوية يمكن شراؤها في الموقع إلا أن الأسعار غالية!!! مؤخراً أزالت السلطات في كوكروبيت محلات التجار الواقعة خارج شاطئ بيغ ميلي. كانت منتجات التجار أرخص! لا يزال هناك محل تجاري \"متجر مايسترو للفن الإفريقي في كوكروبيت\" يعرض الفنون والأشغال اليدوية الفريدة والملابس واللوحات. اشتريت لوحات مذهلة لايمكنك أن تجدها في بيغ ميلي. عندما تزور بيغ ميلي من فضلك خذ لحظة للذهاب إلى الشاطئ وعلى يمينك ستجد \"متجر مايسترو للفن الإفريقي\" المذهل. لا تنخدع بأسعار التجار في بيغ ميلي باكيارد. استمتع بالموسيقى والناس! الرجاء أن تقضي وقتاً ممتعاً.         1\n",
              "1                                                                                                                                                                                                                                                                                                                                                            موقع رائع وحديقة رائعة ويستحق نجمةّ إضافية  \\r\\nعلى الرغم من أن الغرف ليست فاخرة، فهي نظيفة جداً وتعمل بشكل مثالي. بالتأكيد هناك بعض التصرفات الفردية والجماعية، ولكن كان هناك تكييف هواء كبير وجيد ونوافذ مزدوجة جيدة مع شاشات. منطقة الحديقة تحتوى على 3 مطاعم بالإضافة إلى بار رياضي. تبلغ تكلفة الإنترنت اللاسلكي 1:50 دولار للساعة، ولا يوجد خصم على الفترات الأطول، لذلك اضطررت إلى إغلاق حاسوبي أكثر. إف و بي رخيص جداً. يبدو أن هناك العديد من الزوار الأجانب هناك. 85 دولار أمريكي لليلة بما في ذلك بوفيه إفطار بمستوى نجمة واحدة. إقامة أفضل بكثير مما اعتقدت، سنعود بالتأكيد. شملت الإقامات السابقة فندق الأفريقية ريجنت و الدخول بالمطار غرب فندق (خيارريجينت أفريكان وفندق إيربيورت ويست (خيار قوي لتلك المنطقة من المدينة). حركة المرور في أكرا مُصابة بالشلل، لذا قم بعقد اجتماعاتك في فندق بالوما - وهو معروف جيداً.         0\n",
              "2                                                                                                                                                                                                                                                                                                                                                                                                                                                                                                                                                                                                                                                                                                                                                                                                                                                                                           أسوأ فندق أقمت فيه على الإطلاق  \\r\\nيستغرق تسجيل الوصول حوالي 30 دقيقة، باهظ الثمن، غرف قديمة جداً وقذرة، سجادة قذرة جداً... فى المجمل تجربة سيئة للغاية.\\r\\nمثل هذا الفندق سيكون في آسيا، نجمة واحدة، ويمكن أن أذهب في مايو.\\r\\n30 دولار أمريكي.\\r\\nالسعر في فندق نوفوتيل حوالي 250 دولار أمريكي\\r\\n        -1\n",
              "3                                                                                                                                                                                                                                                                                                                                                                                                                                                                                                                                                                                                                                                                                                                                                                                                                                                                                                            بدون روح كأنه فندق ثلاثة نجوم  \\r\\nبدون إدارة احترافية، فإن هذا الفندق يبدو كمركب ضائع في البحر.\\r\\nالغرف موزعة بطريقة عشوائية والإفطار هو نقانق باردة سخيفة ونفس السلطة القديمة في كل يوم.\\r\\nكان مكيف الهواء يثير الضوضاء في الغرفة ومن المستحيل إيقافه.\\r\\nولكن مركز صحي رائع\\r\\n         0\n",
              "4                                                                                                                                                                                                                                                                                                                                                                                                                                                                                                                                                                                                                                                                                                                                                                    فندق جميل مع سوء الإدارة والخدمات.  \\r\\nمن الخارج بدا مبشرًا، لكن خيبة الأمل بدأت في وقت الغداء، جودة الطعام سيئة سيئة سيئة، والحساء كان مزريًا جدًا، والفواكه جودتها سيئة (البكيخ كان متعفنًا، واو!). اشتكى زملائي من عدم وجود مناشف في غرفهم في حوالي الساعة 8 مساءً، والبعض لم تكن أسرّتهم مرتبة حتى الساعة 5 مساءً. تناولنا عشاء مكسيكيًا ومرة أخرى كانت قائمة الطعام مزرية. لن أقيم هنا أبدًا، على الأقل أتحدث عن نفسي!        -1"
            ],
            "text/html": [
              "\n",
              "  <div id=\"df-eca5cdb2-a968-457e-80db-7973fe3a96ec\">\n",
              "    <div class=\"colab-df-container\">\n",
              "      <div>\n",
              "<style scoped>\n",
              "    .dataframe tbody tr th:only-of-type {\n",
              "        vertical-align: middle;\n",
              "    }\n",
              "\n",
              "    .dataframe tbody tr th {\n",
              "        vertical-align: top;\n",
              "    }\n",
              "\n",
              "    .dataframe thead th {\n",
              "        text-align: right;\n",
              "    }\n",
              "</style>\n",
              "<table border=\"1\" class=\"dataframe\">\n",
              "  <thead>\n",
              "    <tr style=\"text-align: right;\">\n",
              "      <th></th>\n",
              "      <th>text</th>\n",
              "      <th>polarity</th>\n",
              "    </tr>\n",
              "  </thead>\n",
              "  <tbody>\n",
              "    <tr>\n",
              "      <th>0</th>\n",
              "      <td>المكان الذي يمكنك فيه مراجعة الذات والتفكر هو كوكروبيت، غانا....  \\r\\nثمة الكثير عند زيارة غانا. وعلى الرغم من الفقر الذي سوف تلاحظه على طريقك إلى بيغ ميلي باكيارد، وجدت أن الناس في غانا يملكون ثراء القلب حتى رغم العوز. بيغ ميلي باكيارد هو مكان يمكنني فيه مراجعة الذات والتفكر . التقيت أشخاصاً كانوا يعملون على مبادرات مختلفة. بيغ ميلي هو مكان يمكننا فيه تبادل الملاحظات والآراء. بيغ ميلي مليء بالسلام وهادئ للغاية . الطعام ممتاز جداً! الطهاة ممتازون! وبالإضافة إلى ذلك, لا بد من الإشارة إلى أن العمال الذين لا يكلون، ويحرصون على سعادة نزلائهم هم من يجعلون المكان مضيافاً. هناك خيبة أمل واحدة كبيرة!! رغم أن الفنون والأشغال اليدوية يمكن شراؤها في الموقع إلا أن الأسعار غالية!!! مؤخراً أزالت السلطات في كوكروبيت محلات التجار الواقعة خارج شاطئ بيغ ميلي. كانت منتجات التجار أرخص! لا يزال هناك محل تجاري \"متجر مايسترو للفن الإفريقي في كوكروبيت\" يعرض الفنون والأشغال اليدوية الفريدة والملابس واللوحات. اشتريت لوحات مذهلة لايمكنك أن تجدها في بيغ ميلي. عندما تزور بيغ ميلي من فضلك خذ لحظة للذهاب إلى الشاطئ وعلى يمينك ستجد \"متجر مايسترو للفن الإفريقي\" المذهل. لا تنخدع بأسعار التجار في بيغ ميلي باكيارد. استمتع بالموسيقى والناس! الرجاء أن تقضي وقتاً ممتعاً.</td>\n",
              "      <td>1</td>\n",
              "    </tr>\n",
              "    <tr>\n",
              "      <th>1</th>\n",
              "      <td>موقع رائع وحديقة رائعة ويستحق نجمةّ إضافية  \\r\\nعلى الرغم من أن الغرف ليست فاخرة، فهي نظيفة جداً وتعمل بشكل مثالي. بالتأكيد هناك بعض التصرفات الفردية والجماعية، ولكن كان هناك تكييف هواء كبير وجيد ونوافذ مزدوجة جيدة مع شاشات. منطقة الحديقة تحتوى على 3 مطاعم بالإضافة إلى بار رياضي. تبلغ تكلفة الإنترنت اللاسلكي 1:50 دولار للساعة، ولا يوجد خصم على الفترات الأطول، لذلك اضطررت إلى إغلاق حاسوبي أكثر. إف و بي رخيص جداً. يبدو أن هناك العديد من الزوار الأجانب هناك. 85 دولار أمريكي لليلة بما في ذلك بوفيه إفطار بمستوى نجمة واحدة. إقامة أفضل بكثير مما اعتقدت، سنعود بالتأكيد. شملت الإقامات السابقة فندق الأفريقية ريجنت و الدخول بالمطار غرب فندق (خيارريجينت أفريكان وفندق إيربيورت ويست (خيار قوي لتلك المنطقة من المدينة). حركة المرور في أكرا مُصابة بالشلل، لذا قم بعقد اجتماعاتك في فندق بالوما - وهو معروف جيداً.</td>\n",
              "      <td>0</td>\n",
              "    </tr>\n",
              "    <tr>\n",
              "      <th>2</th>\n",
              "      <td>أسوأ فندق أقمت فيه على الإطلاق  \\r\\nيستغرق تسجيل الوصول حوالي 30 دقيقة، باهظ الثمن، غرف قديمة جداً وقذرة، سجادة قذرة جداً... فى المجمل تجربة سيئة للغاية.\\r\\nمثل هذا الفندق سيكون في آسيا، نجمة واحدة، ويمكن أن أذهب في مايو.\\r\\n30 دولار أمريكي.\\r\\nالسعر في فندق نوفوتيل حوالي 250 دولار أمريكي\\r\\n</td>\n",
              "      <td>-1</td>\n",
              "    </tr>\n",
              "    <tr>\n",
              "      <th>3</th>\n",
              "      <td>بدون روح كأنه فندق ثلاثة نجوم  \\r\\nبدون إدارة احترافية، فإن هذا الفندق يبدو كمركب ضائع في البحر.\\r\\nالغرف موزعة بطريقة عشوائية والإفطار هو نقانق باردة سخيفة ونفس السلطة القديمة في كل يوم.\\r\\nكان مكيف الهواء يثير الضوضاء في الغرفة ومن المستحيل إيقافه.\\r\\nولكن مركز صحي رائع\\r\\n</td>\n",
              "      <td>0</td>\n",
              "    </tr>\n",
              "    <tr>\n",
              "      <th>4</th>\n",
              "      <td>فندق جميل مع سوء الإدارة والخدمات.  \\r\\nمن الخارج بدا مبشرًا، لكن خيبة الأمل بدأت في وقت الغداء، جودة الطعام سيئة سيئة سيئة، والحساء كان مزريًا جدًا، والفواكه جودتها سيئة (البكيخ كان متعفنًا، واو!). اشتكى زملائي من عدم وجود مناشف في غرفهم في حوالي الساعة 8 مساءً، والبعض لم تكن أسرّتهم مرتبة حتى الساعة 5 مساءً. تناولنا عشاء مكسيكيًا ومرة أخرى كانت قائمة الطعام مزرية. لن أقيم هنا أبدًا، على الأقل أتحدث عن نفسي!</td>\n",
              "      <td>-1</td>\n",
              "    </tr>\n",
              "  </tbody>\n",
              "</table>\n",
              "</div>\n",
              "      <button class=\"colab-df-convert\" onclick=\"convertToInteractive('df-eca5cdb2-a968-457e-80db-7973fe3a96ec')\"\n",
              "              title=\"Convert this dataframe to an interactive table.\"\n",
              "              style=\"display:none;\">\n",
              "        \n",
              "  <svg xmlns=\"http://www.w3.org/2000/svg\" height=\"24px\"viewBox=\"0 0 24 24\"\n",
              "       width=\"24px\">\n",
              "    <path d=\"M0 0h24v24H0V0z\" fill=\"none\"/>\n",
              "    <path d=\"M18.56 5.44l.94 2.06.94-2.06 2.06-.94-2.06-.94-.94-2.06-.94 2.06-2.06.94zm-11 1L8.5 8.5l.94-2.06 2.06-.94-2.06-.94L8.5 2.5l-.94 2.06-2.06.94zm10 10l.94 2.06.94-2.06 2.06-.94-2.06-.94-.94-2.06-.94 2.06-2.06.94z\"/><path d=\"M17.41 7.96l-1.37-1.37c-.4-.4-.92-.59-1.43-.59-.52 0-1.04.2-1.43.59L10.3 9.45l-7.72 7.72c-.78.78-.78 2.05 0 2.83L4 21.41c.39.39.9.59 1.41.59.51 0 1.02-.2 1.41-.59l7.78-7.78 2.81-2.81c.8-.78.8-2.07 0-2.86zM5.41 20L4 18.59l7.72-7.72 1.47 1.35L5.41 20z\"/>\n",
              "  </svg>\n",
              "      </button>\n",
              "      \n",
              "  <style>\n",
              "    .colab-df-container {\n",
              "      display:flex;\n",
              "      flex-wrap:wrap;\n",
              "      gap: 12px;\n",
              "    }\n",
              "\n",
              "    .colab-df-convert {\n",
              "      background-color: #E8F0FE;\n",
              "      border: none;\n",
              "      border-radius: 50%;\n",
              "      cursor: pointer;\n",
              "      display: none;\n",
              "      fill: #1967D2;\n",
              "      height: 32px;\n",
              "      padding: 0 0 0 0;\n",
              "      width: 32px;\n",
              "    }\n",
              "\n",
              "    .colab-df-convert:hover {\n",
              "      background-color: #E2EBFA;\n",
              "      box-shadow: 0px 1px 2px rgba(60, 64, 67, 0.3), 0px 1px 3px 1px rgba(60, 64, 67, 0.15);\n",
              "      fill: #174EA6;\n",
              "    }\n",
              "\n",
              "    [theme=dark] .colab-df-convert {\n",
              "      background-color: #3B4455;\n",
              "      fill: #D2E3FC;\n",
              "    }\n",
              "\n",
              "    [theme=dark] .colab-df-convert:hover {\n",
              "      background-color: #434B5C;\n",
              "      box-shadow: 0px 1px 3px 1px rgba(0, 0, 0, 0.15);\n",
              "      filter: drop-shadow(0px 1px 2px rgba(0, 0, 0, 0.3));\n",
              "      fill: #FFFFFF;\n",
              "    }\n",
              "  </style>\n",
              "\n",
              "      <script>\n",
              "        const buttonEl =\n",
              "          document.querySelector('#df-eca5cdb2-a968-457e-80db-7973fe3a96ec button.colab-df-convert');\n",
              "        buttonEl.style.display =\n",
              "          google.colab.kernel.accessAllowed ? 'block' : 'none';\n",
              "\n",
              "        async function convertToInteractive(key) {\n",
              "          const element = document.querySelector('#df-eca5cdb2-a968-457e-80db-7973fe3a96ec');\n",
              "          const dataTable =\n",
              "            await google.colab.kernel.invokeFunction('convertToInteractive',\n",
              "                                                     [key], {});\n",
              "          if (!dataTable) return;\n",
              "\n",
              "          const docLinkHtml = 'Like what you see? Visit the ' +\n",
              "            '<a target=\"_blank\" href=https://colab.research.google.com/notebooks/data_table.ipynb>data table notebook</a>'\n",
              "            + ' to learn more about interactive tables.';\n",
              "          element.innerHTML = '';\n",
              "          dataTable['output_type'] = 'display_data';\n",
              "          await google.colab.output.renderOutput(dataTable, element);\n",
              "          const docLink = document.createElement('div');\n",
              "          docLink.innerHTML = docLinkHtml;\n",
              "          element.appendChild(docLink);\n",
              "        }\n",
              "      </script>\n",
              "    </div>\n",
              "  </div>\n",
              "  "
            ]
          },
          "metadata": {},
          "execution_count": 9
        }
      ],
      "source": [
        "import pandas as pd\n",
        "url ='https://github.com/hadyelsahar/large-arabic-sentiment-analysis-resouces/blob/master/datasets/HTL.csv?raw=true'\n",
        "df_u = pd.read_csv(url, encoding='utf-8')#,sep=\";\",header=None)\n",
        "df_u.head()"
      ]
    },
    {
      "cell_type": "code",
      "execution_count": null,
      "metadata": {
        "colab": {
          "base_uri": "https://localhost:8080/"
        },
        "id": "XIYohS1qhLFN",
        "outputId": "0b50092f-a62b-4795-b551-44fffa0eb899"
      },
      "outputs": [
        {
          "output_type": "execute_result",
          "data": {
            "text/plain": [
              "Index(['text', 'polarity'], dtype='object')"
            ]
          },
          "metadata": {},
          "execution_count": 10
        }
      ],
      "source": [
        "df_u.columns"
      ]
    },
    {
      "cell_type": "code",
      "execution_count": null,
      "metadata": {
        "colab": {
          "base_uri": "https://localhost:8080/"
        },
        "id": "QVioUlIKhLFR",
        "outputId": "941a33c9-d06a-4a55-fce2-eeaf6d7cf959"
      },
      "outputs": [
        {
          "output_type": "execute_result",
          "data": {
            "text/plain": [
              "15572"
            ]
          },
          "metadata": {},
          "execution_count": 11
        }
      ],
      "source": [
        "len(df_u)"
      ]
    },
    {
      "cell_type": "markdown",
      "metadata": {
        "id": "qZr0bRlWhLFU"
      },
      "source": [
        "Text Preprocessing"
      ]
    },
    {
      "cell_type": "code",
      "execution_count": null,
      "metadata": {
        "id": "VI9brFwthLFX"
      },
      "outputs": [],
      "source": [
        "def text_normalization(x):\n",
        "    #x=x .str.strip()\n",
        "    x=x.replace({' +':' '},regex=True)\n",
        "    x = x.replace(\"  \",' ', regex=True)\n",
        "    x=x.replace('ة','ه', regex=True)\n",
        "    x=x.replace('أ','ا', regex=True)\n",
        "    x=x.replace('إ','ا', regex=True)\n",
        "    x = x.replace('\\n&\\n',' ', regex=True)\n",
        "    x = x.replace('&',' ', regex=True)\n",
        "    x = x.replace('\\n',' ', regex=True)\n",
        "    x = x.replace('/',' ', regex=True)\n",
        "    x = x.replace('”',' ', regex=True)\n",
        "    x = x.replace('“',' ', regex=True)\n",
        "    x = x.replace('\"',' ', regex=True)\n",
        "    x = x.replace('!',' ', regex=True)\n",
        "    x = x.replace('\\r',' ', regex=True)\n",
        "    x=x.replace(r'[\\(\\)\\d]', ' ',regex=True)\n",
        "    return x\n",
        "\n",
        "def normalizeArabic(text):\n",
        "    noise = re.compile(\"\"\" ّ    | # Tashdid\n",
        "                             َ    | # Fatha\n",
        "                             ً    | # Tanwin Fath\n",
        "                             ُ    | # Damma\n",
        "                             ٌ    | # Tanwin Damm\n",
        "                             ِ    | # Kasra\n",
        "                             ٍ    | # Tanwin Kasr\n",
        "                             ْ    | # Sukun\n",
        "                             ـ     # Tatwil/Kashida\n",
        "                         \"\"\", re.VERBOSE)\n",
        "    text = re.sub(noise, '', text)\n",
        "    text = re.sub(r'(.)\\1+', r\"\\1\\1\", text) # Remove longation\n",
        "    return araby.strip_tashkeel(text)\n",
        " "
      ]
    },
    {
      "cell_type": "code",
      "execution_count": null,
      "metadata": {
        "id": "EQ13dVQxhLFa"
      },
      "outputs": [],
      "source": [
        "df1['text1']=text_normalization(df['text'])\n",
        "df1['text2']=df1['text1'].apply(normalizeArabic)\n",
        "\n",
        "df_u['text1']=text_normalization(df_u['text'])\n",
        "df_u['text2']=df_u['text1'].apply(normalizeArabic)\n",
        "\n"
      ]
    },
    {
      "cell_type": "code",
      "execution_count": null,
      "metadata": {
        "id": "rELDhQyyhLFc",
        "outputId": "5e747905-21f7-4c60-8d45-1a883e0040e0",
        "colab": {
          "base_uri": "https://localhost:8080/",
          "height": 35
        }
      },
      "outputs": [
        {
          "output_type": "execute_result",
          "data": {
            "text/plain": [
              "'ضعيف. شبكه الواي فاي فقط لاغير. الافطار لم يرتقي لمستوى المقبول.الحمام سئ جدا جدا وصغير الحجم .عدم الراحه بالنوم بسبب سماع الشارع من الخارج و ذلك يعود لعدم اغلاق الشبابيك باحكام.'"
            ],
            "application/vnd.google.colaboratory.intrinsic+json": {
              "type": "string"
            }
          },
          "metadata": {},
          "execution_count": 36
        }
      ],
      "source": [
        "df1['text1'][140]#.unique()"
      ]
    },
    {
      "cell_type": "code",
      "execution_count": null,
      "metadata": {
        "id": "MPSs-XjghLFf",
        "outputId": "a52b3174-e12b-4454-8085-16158de3bc3e",
        "colab": {
          "base_uri": "https://localhost:8080/",
          "height": 745
        }
      },
      "outputs": [
        {
          "output_type": "execute_result",
          "data": {
            "text/plain": [
              "                                                                                                                                                                                                                                                                                                                                                                                                                                                                                                                                                                                                                                                                                                                                                                                                                                                                                                                                                                                                                                                                                                                                                                                             text1\n",
              "0      المكان الذي يمكنك فيه مراجعه الذات والتفكر هو كوكروبيت، غانا....   ثمه الكثير عند زياره غانا. وعلى الرغم من الفقر الذي سوف تلاحظه على طريقك الى بيغ ميلي باكيارد، وجدت ان الناس في غانا يملكون ثراء القلب حتى رغم العوز. بيغ ميلي باكيارد هو مكان يمكنني فيه مراجعه الذات والتفكر . التقيت اشخاصاً كانوا يعملون على مبادرات مختلفه. بيغ ميلي هو مكان يمكننا فيه تبادل الملاحظات والآراء. بيغ ميلي مليء بالسلام وهادئ للغايه . الطعام ممتاز جداً  الطهاه ممتازون  وبالاضافه الى ذلك, لا بد من الاشاره الى ان العمال الذين لا يكلون، ويحرصون على سعاده نزلائهم هم من يجعلون المكان مضيافاً. هناك خيبه امل واحده كبيره   رغم ان الفنون والاشغال اليدويه يمكن شراؤها في الموقع الا ان الاسعار غاليه    مؤخراً ازالت السلطات في كوكروبيت محلات التجار الواقعه خارج شاطئ بيغ ميلي. كانت منتجات التجار ارخص  لا يزال هناك محل تجاري  متجر مايسترو للفن الافريقي في كوكروبيت  يعرض الفنون والاشغال اليدويه الفريده والملابس واللوحات. اشتريت لوحات مذهله لايمكنك ان تجدها في بيغ ميلي. عندما تزور بيغ ميلي من فضلك خذ لحظه للذهاب الى الشاطئ وعلى يمينك ستجد  متجر مايسترو للفن الافريقي  المذهل. لا تنخدع باسعار التجار في بيغ ميلي باكيارد. استمتع بالموسيقى والناس  الرجاء ان تقضي وقتاً ممتعاً.\n",
              "1                                                                                                                                                                                                                                                                                                                                                                موقع رائع وحديقه رائعه ويستحق نجمهّ اضافيه   على الرغم من ان الغرف ليست فاخره، فهي نظيفه جداً وتعمل بشكل مثالي. بالتاكيد هناك بعض التصرفات الفرديه والجماعيه، ولكن كان هناك تكييف هواء كبير وجيد ونوافذ مزدوجه جيده مع شاشات. منطقه الحديقه تحتوى على 3 مطاعم بالاضافه الى بار رياضي. تبلغ تكلفه الانترنت اللاسلكي 1:50 دولار للساعه، ولا يوجد خصم على الفترات الاطول، لذلك اضطررت الى اغلاق حاسوبي اكثر. اف و بي رخيص جداً. يبدو ان هناك العديد من الزوار الاجانب هناك. 85 دولار امريكي لليله بما في ذلك بوفيه افطار بمستوى نجمه واحده. اقامه افضل بكثير مما اعتقدت، سنعود بالتاكيد. شملت الاقامات السابقه فندق الافريقيه ريجنت و الدخول بالمطار غرب فندق (خيارريجينت افريكان وفندق ايربيورت ويست (خيار قوي لتلك المنطقه من المدينه). حركه المرور في اكرا مُصابه بالشلل، لذا قم بعقد اجتماعاتك في فندق بالوما - وهو معروف جيداً.\n",
              "2                                                                                                                                                                                                                                                                                                                                                                                                                                                                                                                                                                                                                                                                                                                                                                                                                                                                                                       اسوا فندق اقمت فيه على الاطلاق   يستغرق تسجيل الوصول حوالي 30 دقيقه، باهظ الثمن، غرف قديمه جداً وقذره، سجاده قذره جداً... فى المجمل تجربه سيئه للغايه.  مثل هذا الفندق سيكون في آسيا، نجمه واحده، ويمكن ان اذهب في مايو.  30 دولار امريكي.  السعر في فندق نوفوتيل حوالي 250 دولار امريكي  \n",
              "3                                                                                                                                                                                                                                                                                                                                                                                                                                                                                                                                                                                                                                                                                                                                                                                                                                                                                                                        بدون روح كانه فندق ثلاثه نجوم   بدون اداره احترافيه، فان هذا الفندق يبدو كمركب ضائع في البحر.  الغرف موزعه بطريقه عشوائيه والافطار هو نقانق بارده سخيفه ونفس السلطه القديمه في كل يوم.  كان مكيف الهواء يثير الضوضاء في الغرفه ومن المستحيل ايقافه.  ولكن مركز صحي رائع  \n",
              "4                                                                                                                                                                                                                                                                                                                                                                                                                                                                                                                                                                                                                                                                                                                                                                        فندق جميل مع سوء الاداره والخدمات.   من الخارج بدا مبشرًا، لكن خيبه الامل بدات في وقت الغداء، جوده الطعام سيئه سيئه سيئه، والحساء كان مزريًا جدًا، والفواكه جودتها سيئه (البكيخ كان متعفنًا، واو ). اشتكى زملائي من عدم وجود مناشف في غرفهم في حوالي الساعه 8 مساءً، والبعض لم تكن اسرّتهم مرتبه حتى الساعه 5 مساءً. تناولنا عشاء مكسيكيًا ومره اخرى كانت قائمه الطعام مزريه. لن اقيم هنا ابدًا، على الاقل اتحدث عن نفسي \n",
              "...                                                                                                                                                                                                                                                                                                                                                                                                                                                                                                                                                                                                                                                                                                                                                                                                                                                                                                                                                                                                                                                                                                                                                                                            ...\n",
              "15567                                                                                                                                                                                                                                                                                                                                                                                                                                                                                                                                                                                                                                                                                                                                                                                                                                                                                                                                       قريب من كل شي   جميل وهادي وكل شي حولك حتي المواقف هادي يصلح لزوجين لشهر العسل ابسالا مدينه حالمه طبيعه وهدوء انصح بالزياره والتمتع بجو المدينه تاريخ الفندق موقعه جداً ممتاز بقرب محطه القطار ورحابه الموظفين به جداً راقيه خدمه سريعه نظافته وتوفر  \n",
              "15568                                                                                                                                                                                                                                                                                                                                                                                                                                                                                                                                                                                                                                                                                                                                                                                                                                                                                                                                                          فندق رائع وممتاز   لقد نزلت بتاريخ 1 12 2013 في هذا الفندق وبقيت فيه بحدود 10 ايام وشهادت كل ما هو جيد من الراحه والخدمه شكرا لكم على كل ما قدمتموه وكم اتمنى ان اعود وانزل في هذا الفندق لانه يقع في قلب المدينه وكل شي قريب منك  \n",
              "15569                                                                                                                                                                                                                                                                                                                                                                                                                                                                                                                                                                                                                                                                                                                                                                                    جيد   الفندق بشكل عام ميزته انه يقع قرب مركز شرطه العاصمه وعموما اوغندا بها امان وليس من الخطوره السفر الى هناك يتميز الفندق انه رخيص وفي نفس الوقت مستوى نظافته ممتاز وهذا هو اهم شيء في تلك البلاد المطعم في الفندق بالنسبه الى باقي المطاعم في المدينه هو متوسط ولكن بالمقارنه بفنادق مدن اخرى فهو ضعيف ايضا به خدمه مساج في الغرف تاتيك المدلكه جميله سمراء تقوم بتدليك جسمك بالطريقه التي تعجبك :)  \n",
              "15570                                                                                                                                                                                                                                                                                                                                                                                                                                                                                                   احقر مكان على وجه الارض   انصح كل الذين يقومون بتصفح الفنادق عبر الانترنت بالتروى فى الاختيار فهذا المكان هو احقر ما وجدت فى المغرب فهو بعيد جدا عن مراكش وسط الزراعات والادغال ولاتوجد خدمه بالداخل ولا يوجد انترنت والتواليتات الخاصه بالغرف لا تعمل بشكل سليم ومسدوده والافطار عباره عن بيضه مسلوقه وقطعه من الجبن مع قليل من المربى والزبد البلدى والخبز اما الغداء والعشاء فالله كان بالسر عليم فلقد ندمنا على ما فعلنا وايضا وجدنا التواليت مسدود وعندما طلبنا تغييره قالو لنا بانهم قامو بدفع مبلغ من اجل اصلاحه فهل نحن ملتزمون بتصليح التواليت ؟ناهيك عن المكان الموجود به الفندق انه ليس فندق وانما هو قبر وسط الزراعات حيث لا حياه ولا بشر وهذا للامانه احببت ان انصح به غيرى  \n",
              "15571                                                                                                                                                                                                                                                                                                                                                                                                                                                                                                                                                                                                                                                                                                                                                                                                                                                                                                                                                                        ضيق جدا   الفندق ضيق جدا من حيث مساحه الغرف والحمامات اما مكانه ليس سئ قريب من اللوفر وبرج ايفل الطعام عندهم ماجربته لكن مستوى النظافه ممتاز المكان ماينفع لذوي الاحتياجات الخاصه  خاصه ان مصعدهم مره ضيق وقديم جدا  \n",
              "\n",
              "[15572 rows x 1 columns]"
            ],
            "text/html": [
              "\n",
              "  <div id=\"df-19dce3fe-3e6d-4ad0-957e-5b62984a57b2\">\n",
              "    <div class=\"colab-df-container\">\n",
              "      <div>\n",
              "<style scoped>\n",
              "    .dataframe tbody tr th:only-of-type {\n",
              "        vertical-align: middle;\n",
              "    }\n",
              "\n",
              "    .dataframe tbody tr th {\n",
              "        vertical-align: top;\n",
              "    }\n",
              "\n",
              "    .dataframe thead th {\n",
              "        text-align: right;\n",
              "    }\n",
              "</style>\n",
              "<table border=\"1\" class=\"dataframe\">\n",
              "  <thead>\n",
              "    <tr style=\"text-align: right;\">\n",
              "      <th></th>\n",
              "      <th>text1</th>\n",
              "    </tr>\n",
              "  </thead>\n",
              "  <tbody>\n",
              "    <tr>\n",
              "      <th>0</th>\n",
              "      <td>المكان الذي يمكنك فيه مراجعه الذات والتفكر هو كوكروبيت، غانا....   ثمه الكثير عند زياره غانا. وعلى الرغم من الفقر الذي سوف تلاحظه على طريقك الى بيغ ميلي باكيارد، وجدت ان الناس في غانا يملكون ثراء القلب حتى رغم العوز. بيغ ميلي باكيارد هو مكان يمكنني فيه مراجعه الذات والتفكر . التقيت اشخاصاً كانوا يعملون على مبادرات مختلفه. بيغ ميلي هو مكان يمكننا فيه تبادل الملاحظات والآراء. بيغ ميلي مليء بالسلام وهادئ للغايه . الطعام ممتاز جداً  الطهاه ممتازون  وبالاضافه الى ذلك, لا بد من الاشاره الى ان العمال الذين لا يكلون، ويحرصون على سعاده نزلائهم هم من يجعلون المكان مضيافاً. هناك خيبه امل واحده كبيره   رغم ان الفنون والاشغال اليدويه يمكن شراؤها في الموقع الا ان الاسعار غاليه    مؤخراً ازالت السلطات في كوكروبيت محلات التجار الواقعه خارج شاطئ بيغ ميلي. كانت منتجات التجار ارخص  لا يزال هناك محل تجاري  متجر مايسترو للفن الافريقي في كوكروبيت  يعرض الفنون والاشغال اليدويه الفريده والملابس واللوحات. اشتريت لوحات مذهله لايمكنك ان تجدها في بيغ ميلي. عندما تزور بيغ ميلي من فضلك خذ لحظه للذهاب الى الشاطئ وعلى يمينك ستجد  متجر مايسترو للفن الافريقي  المذهل. لا تنخدع باسعار التجار في بيغ ميلي باكيارد. استمتع بالموسيقى والناس  الرجاء ان تقضي وقتاً ممتعاً.</td>\n",
              "    </tr>\n",
              "    <tr>\n",
              "      <th>1</th>\n",
              "      <td>موقع رائع وحديقه رائعه ويستحق نجمهّ اضافيه   على الرغم من ان الغرف ليست فاخره، فهي نظيفه جداً وتعمل بشكل مثالي. بالتاكيد هناك بعض التصرفات الفرديه والجماعيه، ولكن كان هناك تكييف هواء كبير وجيد ونوافذ مزدوجه جيده مع شاشات. منطقه الحديقه تحتوى على 3 مطاعم بالاضافه الى بار رياضي. تبلغ تكلفه الانترنت اللاسلكي 1:50 دولار للساعه، ولا يوجد خصم على الفترات الاطول، لذلك اضطررت الى اغلاق حاسوبي اكثر. اف و بي رخيص جداً. يبدو ان هناك العديد من الزوار الاجانب هناك. 85 دولار امريكي لليله بما في ذلك بوفيه افطار بمستوى نجمه واحده. اقامه افضل بكثير مما اعتقدت، سنعود بالتاكيد. شملت الاقامات السابقه فندق الافريقيه ريجنت و الدخول بالمطار غرب فندق (خيارريجينت افريكان وفندق ايربيورت ويست (خيار قوي لتلك المنطقه من المدينه). حركه المرور في اكرا مُصابه بالشلل، لذا قم بعقد اجتماعاتك في فندق بالوما - وهو معروف جيداً.</td>\n",
              "    </tr>\n",
              "    <tr>\n",
              "      <th>2</th>\n",
              "      <td>اسوا فندق اقمت فيه على الاطلاق   يستغرق تسجيل الوصول حوالي 30 دقيقه، باهظ الثمن، غرف قديمه جداً وقذره، سجاده قذره جداً... فى المجمل تجربه سيئه للغايه.  مثل هذا الفندق سيكون في آسيا، نجمه واحده، ويمكن ان اذهب في مايو.  30 دولار امريكي.  السعر في فندق نوفوتيل حوالي 250 دولار امريكي</td>\n",
              "    </tr>\n",
              "    <tr>\n",
              "      <th>3</th>\n",
              "      <td>بدون روح كانه فندق ثلاثه نجوم   بدون اداره احترافيه، فان هذا الفندق يبدو كمركب ضائع في البحر.  الغرف موزعه بطريقه عشوائيه والافطار هو نقانق بارده سخيفه ونفس السلطه القديمه في كل يوم.  كان مكيف الهواء يثير الضوضاء في الغرفه ومن المستحيل ايقافه.  ولكن مركز صحي رائع</td>\n",
              "    </tr>\n",
              "    <tr>\n",
              "      <th>4</th>\n",
              "      <td>فندق جميل مع سوء الاداره والخدمات.   من الخارج بدا مبشرًا، لكن خيبه الامل بدات في وقت الغداء، جوده الطعام سيئه سيئه سيئه، والحساء كان مزريًا جدًا، والفواكه جودتها سيئه (البكيخ كان متعفنًا، واو ). اشتكى زملائي من عدم وجود مناشف في غرفهم في حوالي الساعه 8 مساءً، والبعض لم تكن اسرّتهم مرتبه حتى الساعه 5 مساءً. تناولنا عشاء مكسيكيًا ومره اخرى كانت قائمه الطعام مزريه. لن اقيم هنا ابدًا، على الاقل اتحدث عن نفسي</td>\n",
              "    </tr>\n",
              "    <tr>\n",
              "      <th>...</th>\n",
              "      <td>...</td>\n",
              "    </tr>\n",
              "    <tr>\n",
              "      <th>15567</th>\n",
              "      <td>قريب من كل شي   جميل وهادي وكل شي حولك حتي المواقف هادي يصلح لزوجين لشهر العسل ابسالا مدينه حالمه طبيعه وهدوء انصح بالزياره والتمتع بجو المدينه تاريخ الفندق موقعه جداً ممتاز بقرب محطه القطار ورحابه الموظفين به جداً راقيه خدمه سريعه نظافته وتوفر</td>\n",
              "    </tr>\n",
              "    <tr>\n",
              "      <th>15568</th>\n",
              "      <td>فندق رائع وممتاز   لقد نزلت بتاريخ 1 12 2013 في هذا الفندق وبقيت فيه بحدود 10 ايام وشهادت كل ما هو جيد من الراحه والخدمه شكرا لكم على كل ما قدمتموه وكم اتمنى ان اعود وانزل في هذا الفندق لانه يقع في قلب المدينه وكل شي قريب منك</td>\n",
              "    </tr>\n",
              "    <tr>\n",
              "      <th>15569</th>\n",
              "      <td>جيد   الفندق بشكل عام ميزته انه يقع قرب مركز شرطه العاصمه وعموما اوغندا بها امان وليس من الخطوره السفر الى هناك يتميز الفندق انه رخيص وفي نفس الوقت مستوى نظافته ممتاز وهذا هو اهم شيء في تلك البلاد المطعم في الفندق بالنسبه الى باقي المطاعم في المدينه هو متوسط ولكن بالمقارنه بفنادق مدن اخرى فهو ضعيف ايضا به خدمه مساج في الغرف تاتيك المدلكه جميله سمراء تقوم بتدليك جسمك بالطريقه التي تعجبك :)</td>\n",
              "    </tr>\n",
              "    <tr>\n",
              "      <th>15570</th>\n",
              "      <td>احقر مكان على وجه الارض   انصح كل الذين يقومون بتصفح الفنادق عبر الانترنت بالتروى فى الاختيار فهذا المكان هو احقر ما وجدت فى المغرب فهو بعيد جدا عن مراكش وسط الزراعات والادغال ولاتوجد خدمه بالداخل ولا يوجد انترنت والتواليتات الخاصه بالغرف لا تعمل بشكل سليم ومسدوده والافطار عباره عن بيضه مسلوقه وقطعه من الجبن مع قليل من المربى والزبد البلدى والخبز اما الغداء والعشاء فالله كان بالسر عليم فلقد ندمنا على ما فعلنا وايضا وجدنا التواليت مسدود وعندما طلبنا تغييره قالو لنا بانهم قامو بدفع مبلغ من اجل اصلاحه فهل نحن ملتزمون بتصليح التواليت ؟ناهيك عن المكان الموجود به الفندق انه ليس فندق وانما هو قبر وسط الزراعات حيث لا حياه ولا بشر وهذا للامانه احببت ان انصح به غيرى</td>\n",
              "    </tr>\n",
              "    <tr>\n",
              "      <th>15571</th>\n",
              "      <td>ضيق جدا   الفندق ضيق جدا من حيث مساحه الغرف والحمامات اما مكانه ليس سئ قريب من اللوفر وبرج ايفل الطعام عندهم ماجربته لكن مستوى النظافه ممتاز المكان ماينفع لذوي الاحتياجات الخاصه  خاصه ان مصعدهم مره ضيق وقديم جدا</td>\n",
              "    </tr>\n",
              "  </tbody>\n",
              "</table>\n",
              "<p>15572 rows × 1 columns</p>\n",
              "</div>\n",
              "      <button class=\"colab-df-convert\" onclick=\"convertToInteractive('df-19dce3fe-3e6d-4ad0-957e-5b62984a57b2')\"\n",
              "              title=\"Convert this dataframe to an interactive table.\"\n",
              "              style=\"display:none;\">\n",
              "        \n",
              "  <svg xmlns=\"http://www.w3.org/2000/svg\" height=\"24px\"viewBox=\"0 0 24 24\"\n",
              "       width=\"24px\">\n",
              "    <path d=\"M0 0h24v24H0V0z\" fill=\"none\"/>\n",
              "    <path d=\"M18.56 5.44l.94 2.06.94-2.06 2.06-.94-2.06-.94-.94-2.06-.94 2.06-2.06.94zm-11 1L8.5 8.5l.94-2.06 2.06-.94-2.06-.94L8.5 2.5l-.94 2.06-2.06.94zm10 10l.94 2.06.94-2.06 2.06-.94-2.06-.94-.94-2.06-.94 2.06-2.06.94z\"/><path d=\"M17.41 7.96l-1.37-1.37c-.4-.4-.92-.59-1.43-.59-.52 0-1.04.2-1.43.59L10.3 9.45l-7.72 7.72c-.78.78-.78 2.05 0 2.83L4 21.41c.39.39.9.59 1.41.59.51 0 1.02-.2 1.41-.59l7.78-7.78 2.81-2.81c.8-.78.8-2.07 0-2.86zM5.41 20L4 18.59l7.72-7.72 1.47 1.35L5.41 20z\"/>\n",
              "  </svg>\n",
              "      </button>\n",
              "      \n",
              "  <style>\n",
              "    .colab-df-container {\n",
              "      display:flex;\n",
              "      flex-wrap:wrap;\n",
              "      gap: 12px;\n",
              "    }\n",
              "\n",
              "    .colab-df-convert {\n",
              "      background-color: #E8F0FE;\n",
              "      border: none;\n",
              "      border-radius: 50%;\n",
              "      cursor: pointer;\n",
              "      display: none;\n",
              "      fill: #1967D2;\n",
              "      height: 32px;\n",
              "      padding: 0 0 0 0;\n",
              "      width: 32px;\n",
              "    }\n",
              "\n",
              "    .colab-df-convert:hover {\n",
              "      background-color: #E2EBFA;\n",
              "      box-shadow: 0px 1px 2px rgba(60, 64, 67, 0.3), 0px 1px 3px 1px rgba(60, 64, 67, 0.15);\n",
              "      fill: #174EA6;\n",
              "    }\n",
              "\n",
              "    [theme=dark] .colab-df-convert {\n",
              "      background-color: #3B4455;\n",
              "      fill: #D2E3FC;\n",
              "    }\n",
              "\n",
              "    [theme=dark] .colab-df-convert:hover {\n",
              "      background-color: #434B5C;\n",
              "      box-shadow: 0px 1px 3px 1px rgba(0, 0, 0, 0.15);\n",
              "      filter: drop-shadow(0px 1px 2px rgba(0, 0, 0, 0.3));\n",
              "      fill: #FFFFFF;\n",
              "    }\n",
              "  </style>\n",
              "\n",
              "      <script>\n",
              "        const buttonEl =\n",
              "          document.querySelector('#df-19dce3fe-3e6d-4ad0-957e-5b62984a57b2 button.colab-df-convert');\n",
              "        buttonEl.style.display =\n",
              "          google.colab.kernel.accessAllowed ? 'block' : 'none';\n",
              "\n",
              "        async function convertToInteractive(key) {\n",
              "          const element = document.querySelector('#df-19dce3fe-3e6d-4ad0-957e-5b62984a57b2');\n",
              "          const dataTable =\n",
              "            await google.colab.kernel.invokeFunction('convertToInteractive',\n",
              "                                                     [key], {});\n",
              "          if (!dataTable) return;\n",
              "\n",
              "          const docLinkHtml = 'Like what you see? Visit the ' +\n",
              "            '<a target=\"_blank\" href=https://colab.research.google.com/notebooks/data_table.ipynb>data table notebook</a>'\n",
              "            + ' to learn more about interactive tables.';\n",
              "          element.innerHTML = '';\n",
              "          dataTable['output_type'] = 'display_data';\n",
              "          await google.colab.output.renderOutput(dataTable, element);\n",
              "          const docLink = document.createElement('div');\n",
              "          docLink.innerHTML = docLinkHtml;\n",
              "          element.appendChild(docLink);\n",
              "        }\n",
              "      </script>\n",
              "    </div>\n",
              "  </div>\n",
              "  "
            ]
          },
          "metadata": {},
          "execution_count": 37
        }
      ],
      "source": [
        "df_u['text2'].to_frame()"
      ]
    },
    {
      "cell_type": "code",
      "execution_count": null,
      "metadata": {
        "id": "5KXVhaK4hLFi"
      },
      "outputs": [],
      "source": [
        "#df[\"Description_clean\"] = df.Description.map(preprocess)"
      ]
    },
    {
      "cell_type": "code",
      "execution_count": null,
      "metadata": {
        "id": "NDGOhNvNhLFm",
        "colab": {
          "base_uri": "https://localhost:8080/"
        },
        "outputId": "8b00da47-aadc-4825-d252-fb755292772d"
      },
      "outputs": [
        {
          "output_type": "stream",
          "name": "stderr",
          "text": [
            "/usr/local/lib/python3.7/dist-packages/ipykernel_launcher.py:1: SettingWithCopyWarning: \n",
            "A value is trying to be set on a copy of a slice from a DataFrame.\n",
            "Try using .loc[row_indexer,col_indexer] = value instead\n",
            "\n",
            "See the caveats in the documentation: https://pandas.pydata.org/pandas-docs/stable/user_guide/indexing.html#returning-a-view-versus-a-copy\n",
            "  \"\"\"Entry point for launching an IPython kernel.\n",
            "/usr/local/lib/python3.7/dist-packages/pandas/core/indexing.py:1732: SettingWithCopyWarning: \n",
            "A value is trying to be set on a copy of a slice from a DataFrame\n",
            "\n",
            "See the caveats in the documentation: https://pandas.pydata.org/pandas-docs/stable/user_guide/indexing.html#returning-a-view-versus-a-copy\n",
            "  self._setitem_single_block(indexer, value, name)\n"
          ]
        }
      ],
      "source": [
        "df1['text12']=''\n",
        "for i in range(len(df1)):\n",
        "   print(i)\n",
        "   #df['text1'].iloc[i]=text_normalization(df['text'].iloc[i])\n",
        "   df1['text12'].iloc[i]=re.sub(r'[^\\w.]', ' ', df1['text2'].iloc[i])\n",
        "   df1['text12'].iloc[i]=re.sub(r'[^\\w\\s]', '', df1['text2'].iloc[i])\n",
        "   df1['text12'].iloc[i]= re.sub(r'(.)\\1+', r\"\\1\\1\", df1['text2'].iloc[i]) # Remove longation\n",
        "   #df['text12'].iloc[i]= df['text1'].iloc[i].replace(r'[^\\w\\s]+', '')\n",
        "   df1['text12'].iloc[i]=re.sub('\\s+',' ',df1['text2'].iloc[i])\n",
        "   df1['text12'].iloc[i]=re.sub(r\"([\\w/'+$\\s-]+|[^\\w/'+$\\s-]+)\\s*\", r\"\\1 \", df1['text2'].iloc[i])\n",
        "   df1['text12'].iloc[i]=araby.strip_diacritics(df1['text2'].iloc[i]) #remove tashkeel\n",
        "   df1['text12'].iloc[i]=re.sub(f\"[{re.escape(punctuation)}]\", \" \", df1['text2'].iloc[i])  # Remove punctuation"
      ]
    },
    {
      "cell_type": "code",
      "execution_count": null,
      "metadata": {
        "id": "zFQIr184hLFp"
      },
      "outputs": [],
      "source": [
        "#f['text13']= re.sub(r'(.)\\1+', r\"\\1\\1\", str(df['text12'])) # Remove longation"
      ]
    },
    {
      "cell_type": "code",
      "execution_count": 1,
      "metadata": {
        "id": "0noiukfvhLFr"
      },
      "outputs": [],
      "source": [
        "df_u['text12']=''\n",
        "for i in range(len(df_u)):\n",
        "   print(i)\n",
        "   df_u['text12'].iloc[i]=re.sub(r'[^\\w.]', ' ', df_u['text2'].iloc[i])\n",
        "   df_u['text12'].iloc[i]=re.sub(r'[^\\w\\s]', '', df_u['text2'].iloc[i])\n",
        "   df_u['text12'].iloc[i]= re.sub(r'(.)\\1+', r\"\\1\\1\", df_u['text2'].iloc[i]) # Remove longation\n",
        "   df_u['text12'].iloc[i]=re.sub('\\s+',' ',df_u['text2'].iloc[i])\n",
        "   df_u['text12'].iloc[i]=re.sub(r\"([\\w/'+$\\s-]+|[^\\w/'+$\\s-]+)\\s*\", r\"\\1 \", df_u['text2'].iloc[i])\n",
        "   df_u['text12'].iloc[i]=araby.strip_diacritics(df_u['text2'].iloc[i])\n",
        "   df_u['text12'].iloc[i]=re.sub(f\"[{re.escape(punctuation)}]\", \" \", df_u['text2'].iloc[i])  # Remove punctuation"
      ]
    },
    {
      "cell_type": "code",
      "source": [
        "df1['text12'].to_frame()"
      ],
      "metadata": {
        "colab": {
          "base_uri": "https://localhost:8080/",
          "height": 485
        },
        "id": "WwJSdY2U0ztt",
        "outputId": "3f0137c9-2673-40be-f818-61144213eb27"
      },
      "execution_count": null,
      "outputs": [
        {
          "output_type": "execute_result",
          "data": {
            "text/plain": [
              "                                                                                                                                                                                                                                                                                                                                                                                                             text12\n",
              "1                                                                                                                                                                                                                                                                                                                                                                                   ممتاز   النظافه والطاقم متعاون \n",
              "2                                                                                                                                                                                                                                                                                                                                                                استثنائي  سهوله انهاء المعامله في الاستقبال  لاشيئ\n",
              "3                                                                                                                                                                                                                                                                                                                                               استثنائي  انصح باختيار الاسويت و بالاخص غرفه رقم 801  نوعيه الارضيه\n",
              "4                                                                                                                                                                                                                                                                                                                                                               استغرب تقييم الفندق كخمس نجوم   لا شي  يستحق 2 نجمه\n",
              "5                                                                                                                                                                                                                                                                                           جيد  المكان جميل وهاديء  كل شي جيد ونظيف بس كان حوض السباحه لايعمل في هذي الفتره حسب كلامهم يقولوا فيه صيانه والله اعلم\n",
              "...                                                                                                                                                                                                                                                                                                                                                                                                             ...\n",
              "105694                                                                                                                                                                                                                                                                           فند   لا شئ عجبني  طقم العمل سيئ جدالا يوجد بالفندق اي خدمات الحمامات و الغرفه غير نظيفه بالمره و رائحه كريهه و يوجد حشرات بالحمام\n",
              "105695                                                                                                                                                                                                                                                                      سيئ   قربه من المسجد النبوي الشريف  استخدام موظف الاستقبال للمواقف المخصصه للعملاء وحجز سياراتهم بسيارته دون مراعاه لاي طارئ او مسؤوليه\n",
              "105696   اسوا اقامه في الرحله     القرب من الحرم  كل شيء ازعاج عدم تجاوب الاستقبال الاثاث قديم ليست نظيفه زحام شديد جدا على المصاعد باب الغرفه يفتح بصعوبه تاخر في اجراءات الدخول غرفه كانت غير نظيفه والجيران ازعاجهم شديدطلبت تغييرها غيروها بغرفه بينها وبين الغرفه المجاوره باب فيه فتحه لايمكن الاطمئنان بسببها   يمكن من خلالها رؤيه من يمر الى دوره المياه  باختصار ندمت اني سكنت فيها  ولن اكررها باذن الله\n",
              "105697                                                                                                                                                                                                                                                                                                                                                                          دون المستوى   قربه من الحرم  كل شيء\n",
              "105698                                                                                                                                                                                                                                                                 مخيب للامل    سوء التنسيق من حيث معرفه الغرف بها زوار ام فارغه  حتى ان اداره الفندق كل ساعتين يرسلوا احد العمال ليتاكد من خلو الغرفه من عدمه\n",
              "\n",
              "[105698 rows x 1 columns]"
            ],
            "text/html": [
              "\n",
              "  <div id=\"df-104d17f1-d3de-4f62-8a7a-4b7b9630255a\">\n",
              "    <div class=\"colab-df-container\">\n",
              "      <div>\n",
              "<style scoped>\n",
              "    .dataframe tbody tr th:only-of-type {\n",
              "        vertical-align: middle;\n",
              "    }\n",
              "\n",
              "    .dataframe tbody tr th {\n",
              "        vertical-align: top;\n",
              "    }\n",
              "\n",
              "    .dataframe thead th {\n",
              "        text-align: right;\n",
              "    }\n",
              "</style>\n",
              "<table border=\"1\" class=\"dataframe\">\n",
              "  <thead>\n",
              "    <tr style=\"text-align: right;\">\n",
              "      <th></th>\n",
              "      <th>text12</th>\n",
              "    </tr>\n",
              "  </thead>\n",
              "  <tbody>\n",
              "    <tr>\n",
              "      <th>1</th>\n",
              "      <td>ممتاز   النظافه والطاقم متعاون</td>\n",
              "    </tr>\n",
              "    <tr>\n",
              "      <th>2</th>\n",
              "      <td>استثنائي  سهوله انهاء المعامله في الاستقبال  لاشيئ</td>\n",
              "    </tr>\n",
              "    <tr>\n",
              "      <th>3</th>\n",
              "      <td>استثنائي  انصح باختيار الاسويت و بالاخص غرفه رقم 801  نوعيه الارضيه</td>\n",
              "    </tr>\n",
              "    <tr>\n",
              "      <th>4</th>\n",
              "      <td>استغرب تقييم الفندق كخمس نجوم   لا شي  يستحق 2 نجمه</td>\n",
              "    </tr>\n",
              "    <tr>\n",
              "      <th>5</th>\n",
              "      <td>جيد  المكان جميل وهاديء  كل شي جيد ونظيف بس كان حوض السباحه لايعمل في هذي الفتره حسب كلامهم يقولوا فيه صيانه والله اعلم</td>\n",
              "    </tr>\n",
              "    <tr>\n",
              "      <th>...</th>\n",
              "      <td>...</td>\n",
              "    </tr>\n",
              "    <tr>\n",
              "      <th>105694</th>\n",
              "      <td>فند   لا شئ عجبني  طقم العمل سيئ جدالا يوجد بالفندق اي خدمات الحمامات و الغرفه غير نظيفه بالمره و رائحه كريهه و يوجد حشرات بالحمام</td>\n",
              "    </tr>\n",
              "    <tr>\n",
              "      <th>105695</th>\n",
              "      <td>سيئ   قربه من المسجد النبوي الشريف  استخدام موظف الاستقبال للمواقف المخصصه للعملاء وحجز سياراتهم بسيارته دون مراعاه لاي طارئ او مسؤوليه</td>\n",
              "    </tr>\n",
              "    <tr>\n",
              "      <th>105696</th>\n",
              "      <td>اسوا اقامه في الرحله     القرب من الحرم  كل شيء ازعاج عدم تجاوب الاستقبال الاثاث قديم ليست نظيفه زحام شديد جدا على المصاعد باب الغرفه يفتح بصعوبه تاخر في اجراءات الدخول غرفه كانت غير نظيفه والجيران ازعاجهم شديدطلبت تغييرها غيروها بغرفه بينها وبين الغرفه المجاوره باب فيه فتحه لايمكن الاطمئنان بسببها   يمكن من خلالها رؤيه من يمر الى دوره المياه  باختصار ندمت اني سكنت فيها  ولن اكررها باذن الله</td>\n",
              "    </tr>\n",
              "    <tr>\n",
              "      <th>105697</th>\n",
              "      <td>دون المستوى   قربه من الحرم  كل شيء</td>\n",
              "    </tr>\n",
              "    <tr>\n",
              "      <th>105698</th>\n",
              "      <td>مخيب للامل    سوء التنسيق من حيث معرفه الغرف بها زوار ام فارغه  حتى ان اداره الفندق كل ساعتين يرسلوا احد العمال ليتاكد من خلو الغرفه من عدمه</td>\n",
              "    </tr>\n",
              "  </tbody>\n",
              "</table>\n",
              "<p>105698 rows × 1 columns</p>\n",
              "</div>\n",
              "      <button class=\"colab-df-convert\" onclick=\"convertToInteractive('df-104d17f1-d3de-4f62-8a7a-4b7b9630255a')\"\n",
              "              title=\"Convert this dataframe to an interactive table.\"\n",
              "              style=\"display:none;\">\n",
              "        \n",
              "  <svg xmlns=\"http://www.w3.org/2000/svg\" height=\"24px\"viewBox=\"0 0 24 24\"\n",
              "       width=\"24px\">\n",
              "    <path d=\"M0 0h24v24H0V0z\" fill=\"none\"/>\n",
              "    <path d=\"M18.56 5.44l.94 2.06.94-2.06 2.06-.94-2.06-.94-.94-2.06-.94 2.06-2.06.94zm-11 1L8.5 8.5l.94-2.06 2.06-.94-2.06-.94L8.5 2.5l-.94 2.06-2.06.94zm10 10l.94 2.06.94-2.06 2.06-.94-2.06-.94-.94-2.06-.94 2.06-2.06.94z\"/><path d=\"M17.41 7.96l-1.37-1.37c-.4-.4-.92-.59-1.43-.59-.52 0-1.04.2-1.43.59L10.3 9.45l-7.72 7.72c-.78.78-.78 2.05 0 2.83L4 21.41c.39.39.9.59 1.41.59.51 0 1.02-.2 1.41-.59l7.78-7.78 2.81-2.81c.8-.78.8-2.07 0-2.86zM5.41 20L4 18.59l7.72-7.72 1.47 1.35L5.41 20z\"/>\n",
              "  </svg>\n",
              "      </button>\n",
              "      \n",
              "  <style>\n",
              "    .colab-df-container {\n",
              "      display:flex;\n",
              "      flex-wrap:wrap;\n",
              "      gap: 12px;\n",
              "    }\n",
              "\n",
              "    .colab-df-convert {\n",
              "      background-color: #E8F0FE;\n",
              "      border: none;\n",
              "      border-radius: 50%;\n",
              "      cursor: pointer;\n",
              "      display: none;\n",
              "      fill: #1967D2;\n",
              "      height: 32px;\n",
              "      padding: 0 0 0 0;\n",
              "      width: 32px;\n",
              "    }\n",
              "\n",
              "    .colab-df-convert:hover {\n",
              "      background-color: #E2EBFA;\n",
              "      box-shadow: 0px 1px 2px rgba(60, 64, 67, 0.3), 0px 1px 3px 1px rgba(60, 64, 67, 0.15);\n",
              "      fill: #174EA6;\n",
              "    }\n",
              "\n",
              "    [theme=dark] .colab-df-convert {\n",
              "      background-color: #3B4455;\n",
              "      fill: #D2E3FC;\n",
              "    }\n",
              "\n",
              "    [theme=dark] .colab-df-convert:hover {\n",
              "      background-color: #434B5C;\n",
              "      box-shadow: 0px 1px 3px 1px rgba(0, 0, 0, 0.15);\n",
              "      filter: drop-shadow(0px 1px 2px rgba(0, 0, 0, 0.3));\n",
              "      fill: #FFFFFF;\n",
              "    }\n",
              "  </style>\n",
              "\n",
              "      <script>\n",
              "        const buttonEl =\n",
              "          document.querySelector('#df-104d17f1-d3de-4f62-8a7a-4b7b9630255a button.colab-df-convert');\n",
              "        buttonEl.style.display =\n",
              "          google.colab.kernel.accessAllowed ? 'block' : 'none';\n",
              "\n",
              "        async function convertToInteractive(key) {\n",
              "          const element = document.querySelector('#df-104d17f1-d3de-4f62-8a7a-4b7b9630255a');\n",
              "          const dataTable =\n",
              "            await google.colab.kernel.invokeFunction('convertToInteractive',\n",
              "                                                     [key], {});\n",
              "          if (!dataTable) return;\n",
              "\n",
              "          const docLinkHtml = 'Like what you see? Visit the ' +\n",
              "            '<a target=\"_blank\" href=https://colab.research.google.com/notebooks/data_table.ipynb>data table notebook</a>'\n",
              "            + ' to learn more about interactive tables.';\n",
              "          element.innerHTML = '';\n",
              "          dataTable['output_type'] = 'display_data';\n",
              "          await google.colab.output.renderOutput(dataTable, element);\n",
              "          const docLink = document.createElement('div');\n",
              "          docLink.innerHTML = docLinkHtml;\n",
              "          element.appendChild(docLink);\n",
              "        }\n",
              "      </script>\n",
              "    </div>\n",
              "  </div>\n",
              "  "
            ]
          },
          "metadata": {},
          "execution_count": 42
        }
      ]
    },
    {
      "cell_type": "code",
      "source": [
        "df_u['text12'].to_frame()"
      ],
      "metadata": {
        "colab": {
          "base_uri": "https://localhost:8080/",
          "height": 728
        },
        "id": "m6gIsMkiiGHO",
        "outputId": "a77b8e08-ed37-4e96-cc59-6692eed328bf"
      },
      "execution_count": null,
      "outputs": [
        {
          "output_type": "execute_result",
          "data": {
            "text/plain": [
              "                                                                                                                                                                                                                                                                                                                                                                                                                                                                                                                                                                                                                                                                                                                                                                                                                                                                                                                                                                                                                                                                                                                                                                                            text12\n",
              "0      المكان الذي يمكنك فيه مراجعه الذات والتفكر هو كوكروبيت، غانا       ثمه الكثير عند زياره غانا  وعلى الرغم من الفقر الذي سوف تلاحظه على طريقك الى بيغ ميلي باكيارد، وجدت ان الناس في غانا يملكون ثراء القلب حتى رغم العوز  بيغ ميلي باكيارد هو مكان يمكنني فيه مراجعه الذات والتفكر   التقيت اشخاصاً كانوا يعملون على مبادرات مختلفه  بيغ ميلي هو مكان يمكننا فيه تبادل الملاحظات والآراء  بيغ ميلي مليء بالسلام وهادئ للغايه   الطعام ممتاز جداً  الطهاه ممتازون  وبالاضافه الى ذلك  لا بد من الاشاره الى ان العمال الذين لا يكلون، ويحرصون على سعاده نزلائهم هم من يجعلون المكان مضيافاً  هناك خيبه امل واحده كبيره   رغم ان الفنون والاشغال اليدويه يمكن شراؤها في الموقع الا ان الاسعار غاليه    مؤخراً ازالت السلطات في كوكروبيت محلات التجار الواقعه خارج شاطئ بيغ ميلي  كانت منتجات التجار ارخص  لا يزال هناك محل تجاري  متجر مايسترو للفن الافريقي في كوكروبيت  يعرض الفنون والاشغال اليدويه الفريده والملابس واللوحات  اشتريت لوحات مذهله لايمكنك ان تجدها في بيغ ميلي  عندما تزور بيغ ميلي من فضلك خذ لحظه للذهاب الى الشاطئ وعلى يمينك ستجد  متجر مايسترو للفن الافريقي  المذهل  لا تنخدع باسعار التجار في بيغ ميلي باكيارد  استمتع بالموسيقى والناس  الرجاء ان تقضي وقتاً ممتعاً \n",
              "1                                                                                                                                                                                                                                                                                                                                                                موقع رائع وحديقه رائعه ويستحق نجمهّ اضافيه   على الرغم من ان الغرف ليست فاخره، فهي نظيفه جداً وتعمل بشكل مثالي  بالتاكيد هناك بعض التصرفات الفرديه والجماعيه، ولكن كان هناك تكييف هواء كبير وجيد ونوافذ مزدوجه جيده مع شاشات  منطقه الحديقه تحتوى على 3 مطاعم بالاضافه الى بار رياضي  تبلغ تكلفه الانترنت اللاسلكي 1 50 دولار للساعه، ولا يوجد خصم على الفترات الاطول، لذلك اضطررت الى اغلاق حاسوبي اكثر  اف و بي رخيص جداً  يبدو ان هناك العديد من الزوار الاجانب هناك  85 دولار امريكي لليله بما في ذلك بوفيه افطار بمستوى نجمه واحده  اقامه افضل بكثير مما اعتقدت، سنعود بالتاكيد  شملت الاقامات السابقه فندق الافريقيه ريجنت و الدخول بالمطار غرب فندق  خيارريجينت افريكان وفندق ايربيورت ويست  خيار قوي لتلك المنطقه من المدينه   حركه المرور في اكرا مُصابه بالشلل، لذا قم بعقد اجتماعاتك في فندق بالوما   وهو معروف جيداً \n",
              "2                                                                                                                                                                                                                                                                                                                                                                                                                                                                                                                                                                                                                                                                                                                                                                                                                                                                                                       اسوا فندق اقمت فيه على الاطلاق   يستغرق تسجيل الوصول حوالي 30 دقيقه، باهظ الثمن، غرف قديمه جداً وقذره، سجاده قذره جداً    فى المجمل تجربه سيئه للغايه   مثل هذا الفندق سيكون في آسيا، نجمه واحده، ويمكن ان اذهب في مايو   30 دولار امريكي   السعر في فندق نوفوتيل حوالي 250 دولار امريكي  \n",
              "3                                                                                                                                                                                                                                                                                                                                                                                                                                                                                                                                                                                                                                                                                                                                                                                                                                                                                                                        بدون روح كانه فندق ثلاثه نجوم   بدون اداره احترافيه، فان هذا الفندق يبدو كمركب ضائع في البحر   الغرف موزعه بطريقه عشوائيه والافطار هو نقانق بارده سخيفه ونفس السلطه القديمه في كل يوم   كان مكيف الهواء يثير الضوضاء في الغرفه ومن المستحيل ايقافه   ولكن مركز صحي رائع  \n",
              "4                                                                                                                                                                                                                                                                                                                                                                                                                                                                                                                                                                                                                                                                                                                                                                        فندق جميل مع سوء الاداره والخدمات    من الخارج بدا مبشرًا، لكن خيبه الامل بدات في وقت الغداء، جوده الطعام سيئه سيئه سيئه، والحساء كان مزريًا جدًا، والفواكه جودتها سيئه  البكيخ كان متعفنًا، واو    اشتكى زملائي من عدم وجود مناشف في غرفهم في حوالي الساعه 8 مساءً، والبعض لم تكن اسرّتهم مرتبه حتى الساعه 5 مساءً  تناولنا عشاء مكسيكيًا ومره اخرى كانت قائمه الطعام مزريه  لن اقيم هنا ابدًا، على الاقل اتحدث عن نفسي \n",
              "...                                                                                                                                                                                                                                                                                                                                                                                                                                                                                                                                                                                                                                                                                                                                                                                                                                                                                                                                                                                                                                                                                                                                                                                            ...\n",
              "15567                                                                                                                                                                                                                                                                                                                                                                                                                                                                                                                                                                                                                                                                                                                                                                                                                                                                                                                                       قريب من كل شي   جميل وهادي وكل شي حولك حتي المواقف هادي يصلح لزوجين لشهر العسل ابسالا مدينه حالمه طبيعه وهدوء انصح بالزياره والتمتع بجو المدينه تاريخ الفندق موقعه جداً ممتاز بقرب محطه القطار ورحابه الموظفين به جداً راقيه خدمه سريعه نظافته وتوفر  \n",
              "15568                                                                                                                                                                                                                                                                                                                                                                                                                                                                                                                                                                                                                                                                                                                                                                                                                                                                                                                                                          فندق رائع وممتاز   لقد نزلت بتاريخ 1 12 2013 في هذا الفندق وبقيت فيه بحدود 10 ايام وشهادت كل ما هو جيد من الراحه والخدمه شكرا لكم على كل ما قدمتموه وكم اتمنى ان اعود وانزل في هذا الفندق لانه يقع في قلب المدينه وكل شي قريب منك  \n",
              "15569                                                                                                                                                                                                                                                                                                                                                                                                                                                                                                                                                                                                                                                                                                                                                                                    جيد   الفندق بشكل عام ميزته انه يقع قرب مركز شرطه العاصمه وعموما اوغندا بها امان وليس من الخطوره السفر الى هناك يتميز الفندق انه رخيص وفي نفس الوقت مستوى نظافته ممتاز وهذا هو اهم شيء في تلك البلاد المطعم في الفندق بالنسبه الى باقي المطاعم في المدينه هو متوسط ولكن بالمقارنه بفنادق مدن اخرى فهو ضعيف ايضا به خدمه مساج في الغرف تاتيك المدلكه جميله سمراء تقوم بتدليك جسمك بالطريقه التي تعجبك     \n",
              "15570                                                                                                                                                                                                                                                                                                                                                                                                                                                                                                   احقر مكان على وجه الارض   انصح كل الذين يقومون بتصفح الفنادق عبر الانترنت بالتروى فى الاختيار فهذا المكان هو احقر ما وجدت فى المغرب فهو بعيد جدا عن مراكش وسط الزراعات والادغال ولاتوجد خدمه بالداخل ولا يوجد انترنت والتواليتات الخاصه بالغرف لا تعمل بشكل سليم ومسدوده والافطار عباره عن بيضه مسلوقه وقطعه من الجبن مع قليل من المربى والزبد البلدى والخبز اما الغداء والعشاء فالله كان بالسر عليم فلقد ندمنا على ما فعلنا وايضا وجدنا التواليت مسدود وعندما طلبنا تغييره قالو لنا بانهم قامو بدفع مبلغ من اجل اصلاحه فهل نحن ملتزمون بتصليح التواليت ؟ناهيك عن المكان الموجود به الفندق انه ليس فندق وانما هو قبر وسط الزراعات حيث لا حياه ولا بشر وهذا للامانه احببت ان انصح به غيرى  \n",
              "15571                                                                                                                                                                                                                                                                                                                                                                                                                                                                                                                                                                                                                                                                                                                                                                                                                                                                                                                                                                        ضيق جدا   الفندق ضيق جدا من حيث مساحه الغرف والحمامات اما مكانه ليس سئ قريب من اللوفر وبرج ايفل الطعام عندهم ماجربته لكن مستوى النظافه ممتاز المكان ماينفع لذوي الاحتياجات الخاصه  خاصه ان مصعدهم مره ضيق وقديم جدا  \n",
              "\n",
              "[15572 rows x 1 columns]"
            ],
            "text/html": [
              "\n",
              "  <div id=\"df-41879f42-cd7e-4b24-aa3a-29247806acaa\">\n",
              "    <div class=\"colab-df-container\">\n",
              "      <div>\n",
              "<style scoped>\n",
              "    .dataframe tbody tr th:only-of-type {\n",
              "        vertical-align: middle;\n",
              "    }\n",
              "\n",
              "    .dataframe tbody tr th {\n",
              "        vertical-align: top;\n",
              "    }\n",
              "\n",
              "    .dataframe thead th {\n",
              "        text-align: right;\n",
              "    }\n",
              "</style>\n",
              "<table border=\"1\" class=\"dataframe\">\n",
              "  <thead>\n",
              "    <tr style=\"text-align: right;\">\n",
              "      <th></th>\n",
              "      <th>text12</th>\n",
              "    </tr>\n",
              "  </thead>\n",
              "  <tbody>\n",
              "    <tr>\n",
              "      <th>0</th>\n",
              "      <td>المكان الذي يمكنك فيه مراجعه الذات والتفكر هو كوكروبيت، غانا       ثمه الكثير عند زياره غانا  وعلى الرغم من الفقر الذي سوف تلاحظه على طريقك الى بيغ ميلي باكيارد، وجدت ان الناس في غانا يملكون ثراء القلب حتى رغم العوز  بيغ ميلي باكيارد هو مكان يمكنني فيه مراجعه الذات والتفكر   التقيت اشخاصاً كانوا يعملون على مبادرات مختلفه  بيغ ميلي هو مكان يمكننا فيه تبادل الملاحظات والآراء  بيغ ميلي مليء بالسلام وهادئ للغايه   الطعام ممتاز جداً  الطهاه ممتازون  وبالاضافه الى ذلك  لا بد من الاشاره الى ان العمال الذين لا يكلون، ويحرصون على سعاده نزلائهم هم من يجعلون المكان مضيافاً  هناك خيبه امل واحده كبيره   رغم ان الفنون والاشغال اليدويه يمكن شراؤها في الموقع الا ان الاسعار غاليه    مؤخراً ازالت السلطات في كوكروبيت محلات التجار الواقعه خارج شاطئ بيغ ميلي  كانت منتجات التجار ارخص  لا يزال هناك محل تجاري  متجر مايسترو للفن الافريقي في كوكروبيت  يعرض الفنون والاشغال اليدويه الفريده والملابس واللوحات  اشتريت لوحات مذهله لايمكنك ان تجدها في بيغ ميلي  عندما تزور بيغ ميلي من فضلك خذ لحظه للذهاب الى الشاطئ وعلى يمينك ستجد  متجر مايسترو للفن الافريقي  المذهل  لا تنخدع باسعار التجار في بيغ ميلي باكيارد  استمتع بالموسيقى والناس  الرجاء ان تقضي وقتاً ممتعاً</td>\n",
              "    </tr>\n",
              "    <tr>\n",
              "      <th>1</th>\n",
              "      <td>موقع رائع وحديقه رائعه ويستحق نجمهّ اضافيه   على الرغم من ان الغرف ليست فاخره، فهي نظيفه جداً وتعمل بشكل مثالي  بالتاكيد هناك بعض التصرفات الفرديه والجماعيه، ولكن كان هناك تكييف هواء كبير وجيد ونوافذ مزدوجه جيده مع شاشات  منطقه الحديقه تحتوى على 3 مطاعم بالاضافه الى بار رياضي  تبلغ تكلفه الانترنت اللاسلكي 1 50 دولار للساعه، ولا يوجد خصم على الفترات الاطول، لذلك اضطررت الى اغلاق حاسوبي اكثر  اف و بي رخيص جداً  يبدو ان هناك العديد من الزوار الاجانب هناك  85 دولار امريكي لليله بما في ذلك بوفيه افطار بمستوى نجمه واحده  اقامه افضل بكثير مما اعتقدت، سنعود بالتاكيد  شملت الاقامات السابقه فندق الافريقيه ريجنت و الدخول بالمطار غرب فندق  خيارريجينت افريكان وفندق ايربيورت ويست  خيار قوي لتلك المنطقه من المدينه   حركه المرور في اكرا مُصابه بالشلل، لذا قم بعقد اجتماعاتك في فندق بالوما   وهو معروف جيداً</td>\n",
              "    </tr>\n",
              "    <tr>\n",
              "      <th>2</th>\n",
              "      <td>اسوا فندق اقمت فيه على الاطلاق   يستغرق تسجيل الوصول حوالي 30 دقيقه، باهظ الثمن، غرف قديمه جداً وقذره، سجاده قذره جداً    فى المجمل تجربه سيئه للغايه   مثل هذا الفندق سيكون في آسيا، نجمه واحده، ويمكن ان اذهب في مايو   30 دولار امريكي   السعر في فندق نوفوتيل حوالي 250 دولار امريكي</td>\n",
              "    </tr>\n",
              "    <tr>\n",
              "      <th>3</th>\n",
              "      <td>بدون روح كانه فندق ثلاثه نجوم   بدون اداره احترافيه، فان هذا الفندق يبدو كمركب ضائع في البحر   الغرف موزعه بطريقه عشوائيه والافطار هو نقانق بارده سخيفه ونفس السلطه القديمه في كل يوم   كان مكيف الهواء يثير الضوضاء في الغرفه ومن المستحيل ايقافه   ولكن مركز صحي رائع</td>\n",
              "    </tr>\n",
              "    <tr>\n",
              "      <th>4</th>\n",
              "      <td>فندق جميل مع سوء الاداره والخدمات    من الخارج بدا مبشرًا، لكن خيبه الامل بدات في وقت الغداء، جوده الطعام سيئه سيئه سيئه، والحساء كان مزريًا جدًا، والفواكه جودتها سيئه  البكيخ كان متعفنًا، واو    اشتكى زملائي من عدم وجود مناشف في غرفهم في حوالي الساعه 8 مساءً، والبعض لم تكن اسرّتهم مرتبه حتى الساعه 5 مساءً  تناولنا عشاء مكسيكيًا ومره اخرى كانت قائمه الطعام مزريه  لن اقيم هنا ابدًا، على الاقل اتحدث عن نفسي</td>\n",
              "    </tr>\n",
              "    <tr>\n",
              "      <th>...</th>\n",
              "      <td>...</td>\n",
              "    </tr>\n",
              "    <tr>\n",
              "      <th>15567</th>\n",
              "      <td>قريب من كل شي   جميل وهادي وكل شي حولك حتي المواقف هادي يصلح لزوجين لشهر العسل ابسالا مدينه حالمه طبيعه وهدوء انصح بالزياره والتمتع بجو المدينه تاريخ الفندق موقعه جداً ممتاز بقرب محطه القطار ورحابه الموظفين به جداً راقيه خدمه سريعه نظافته وتوفر</td>\n",
              "    </tr>\n",
              "    <tr>\n",
              "      <th>15568</th>\n",
              "      <td>فندق رائع وممتاز   لقد نزلت بتاريخ 1 12 2013 في هذا الفندق وبقيت فيه بحدود 10 ايام وشهادت كل ما هو جيد من الراحه والخدمه شكرا لكم على كل ما قدمتموه وكم اتمنى ان اعود وانزل في هذا الفندق لانه يقع في قلب المدينه وكل شي قريب منك</td>\n",
              "    </tr>\n",
              "    <tr>\n",
              "      <th>15569</th>\n",
              "      <td>جيد   الفندق بشكل عام ميزته انه يقع قرب مركز شرطه العاصمه وعموما اوغندا بها امان وليس من الخطوره السفر الى هناك يتميز الفندق انه رخيص وفي نفس الوقت مستوى نظافته ممتاز وهذا هو اهم شيء في تلك البلاد المطعم في الفندق بالنسبه الى باقي المطاعم في المدينه هو متوسط ولكن بالمقارنه بفنادق مدن اخرى فهو ضعيف ايضا به خدمه مساج في الغرف تاتيك المدلكه جميله سمراء تقوم بتدليك جسمك بالطريقه التي تعجبك</td>\n",
              "    </tr>\n",
              "    <tr>\n",
              "      <th>15570</th>\n",
              "      <td>احقر مكان على وجه الارض   انصح كل الذين يقومون بتصفح الفنادق عبر الانترنت بالتروى فى الاختيار فهذا المكان هو احقر ما وجدت فى المغرب فهو بعيد جدا عن مراكش وسط الزراعات والادغال ولاتوجد خدمه بالداخل ولا يوجد انترنت والتواليتات الخاصه بالغرف لا تعمل بشكل سليم ومسدوده والافطار عباره عن بيضه مسلوقه وقطعه من الجبن مع قليل من المربى والزبد البلدى والخبز اما الغداء والعشاء فالله كان بالسر عليم فلقد ندمنا على ما فعلنا وايضا وجدنا التواليت مسدود وعندما طلبنا تغييره قالو لنا بانهم قامو بدفع مبلغ من اجل اصلاحه فهل نحن ملتزمون بتصليح التواليت ؟ناهيك عن المكان الموجود به الفندق انه ليس فندق وانما هو قبر وسط الزراعات حيث لا حياه ولا بشر وهذا للامانه احببت ان انصح به غيرى</td>\n",
              "    </tr>\n",
              "    <tr>\n",
              "      <th>15571</th>\n",
              "      <td>ضيق جدا   الفندق ضيق جدا من حيث مساحه الغرف والحمامات اما مكانه ليس سئ قريب من اللوفر وبرج ايفل الطعام عندهم ماجربته لكن مستوى النظافه ممتاز المكان ماينفع لذوي الاحتياجات الخاصه  خاصه ان مصعدهم مره ضيق وقديم جدا</td>\n",
              "    </tr>\n",
              "  </tbody>\n",
              "</table>\n",
              "<p>15572 rows × 1 columns</p>\n",
              "</div>\n",
              "      <button class=\"colab-df-convert\" onclick=\"convertToInteractive('df-41879f42-cd7e-4b24-aa3a-29247806acaa')\"\n",
              "              title=\"Convert this dataframe to an interactive table.\"\n",
              "              style=\"display:none;\">\n",
              "        \n",
              "  <svg xmlns=\"http://www.w3.org/2000/svg\" height=\"24px\"viewBox=\"0 0 24 24\"\n",
              "       width=\"24px\">\n",
              "    <path d=\"M0 0h24v24H0V0z\" fill=\"none\"/>\n",
              "    <path d=\"M18.56 5.44l.94 2.06.94-2.06 2.06-.94-2.06-.94-.94-2.06-.94 2.06-2.06.94zm-11 1L8.5 8.5l.94-2.06 2.06-.94-2.06-.94L8.5 2.5l-.94 2.06-2.06.94zm10 10l.94 2.06.94-2.06 2.06-.94-2.06-.94-.94-2.06-.94 2.06-2.06.94z\"/><path d=\"M17.41 7.96l-1.37-1.37c-.4-.4-.92-.59-1.43-.59-.52 0-1.04.2-1.43.59L10.3 9.45l-7.72 7.72c-.78.78-.78 2.05 0 2.83L4 21.41c.39.39.9.59 1.41.59.51 0 1.02-.2 1.41-.59l7.78-7.78 2.81-2.81c.8-.78.8-2.07 0-2.86zM5.41 20L4 18.59l7.72-7.72 1.47 1.35L5.41 20z\"/>\n",
              "  </svg>\n",
              "      </button>\n",
              "      \n",
              "  <style>\n",
              "    .colab-df-container {\n",
              "      display:flex;\n",
              "      flex-wrap:wrap;\n",
              "      gap: 12px;\n",
              "    }\n",
              "\n",
              "    .colab-df-convert {\n",
              "      background-color: #E8F0FE;\n",
              "      border: none;\n",
              "      border-radius: 50%;\n",
              "      cursor: pointer;\n",
              "      display: none;\n",
              "      fill: #1967D2;\n",
              "      height: 32px;\n",
              "      padding: 0 0 0 0;\n",
              "      width: 32px;\n",
              "    }\n",
              "\n",
              "    .colab-df-convert:hover {\n",
              "      background-color: #E2EBFA;\n",
              "      box-shadow: 0px 1px 2px rgba(60, 64, 67, 0.3), 0px 1px 3px 1px rgba(60, 64, 67, 0.15);\n",
              "      fill: #174EA6;\n",
              "    }\n",
              "\n",
              "    [theme=dark] .colab-df-convert {\n",
              "      background-color: #3B4455;\n",
              "      fill: #D2E3FC;\n",
              "    }\n",
              "\n",
              "    [theme=dark] .colab-df-convert:hover {\n",
              "      background-color: #434B5C;\n",
              "      box-shadow: 0px 1px 3px 1px rgba(0, 0, 0, 0.15);\n",
              "      filter: drop-shadow(0px 1px 2px rgba(0, 0, 0, 0.3));\n",
              "      fill: #FFFFFF;\n",
              "    }\n",
              "  </style>\n",
              "\n",
              "      <script>\n",
              "        const buttonEl =\n",
              "          document.querySelector('#df-41879f42-cd7e-4b24-aa3a-29247806acaa button.colab-df-convert');\n",
              "        buttonEl.style.display =\n",
              "          google.colab.kernel.accessAllowed ? 'block' : 'none';\n",
              "\n",
              "        async function convertToInteractive(key) {\n",
              "          const element = document.querySelector('#df-41879f42-cd7e-4b24-aa3a-29247806acaa');\n",
              "          const dataTable =\n",
              "            await google.colab.kernel.invokeFunction('convertToInteractive',\n",
              "                                                     [key], {});\n",
              "          if (!dataTable) return;\n",
              "\n",
              "          const docLinkHtml = 'Like what you see? Visit the ' +\n",
              "            '<a target=\"_blank\" href=https://colab.research.google.com/notebooks/data_table.ipynb>data table notebook</a>'\n",
              "            + ' to learn more about interactive tables.';\n",
              "          element.innerHTML = '';\n",
              "          dataTable['output_type'] = 'display_data';\n",
              "          await google.colab.output.renderOutput(dataTable, element);\n",
              "          const docLink = document.createElement('div');\n",
              "          docLink.innerHTML = docLinkHtml;\n",
              "          element.appendChild(docLink);\n",
              "        }\n",
              "      </script>\n",
              "    </div>\n",
              "  </div>\n",
              "  "
            ]
          },
          "metadata": {},
          "execution_count": 43
        }
      ]
    },
    {
      "cell_type": "code",
      "execution_count": null,
      "metadata": {
        "id": "gnya37kNhLFu"
      },
      "outputs": [],
      "source": []
    },
    {
      "cell_type": "code",
      "execution_count": null,
      "metadata": {
        "id": "HAPOjWbZhLF2",
        "outputId": "e30201ea-218a-4ba0-d562-ff0913f06d96",
        "colab": {
          "base_uri": "https://localhost:8080/"
        }
      },
      "outputs": [
        {
          "output_type": "execute_result",
          "data": {
            "text/plain": [
              "105698"
            ]
          },
          "metadata": {},
          "execution_count": 44
        }
      ],
      "source": [
        "len(df1['text12'])"
      ]
    },
    {
      "cell_type": "code",
      "execution_count": null,
      "metadata": {
        "id": "CKvIx9ezhLF4",
        "outputId": "f418a93b-02b2-45d4-9ff3-f9935b2ae4b9",
        "colab": {
          "base_uri": "https://localhost:8080/"
        }
      },
      "outputs": [
        {
          "output_type": "execute_result",
          "data": {
            "text/plain": [
              "103959"
            ]
          },
          "metadata": {},
          "execution_count": 47
        }
      ],
      "source": [
        "len(df1['text12'].drop_duplicates())"
      ]
    },
    {
      "cell_type": "code",
      "source": [
        "df_f=pd.DataFrame(df1['text12'].drop_duplicates())"
      ],
      "metadata": {
        "id": "L_538yPP1EAj"
      },
      "execution_count": null,
      "outputs": []
    },
    {
      "cell_type": "code",
      "source": [
        "df_f.to_frame()\n",
        "#df_f.columns"
      ],
      "metadata": {
        "colab": {
          "base_uri": "https://localhost:8080/"
        },
        "id": "JGR8EDh51F3r",
        "outputId": "e1ee9cef-4fc9-46ae-9126-f6aa9ae21d1e"
      },
      "execution_count": null,
      "outputs": [
        {
          "output_type": "execute_result",
          "data": {
            "text/plain": [
              "Index(['text12'], dtype='object')"
            ]
          },
          "metadata": {},
          "execution_count": 58
        }
      ]
    },
    {
      "cell_type": "code",
      "execution_count": null,
      "metadata": {
        "colab": {
          "base_uri": "https://localhost:8080/"
        },
        "id": "jXBD7QR5hLF5",
        "outputId": "0da4645d-0c95-4f78-aa54-a2b162049fc3"
      },
      "outputs": [
        {
          "output_type": "stream",
          "name": "stdout",
          "text": [
            "15572\n",
            "15572\n"
          ]
        }
      ],
      "source": [
        "print(len(df_u['text12'].drop_duplicates()))\n",
        "print(len(df_u['text12']))"
      ]
    },
    {
      "cell_type": "markdown",
      "source": [
        "Removing Stop Words"
      ],
      "metadata": {
        "id": "rEwgSC-y8zQy"
      }
    },
    {
      "cell_type": "code",
      "execution_count": null,
      "metadata": {
        "colab": {
          "base_uri": "https://localhost:8080/"
        },
        "id": "gOBEaVjuhLF6",
        "outputId": "5ba3406e-62a9-48f7-dc9e-b270e107bf5a"
      },
      "outputs": [
        {
          "output_type": "stream",
          "name": "stderr",
          "text": [
            "[nltk_data] Downloading package stopwords to /root/nltk_data...\n",
            "[nltk_data]   Unzipping corpora/stopwords.zip.\n"
          ]
        }
      ],
      "source": [
        "nltk.download('stopwords')\n",
        "stops = set(stopwords.words(\"arabic\"))"
      ]
    },
    {
      "cell_type": "code",
      "source": [
        "df_f['text13']=df_f['text12'].apply(lambda x: ' '.join([word for word in x.split() if word not in get_stop_words('arabic')]))\n",
        "df_u['text13']=df_u['text12'].apply(lambda x: ' '.join([word for word in x.split() if word not in get_stop_words('arabic')]))"
      ],
      "metadata": {
        "id": "f7JOu6NvjXM8"
      },
      "execution_count": null,
      "outputs": []
    },
    {
      "cell_type": "code",
      "source": [
        "df_u['text13'].to_frame()"
      ],
      "metadata": {
        "colab": {
          "base_uri": "https://localhost:8080/",
          "height": 693
        },
        "id": "TQ4ew0Dri4Fc",
        "outputId": "c96a5536-43e6-4dff-90ea-2b5a25f440f0"
      },
      "execution_count": null,
      "outputs": [
        {
          "output_type": "execute_result",
          "data": {
            "text/plain": [
              "                                                                                                                                                                                                                                                                                                                                                                                                                                                                                                                                                                                                                                                                                                                                                                                                                                                                                                                                                                                  text13\n",
              "0      المكان يمكنك مراجعه الذات والتفكر كوكروبيت، غانا ثمه الكثير زياره غانا وعلى الرغم الفقر سوف تلاحظه طريقك بيغ ميلي باكيارد، وجدت الناس غانا يملكون ثراء القلب رغم العوز بيغ ميلي باكيارد مكان يمكنني مراجعه الذات والتفكر التقيت اشخاصاً كانوا يعملون مبادرات مختلفه بيغ ميلي مكان يمكننا تبادل الملاحظات والآراء بيغ ميلي مليء بالسلام وهادئ للغايه الطعام ممتاز جداً الطهاه ممتازون وبالاضافه بد الاشاره العمال يكلون، ويحرصون سعاده نزلائهم هم يجعلون المكان مضيافاً خيبه امل واحده كبيره رغم الفنون والاشغال اليدويه شراؤها الموقع الاسعار غاليه مؤخراً ازالت السلطات كوكروبيت محلات التجار الواقعه خارج شاطئ بيغ ميلي منتجات التجار ارخص يزال محل تجاري متجر مايسترو للفن الافريقي كوكروبيت يعرض الفنون والاشغال اليدويه الفريده والملابس واللوحات اشتريت لوحات مذهله لايمكنك تجدها بيغ ميلي تزور بيغ ميلي فضلك خذ لحظه للذهاب الشاطئ وعلى يمينك ستجد متجر مايسترو للفن الافريقي المذهل تنخدع باسعار التجار بيغ ميلي باكيارد استمتع بالموسيقى والناس الرجاء تقضي وقتاً ممتعاً\n",
              "1                                                                                                                                                                                                                                                                               موقع رائع وحديقه رائعه ويستحق نجمهّ اضافيه الرغم الغرف ليست فاخره، فهي نظيفه جداً وتعمل مثالي بالتاكيد التصرفات الفرديه والجماعيه، ولكن تكييف هواء كبير وجيد ونوافذ مزدوجه جيده شاشات منطقه الحديقه تحتوى 3 مطاعم بالاضافه بار رياضي تبلغ تكلفه الانترنت اللاسلكي 1 50 دولار للساعه، يوجد خصم الفترات الاطول، لذلك اضطررت اغلاق حاسوبي بي رخيص جداً يبدو العديد الزوار الاجانب 85 دولار امريكي لليله بما بوفيه افطار بمستوى نجمه واحده اقامه افضل بكثير مما اعتقدت، سنعود بالتاكيد شملت الاقامات السابقه فندق الافريقيه ريجنت الدخول بالمطار غرب فندق خيارريجينت افريكان وفندق ايربيورت ويست خيار قوي لتلك المنطقه المدينه حركه المرور اكرا مُصابه بالشلل، لذا قم بعقد اجتماعاتك فندق بالوما معروف جيداً\n",
              "2                                                                                                                                                                                                                                                                                                                                                                                                                                                                                                                                                                                                                                                                                                                                          اسوا فندق اقمت الاطلاق يستغرق تسجيل الوصول حوالي 30 دقيقه، باهظ الثمن، غرف قديمه جداً وقذره، سجاده قذره جداً المجمل تجربه سيئه للغايه مثل الفندق سيكون آسيا، نجمه واحده، ويمكن اذهب 30 دولار امريكي السعر فندق نوفوتيل حوالي 250 دولار امريكي\n",
              "3                                                                                                                                                                                                                                                                                                                                                                                                                                                                                                                                                                                                                                                                                                                                                           بدون روح كانه فندق ثلاثه نجوم بدون اداره احترافيه، الفندق يبدو كمركب ضائع البحر الغرف موزعه بطريقه عشوائيه والافطار نقانق بارده سخيفه ونفس السلطه القديمه مكيف الهواء يثير الضوضاء الغرفه المستحيل ايقافه ولكن مركز صحي رائع\n",
              "4                                                                                                                                                                                                                                                                                                                                                                                                                                                                                                                                                                                                                                     فندق جميل سوء الاداره والخدمات الخارج بدا مبشرًا، خيبه الامل بدات وقت الغداء، جوده الطعام سيئه سيئه سيئه، والحساء مزريًا جدًا، والفواكه جودتها سيئه البكيخ متعفنًا، واو اشتكى زملائي وجود مناشف غرفهم حوالي الساعه 8 مساءً، والبعض تكن اسرّتهم مرتبه الساعه 5 مساءً تناولنا عشاء مكسيكيًا ومره قائمه الطعام مزريه اقيم هنا ابدًا، الاقل اتحدث نفسي\n",
              "...                                                                                                                                                                                                                                                                                                                                                                                                                                                                                                                                                                                                                                                                                                                                                                                                                                                                                                                                                                                  ...\n",
              "15567                                                                                                                                                                                                                                                                                                                                                                                                                                                                                                                                                                                                                                                                                                                                          قريب شي جميل وهادي وكل شي حولك حتي المواقف هادي يصلح لزوجين لشهر العسل ابسالا مدينه حالمه طبيعه وهدوء انصح بالزياره والتمتع بجو المدينه تاريخ الفندق موقعه جداً ممتاز بقرب محطه القطار ورحابه الموظفين جداً راقيه خدمه سريعه نظافته وتوفر\n",
              "15568                                                                                                                                                                                                                                                                                                                                                                                                                                                                                                                                                                                                                                                                                                                                                                                                       فندق رائع وممتاز لقد نزلت بتاريخ 1 12 2013 الفندق وبقيت بحدود 10 وشهادت جيد الراحه والخدمه شكرا لكم قدمتموه وكم اتمنى اعود وانزل الفندق لانه يقع قلب المدينه وكل شي قريب منك\n",
              "15569                                                                                                                                                                                                                                                                                                                                                                                                                                                                                                                                                                                                                                                                    جيد الفندق ميزته يقع قرب مركز شرطه العاصمه وعموما اوغندا امان وليس الخطوره السفر يتميز الفندق رخيص نفس مستوى نظافته ممتاز وهذا اهم شيء تلك البلاد المطعم الفندق بالنسبه باقي المطاعم المدينه متوسط ولكن بالمقارنه بفنادق مدن فهو ضعيف خدمه مساج الغرف تاتيك المدلكه جميله سمراء تقوم بتدليك جسمك بالطريقه تعجبك\n",
              "15570                                                                                                                                                                                                                                                                                                                                                                                                     احقر مكان وجه الارض انصح يقومون بتصفح الفنادق عبر الانترنت بالتروى الاختيار فهذا المكان احقر وجدت المغرب فهو بعيد جدا مراكش وسط الزراعات والادغال ولاتوجد خدمه بالداخل يوجد انترنت والتواليتات الخاصه بالغرف تعمل سليم ومسدوده والافطار عباره بيضه مسلوقه وقطعه الجبن قليل المربى والزبد البلدى والخبز الغداء والعشاء فالله بالسر عليم فلقد ندمنا فعلنا وايضا وجدنا التواليت مسدود وعندما طلبنا تغييره قالو لنا بانهم قامو بدفع مبلغ اصلاحه فهل نحن ملتزمون بتصليح التواليت ؟ناهيك المكان الموجود الفندق ليس فندق وانما قبر وسط الزراعات حياه بشر وهذا للامانه احببت انصح غيرى\n",
              "15571                                                                                                                                                                                                                                                                                                                                                                                                                                                                                                                                                                                                                                                                                                                                                                                        ضيق جدا الفندق ضيق جدا مساحه الغرف والحمامات مكانه ليس سئ قريب اللوفر وبرج ايفل الطعام عندهم ماجربته مستوى النظافه ممتاز المكان ماينفع لذوي الاحتياجات الخاصه خاصه مصعدهم مره ضيق وقديم جدا\n",
              "\n",
              "[15572 rows x 1 columns]"
            ],
            "text/html": [
              "\n",
              "  <div id=\"df-06de8072-bf2a-46e4-968d-8068a576fbc3\">\n",
              "    <div class=\"colab-df-container\">\n",
              "      <div>\n",
              "<style scoped>\n",
              "    .dataframe tbody tr th:only-of-type {\n",
              "        vertical-align: middle;\n",
              "    }\n",
              "\n",
              "    .dataframe tbody tr th {\n",
              "        vertical-align: top;\n",
              "    }\n",
              "\n",
              "    .dataframe thead th {\n",
              "        text-align: right;\n",
              "    }\n",
              "</style>\n",
              "<table border=\"1\" class=\"dataframe\">\n",
              "  <thead>\n",
              "    <tr style=\"text-align: right;\">\n",
              "      <th></th>\n",
              "      <th>text13</th>\n",
              "    </tr>\n",
              "  </thead>\n",
              "  <tbody>\n",
              "    <tr>\n",
              "      <th>0</th>\n",
              "      <td>المكان يمكنك مراجعه الذات والتفكر كوكروبيت، غانا ثمه الكثير زياره غانا وعلى الرغم الفقر سوف تلاحظه طريقك بيغ ميلي باكيارد، وجدت الناس غانا يملكون ثراء القلب رغم العوز بيغ ميلي باكيارد مكان يمكنني مراجعه الذات والتفكر التقيت اشخاصاً كانوا يعملون مبادرات مختلفه بيغ ميلي مكان يمكننا تبادل الملاحظات والآراء بيغ ميلي مليء بالسلام وهادئ للغايه الطعام ممتاز جداً الطهاه ممتازون وبالاضافه بد الاشاره العمال يكلون، ويحرصون سعاده نزلائهم هم يجعلون المكان مضيافاً خيبه امل واحده كبيره رغم الفنون والاشغال اليدويه شراؤها الموقع الاسعار غاليه مؤخراً ازالت السلطات كوكروبيت محلات التجار الواقعه خارج شاطئ بيغ ميلي منتجات التجار ارخص يزال محل تجاري متجر مايسترو للفن الافريقي كوكروبيت يعرض الفنون والاشغال اليدويه الفريده والملابس واللوحات اشتريت لوحات مذهله لايمكنك تجدها بيغ ميلي تزور بيغ ميلي فضلك خذ لحظه للذهاب الشاطئ وعلى يمينك ستجد متجر مايسترو للفن الافريقي المذهل تنخدع باسعار التجار بيغ ميلي باكيارد استمتع بالموسيقى والناس الرجاء تقضي وقتاً ممتعاً</td>\n",
              "    </tr>\n",
              "    <tr>\n",
              "      <th>1</th>\n",
              "      <td>موقع رائع وحديقه رائعه ويستحق نجمهّ اضافيه الرغم الغرف ليست فاخره، فهي نظيفه جداً وتعمل مثالي بالتاكيد التصرفات الفرديه والجماعيه، ولكن تكييف هواء كبير وجيد ونوافذ مزدوجه جيده شاشات منطقه الحديقه تحتوى 3 مطاعم بالاضافه بار رياضي تبلغ تكلفه الانترنت اللاسلكي 1 50 دولار للساعه، يوجد خصم الفترات الاطول، لذلك اضطررت اغلاق حاسوبي بي رخيص جداً يبدو العديد الزوار الاجانب 85 دولار امريكي لليله بما بوفيه افطار بمستوى نجمه واحده اقامه افضل بكثير مما اعتقدت، سنعود بالتاكيد شملت الاقامات السابقه فندق الافريقيه ريجنت الدخول بالمطار غرب فندق خيارريجينت افريكان وفندق ايربيورت ويست خيار قوي لتلك المنطقه المدينه حركه المرور اكرا مُصابه بالشلل، لذا قم بعقد اجتماعاتك فندق بالوما معروف جيداً</td>\n",
              "    </tr>\n",
              "    <tr>\n",
              "      <th>2</th>\n",
              "      <td>اسوا فندق اقمت الاطلاق يستغرق تسجيل الوصول حوالي 30 دقيقه، باهظ الثمن، غرف قديمه جداً وقذره، سجاده قذره جداً المجمل تجربه سيئه للغايه مثل الفندق سيكون آسيا، نجمه واحده، ويمكن اذهب 30 دولار امريكي السعر فندق نوفوتيل حوالي 250 دولار امريكي</td>\n",
              "    </tr>\n",
              "    <tr>\n",
              "      <th>3</th>\n",
              "      <td>بدون روح كانه فندق ثلاثه نجوم بدون اداره احترافيه، الفندق يبدو كمركب ضائع البحر الغرف موزعه بطريقه عشوائيه والافطار نقانق بارده سخيفه ونفس السلطه القديمه مكيف الهواء يثير الضوضاء الغرفه المستحيل ايقافه ولكن مركز صحي رائع</td>\n",
              "    </tr>\n",
              "    <tr>\n",
              "      <th>4</th>\n",
              "      <td>فندق جميل سوء الاداره والخدمات الخارج بدا مبشرًا، خيبه الامل بدات وقت الغداء، جوده الطعام سيئه سيئه سيئه، والحساء مزريًا جدًا، والفواكه جودتها سيئه البكيخ متعفنًا، واو اشتكى زملائي وجود مناشف غرفهم حوالي الساعه 8 مساءً، والبعض تكن اسرّتهم مرتبه الساعه 5 مساءً تناولنا عشاء مكسيكيًا ومره قائمه الطعام مزريه اقيم هنا ابدًا، الاقل اتحدث نفسي</td>\n",
              "    </tr>\n",
              "    <tr>\n",
              "      <th>...</th>\n",
              "      <td>...</td>\n",
              "    </tr>\n",
              "    <tr>\n",
              "      <th>15567</th>\n",
              "      <td>قريب شي جميل وهادي وكل شي حولك حتي المواقف هادي يصلح لزوجين لشهر العسل ابسالا مدينه حالمه طبيعه وهدوء انصح بالزياره والتمتع بجو المدينه تاريخ الفندق موقعه جداً ممتاز بقرب محطه القطار ورحابه الموظفين جداً راقيه خدمه سريعه نظافته وتوفر</td>\n",
              "    </tr>\n",
              "    <tr>\n",
              "      <th>15568</th>\n",
              "      <td>فندق رائع وممتاز لقد نزلت بتاريخ 1 12 2013 الفندق وبقيت بحدود 10 وشهادت جيد الراحه والخدمه شكرا لكم قدمتموه وكم اتمنى اعود وانزل الفندق لانه يقع قلب المدينه وكل شي قريب منك</td>\n",
              "    </tr>\n",
              "    <tr>\n",
              "      <th>15569</th>\n",
              "      <td>جيد الفندق ميزته يقع قرب مركز شرطه العاصمه وعموما اوغندا امان وليس الخطوره السفر يتميز الفندق رخيص نفس مستوى نظافته ممتاز وهذا اهم شيء تلك البلاد المطعم الفندق بالنسبه باقي المطاعم المدينه متوسط ولكن بالمقارنه بفنادق مدن فهو ضعيف خدمه مساج الغرف تاتيك المدلكه جميله سمراء تقوم بتدليك جسمك بالطريقه تعجبك</td>\n",
              "    </tr>\n",
              "    <tr>\n",
              "      <th>15570</th>\n",
              "      <td>احقر مكان وجه الارض انصح يقومون بتصفح الفنادق عبر الانترنت بالتروى الاختيار فهذا المكان احقر وجدت المغرب فهو بعيد جدا مراكش وسط الزراعات والادغال ولاتوجد خدمه بالداخل يوجد انترنت والتواليتات الخاصه بالغرف تعمل سليم ومسدوده والافطار عباره بيضه مسلوقه وقطعه الجبن قليل المربى والزبد البلدى والخبز الغداء والعشاء فالله بالسر عليم فلقد ندمنا فعلنا وايضا وجدنا التواليت مسدود وعندما طلبنا تغييره قالو لنا بانهم قامو بدفع مبلغ اصلاحه فهل نحن ملتزمون بتصليح التواليت ؟ناهيك المكان الموجود الفندق ليس فندق وانما قبر وسط الزراعات حياه بشر وهذا للامانه احببت انصح غيرى</td>\n",
              "    </tr>\n",
              "    <tr>\n",
              "      <th>15571</th>\n",
              "      <td>ضيق جدا الفندق ضيق جدا مساحه الغرف والحمامات مكانه ليس سئ قريب اللوفر وبرج ايفل الطعام عندهم ماجربته مستوى النظافه ممتاز المكان ماينفع لذوي الاحتياجات الخاصه خاصه مصعدهم مره ضيق وقديم جدا</td>\n",
              "    </tr>\n",
              "  </tbody>\n",
              "</table>\n",
              "<p>15572 rows × 1 columns</p>\n",
              "</div>\n",
              "      <button class=\"colab-df-convert\" onclick=\"convertToInteractive('df-06de8072-bf2a-46e4-968d-8068a576fbc3')\"\n",
              "              title=\"Convert this dataframe to an interactive table.\"\n",
              "              style=\"display:none;\">\n",
              "        \n",
              "  <svg xmlns=\"http://www.w3.org/2000/svg\" height=\"24px\"viewBox=\"0 0 24 24\"\n",
              "       width=\"24px\">\n",
              "    <path d=\"M0 0h24v24H0V0z\" fill=\"none\"/>\n",
              "    <path d=\"M18.56 5.44l.94 2.06.94-2.06 2.06-.94-2.06-.94-.94-2.06-.94 2.06-2.06.94zm-11 1L8.5 8.5l.94-2.06 2.06-.94-2.06-.94L8.5 2.5l-.94 2.06-2.06.94zm10 10l.94 2.06.94-2.06 2.06-.94-2.06-.94-.94-2.06-.94 2.06-2.06.94z\"/><path d=\"M17.41 7.96l-1.37-1.37c-.4-.4-.92-.59-1.43-.59-.52 0-1.04.2-1.43.59L10.3 9.45l-7.72 7.72c-.78.78-.78 2.05 0 2.83L4 21.41c.39.39.9.59 1.41.59.51 0 1.02-.2 1.41-.59l7.78-7.78 2.81-2.81c.8-.78.8-2.07 0-2.86zM5.41 20L4 18.59l7.72-7.72 1.47 1.35L5.41 20z\"/>\n",
              "  </svg>\n",
              "      </button>\n",
              "      \n",
              "  <style>\n",
              "    .colab-df-container {\n",
              "      display:flex;\n",
              "      flex-wrap:wrap;\n",
              "      gap: 12px;\n",
              "    }\n",
              "\n",
              "    .colab-df-convert {\n",
              "      background-color: #E8F0FE;\n",
              "      border: none;\n",
              "      border-radius: 50%;\n",
              "      cursor: pointer;\n",
              "      display: none;\n",
              "      fill: #1967D2;\n",
              "      height: 32px;\n",
              "      padding: 0 0 0 0;\n",
              "      width: 32px;\n",
              "    }\n",
              "\n",
              "    .colab-df-convert:hover {\n",
              "      background-color: #E2EBFA;\n",
              "      box-shadow: 0px 1px 2px rgba(60, 64, 67, 0.3), 0px 1px 3px 1px rgba(60, 64, 67, 0.15);\n",
              "      fill: #174EA6;\n",
              "    }\n",
              "\n",
              "    [theme=dark] .colab-df-convert {\n",
              "      background-color: #3B4455;\n",
              "      fill: #D2E3FC;\n",
              "    }\n",
              "\n",
              "    [theme=dark] .colab-df-convert:hover {\n",
              "      background-color: #434B5C;\n",
              "      box-shadow: 0px 1px 3px 1px rgba(0, 0, 0, 0.15);\n",
              "      filter: drop-shadow(0px 1px 2px rgba(0, 0, 0, 0.3));\n",
              "      fill: #FFFFFF;\n",
              "    }\n",
              "  </style>\n",
              "\n",
              "      <script>\n",
              "        const buttonEl =\n",
              "          document.querySelector('#df-06de8072-bf2a-46e4-968d-8068a576fbc3 button.colab-df-convert');\n",
              "        buttonEl.style.display =\n",
              "          google.colab.kernel.accessAllowed ? 'block' : 'none';\n",
              "\n",
              "        async function convertToInteractive(key) {\n",
              "          const element = document.querySelector('#df-06de8072-bf2a-46e4-968d-8068a576fbc3');\n",
              "          const dataTable =\n",
              "            await google.colab.kernel.invokeFunction('convertToInteractive',\n",
              "                                                     [key], {});\n",
              "          if (!dataTable) return;\n",
              "\n",
              "          const docLinkHtml = 'Like what you see? Visit the ' +\n",
              "            '<a target=\"_blank\" href=https://colab.research.google.com/notebooks/data_table.ipynb>data table notebook</a>'\n",
              "            + ' to learn more about interactive tables.';\n",
              "          element.innerHTML = '';\n",
              "          dataTable['output_type'] = 'display_data';\n",
              "          await google.colab.output.renderOutput(dataTable, element);\n",
              "          const docLink = document.createElement('div');\n",
              "          docLink.innerHTML = docLinkHtml;\n",
              "          element.appendChild(docLink);\n",
              "        }\n",
              "      </script>\n",
              "    </div>\n",
              "  </div>\n",
              "  "
            ]
          },
          "metadata": {},
          "execution_count": 60
        }
      ]
    },
    {
      "cell_type": "code",
      "execution_count": null,
      "metadata": {
        "id": "QD_fsyp0hLGE",
        "outputId": "f6aab6e2-34aa-4100-a010-bab3bcce3436",
        "colab": {
          "base_uri": "https://localhost:8080/",
          "height": 35
        }
      },
      "outputs": [
        {
          "output_type": "execute_result",
          "data": {
            "text/plain": [
              "'ضعيف شبكه الواي فاي فقط لاغير الافطار يرتقي لمستوى المقبول الحمام سئ جدا جدا وصغير الحجم الراحه بالنوم سماع الشارع الخارج يعود لعدم اغلاق الشبابيك باحكام'"
            ],
            "application/vnd.google.colaboratory.intrinsic+json": {
              "type": "string"
            }
          },
          "metadata": {},
          "execution_count": 62
        }
      ],
      "source": [
        "df_f['text13'][140]"
      ]
    },
    {
      "cell_type": "code",
      "execution_count": null,
      "metadata": {
        "id": "Hu920quUhLGF",
        "outputId": "0b103945-f3b0-43fe-fd20-9eb9da471f01",
        "colab": {
          "base_uri": "https://localhost:8080/",
          "height": 35
        }
      },
      "outputs": [
        {
          "output_type": "execute_result",
          "data": {
            "text/plain": [
              "'الموقع جميل جداً اعجبني الفندق التعامل الموظفين النزلاء والمكان مريح ونظيف'"
            ],
            "application/vnd.google.colaboratory.intrinsic+json": {
              "type": "string"
            }
          },
          "metadata": {},
          "execution_count": 63
        }
      ],
      "source": [
        "df_u['text13'][140]"
      ]
    },
    {
      "cell_type": "code",
      "execution_count": null,
      "metadata": {
        "id": "jPfd7yquhLGI"
      },
      "outputs": [],
      "source": [
        "#removing Pancutauation\n",
        " \n",
        "# Create a dictionary of punctuation characters\n",
        "punctuation = dict.fromkeys(i for i in range(sys.maxunicode)\n",
        " if unicodedata.category(chr(i)).startswith('P'))\n",
        " \n",
        "# For each string, remove any punctuation characters\n",
        "df_u['text14']=[string.translate(punctuation) for string in df_u['text13']]\n",
        "df_f['text14']=[string.translate(punctuation) for string in df_f['text13']]"
      ]
    },
    {
      "cell_type": "code",
      "source": [
        "type(df_u['text14'])"
      ],
      "metadata": {
        "colab": {
          "base_uri": "https://localhost:8080/"
        },
        "id": "9VvJtdMe2E1E",
        "outputId": "e52088c5-f436-4351-e0b9-c42edbc4a928"
      },
      "execution_count": null,
      "outputs": [
        {
          "output_type": "execute_result",
          "data": {
            "text/plain": [
              "pandas.core.series.Series"
            ]
          },
          "metadata": {},
          "execution_count": 65
        }
      ]
    },
    {
      "cell_type": "code",
      "source": [
        "df_u['text14']#.to_frame()"
      ],
      "metadata": {
        "colab": {
          "base_uri": "https://localhost:8080/"
        },
        "id": "fKGCFNsZkI4b",
        "outputId": "071b2b2c-3983-4beb-a6ec-f2da3d7d33ec"
      },
      "execution_count": null,
      "outputs": [
        {
          "output_type": "execute_result",
          "data": {
            "text/plain": [
              "0        المكان يمكنك مراجعه الذات والتفكر كوكروبيت غانا ثمه الكثير زياره غانا وعلى الرغم الفقر سوف تلاحظه طريقك بيغ ميلي باكيارد وجدت الناس غانا يملكون ثراء القلب رغم العوز بيغ ميلي باكيارد مكان يمكنني مراجعه الذات والتفكر التقيت اشخاصاً كانوا يعملون مبادرات مختلفه بيغ ميلي مكان يمكننا تبادل الملاحظات والآراء بيغ ميلي مليء بالسلام وهادئ للغايه الطعام ممتاز جداً الطهاه ممتازون وبالاضافه بد الاشاره العمال يكلون ويحرصون سعاده نزلائهم هم يجعلون المكان مضيافاً خيبه امل واحده كبيره رغم الفنون والاشغال اليدويه شراؤها الموقع الاسعار غاليه مؤخراً ازالت السلطات كوكروبيت محلات التجار الواقعه خارج شاطئ بيغ ميلي منتجات التجار ارخص يزال محل تجاري متجر مايسترو للفن الافريقي كوكروبيت يعرض الفنون والاشغال اليدويه الفريده والملابس واللوحات اشتريت لوحات مذهله لايمكنك تجدها بيغ ميلي تزور بيغ ميلي فضلك خذ لحظه للذهاب الشاطئ وعلى يمينك ستجد متجر مايسترو للفن الافريقي المذهل تنخدع باسعار التجار بيغ ميلي باكيارد استمتع بالموسيقى والناس الرجاء تقضي وقتاً ممتعاً\n",
              "1                                                                                                                                                                                                                                                                                    موقع رائع وحديقه رائعه ويستحق نجمهّ اضافيه الرغم الغرف ليست فاخره فهي نظيفه جداً وتعمل مثالي بالتاكيد التصرفات الفرديه والجماعيه ولكن تكييف هواء كبير وجيد ونوافذ مزدوجه جيده شاشات منطقه الحديقه تحتوى 3 مطاعم بالاضافه بار رياضي تبلغ تكلفه الانترنت اللاسلكي 1 50 دولار للساعه يوجد خصم الفترات الاطول لذلك اضطررت اغلاق حاسوبي بي رخيص جداً يبدو العديد الزوار الاجانب 85 دولار امريكي لليله بما بوفيه افطار بمستوى نجمه واحده اقامه افضل بكثير مما اعتقدت سنعود بالتاكيد شملت الاقامات السابقه فندق الافريقيه ريجنت الدخول بالمطار غرب فندق خيارريجينت افريكان وفندق ايربيورت ويست خيار قوي لتلك المنطقه المدينه حركه المرور اكرا مُصابه بالشلل لذا قم بعقد اجتماعاتك فندق بالوما معروف جيداً\n",
              "2                                                                                                                                                                                                                                                                                                                                                                                                                                                                                                                                                                                                                                                                                                                                              اسوا فندق اقمت الاطلاق يستغرق تسجيل الوصول حوالي 30 دقيقه باهظ الثمن غرف قديمه جداً وقذره سجاده قذره جداً المجمل تجربه سيئه للغايه مثل الفندق سيكون آسيا نجمه واحده ويمكن اذهب 30 دولار امريكي السعر فندق نوفوتيل حوالي 250 دولار امريكي\n",
              "3                                                                                                                                                                                                                                                                                                                                                                                                                                                                                                                                                                                                                                                                                                                                                           بدون روح كانه فندق ثلاثه نجوم بدون اداره احترافيه الفندق يبدو كمركب ضائع البحر الغرف موزعه بطريقه عشوائيه والافطار نقانق بارده سخيفه ونفس السلطه القديمه مكيف الهواء يثير الضوضاء الغرفه المستحيل ايقافه ولكن مركز صحي رائع\n",
              "4                                                                                                                                                                                                                                                                                                                                                                                                                                                                                                                                                                                                                                           فندق جميل سوء الاداره والخدمات الخارج بدا مبشرًا خيبه الامل بدات وقت الغداء جوده الطعام سيئه سيئه سيئه والحساء مزريًا جدًا والفواكه جودتها سيئه البكيخ متعفنًا واو اشتكى زملائي وجود مناشف غرفهم حوالي الساعه 8 مساءً والبعض تكن اسرّتهم مرتبه الساعه 5 مساءً تناولنا عشاء مكسيكيًا ومره قائمه الطعام مزريه اقيم هنا ابدًا الاقل اتحدث نفسي\n",
              "                                                                                                                                                                                                                                                                                                                                                                                                                                                                                              ...                                                                                                                                                                                                                                                                                                                                                                                                                                                                                      \n",
              "15567                                                                                                                                                                                                                                                                                                                                                                                                                                                                                                                                                                                                                                                                                                                                         قريب شي جميل وهادي وكل شي حولك حتي المواقف هادي يصلح لزوجين لشهر العسل ابسالا مدينه حالمه طبيعه وهدوء انصح بالزياره والتمتع بجو المدينه تاريخ الفندق موقعه جداً ممتاز بقرب محطه القطار ورحابه الموظفين جداً راقيه خدمه سريعه نظافته وتوفر\n",
              "15568                                                                                                                                                                                                                                                                                                                                                                                                                                                                                                                                                                                                                                                                                                                                                                                                      فندق رائع وممتاز لقد نزلت بتاريخ 1 12 2013 الفندق وبقيت بحدود 10 وشهادت جيد الراحه والخدمه شكرا لكم قدمتموه وكم اتمنى اعود وانزل الفندق لانه يقع قلب المدينه وكل شي قريب منك\n",
              "15569                                                                                                                                                                                                                                                                                                                                                                                                                                                                                                                                                                                                                                                                   جيد الفندق ميزته يقع قرب مركز شرطه العاصمه وعموما اوغندا امان وليس الخطوره السفر يتميز الفندق رخيص نفس مستوى نظافته ممتاز وهذا اهم شيء تلك البلاد المطعم الفندق بالنسبه باقي المطاعم المدينه متوسط ولكن بالمقارنه بفنادق مدن فهو ضعيف خدمه مساج الغرف تاتيك المدلكه جميله سمراء تقوم بتدليك جسمك بالطريقه تعجبك\n",
              "15570                                                                                                                                                                                                                                                                                                                                                                                                     احقر مكان وجه الارض انصح يقومون بتصفح الفنادق عبر الانترنت بالتروى الاختيار فهذا المكان احقر وجدت المغرب فهو بعيد جدا مراكش وسط الزراعات والادغال ولاتوجد خدمه بالداخل يوجد انترنت والتواليتات الخاصه بالغرف تعمل سليم ومسدوده والافطار عباره بيضه مسلوقه وقطعه الجبن قليل المربى والزبد البلدى والخبز الغداء والعشاء فالله بالسر عليم فلقد ندمنا فعلنا وايضا وجدنا التواليت مسدود وعندما طلبنا تغييره قالو لنا بانهم قامو بدفع مبلغ اصلاحه فهل نحن ملتزمون بتصليح التواليت ناهيك المكان الموجود الفندق ليس فندق وانما قبر وسط الزراعات حياه بشر وهذا للامانه احببت انصح غيرى\n",
              "15571                                                                                                                                                                                                                                                                                                                                                                                                                                                                                                                                                                                                                                                                                                                                                                                       ضيق جدا الفندق ضيق جدا مساحه الغرف والحمامات مكانه ليس سئ قريب اللوفر وبرج ايفل الطعام عندهم ماجربته مستوى النظافه ممتاز المكان ماينفع لذوي الاحتياجات الخاصه خاصه مصعدهم مره ضيق وقديم جدا\n",
              "Name: text14, Length: 15572, dtype: object"
            ]
          },
          "metadata": {},
          "execution_count": 67
        }
      ]
    },
    {
      "cell_type": "code",
      "source": [
        "nltk.download('punkt')"
      ],
      "metadata": {
        "colab": {
          "base_uri": "https://localhost:8080/"
        },
        "id": "ueG0IYCLkaqr",
        "outputId": "7ec77a72-5456-4637-fd18-81d10b80babb"
      },
      "execution_count": null,
      "outputs": [
        {
          "output_type": "stream",
          "name": "stderr",
          "text": [
            "[nltk_data] Downloading package punkt to /root/nltk_data...\n",
            "[nltk_data]   Unzipping tokenizers/punkt.zip.\n"
          ]
        },
        {
          "output_type": "execute_result",
          "data": {
            "text/plain": [
              "True"
            ]
          },
          "metadata": {},
          "execution_count": 18
        }
      ]
    },
    {
      "cell_type": "markdown",
      "source": [
        "Tokinization (ngrams)\n"
      ],
      "metadata": {
        "id": "AIcIr9LN9OUo"
      }
    },
    {
      "cell_type": "code",
      "execution_count": null,
      "metadata": {
        "id": "hYrCuUtZhLGU"
      },
      "outputs": [],
      "source": [
        "answer_df = df_f[df_f['text14'].notnull()]\n",
        "answer_df['toks'] = answer_df.apply(lambda row: nltk.word_tokenize(row['text14']), axis=1)"
      ]
    },
    {
      "cell_type": "code",
      "execution_count": null,
      "metadata": {
        "id": "0_uupdBphLGX"
      },
      "outputs": [],
      "source": [
        "answer_df_u = df_u[df_u['text14'].notnull()]\n",
        "answer_df_u['toks'] = answer_df_u.apply(lambda row: nltk.word_tokenize(row['text14']), axis=1)"
      ]
    },
    {
      "cell_type": "code",
      "execution_count": null,
      "metadata": {
        "id": "d4P8q9vJhLGi",
        "outputId": "b1bd2277-46e3-4094-b5a3-45311cfa265e",
        "colab": {
          "base_uri": "https://localhost:8080/",
          "height": 485
        }
      },
      "outputs": [
        {
          "output_type": "execute_result",
          "data": {
            "text/plain": [
              "                                                                                                                                                                                                                                                                                                                                                                                                       toks\n",
              "1                                                                                                                                                                                                                                                                                                                                                                         [ممتاز, النظافه, والطاقم, متعاون]\n",
              "2                                                                                                                                                                                                                                                                                                                                                      [استثنائي, سهوله, انهاء, المعامله, الاستقبال, لاشيئ]\n",
              "3                                                                                                                                                                                                                                                                                                                                [استثنائي, انصح, باختيار, الاسويت, بالاخص, غرفه, رقم, 801, نوعيه, الارضيه]\n",
              "4                                                                                                                                                                                                                                                                                                                                                   [استغرب, تقييم, الفندق, كخمس, نجوم, شي, يستحق, 2, نجمه]\n",
              "5                                                                                                                                                                                                                                                                               [جيد, المكان, جميل, وهاديء, شي, جيد, ونظيف, بس, حوض, السباحه, لايعمل, هذي, الفتره, حسب, كلامهم, يقولوا, صيانه, والله, اعلم]\n",
              "...                                                                                                                                                                                                                                                                                                                                                                                                     ...\n",
              "105694                                                                                                                                                                                                                                                                  [فند, شئ, عجبني, طقم, العمل, سيئ, جدالا, يوجد, بالفندق, خدمات, الحمامات, الغرفه, نظيفه, بالمره, رائحه, كريهه, يوجد, حشرات, بالحمام]\n",
              "105695                                                                                                                                                                                                                                                        [سيئ, قربه, المسجد, النبوي, الشريف, استخدام, موظف, الاستقبال, للمواقف, المخصصه, للعملاء, وحجز, سياراتهم, بسيارته, مراعاه, لاي, طارئ, مسؤوليه]\n",
              "105696  [اسوا, اقامه, الرحله, القرب, الحرم, شيء, ازعاج, تجاوب, الاستقبال, الاثاث, قديم, ليست, نظيفه, زحام, شديد, جدا, المصاعد, باب, الغرفه, يفتح, بصعوبه, تاخر, اجراءات, الدخول, غرفه, نظيفه, والجيران, ازعاجهم, شديدطلبت, تغييرها, غيروها, بغرفه, بينها, وبين, الغرفه, المجاوره, باب, فتحه, لايمكن, الاطمئنان, بسببها, خلالها, رؤيه, يمر, دوره, المياه, باختصار, ندمت, اني, سكنت, ولن, اكررها, باذن, الله]\n",
              "105697                                                                                                                                                                                                                                                                                                                                                                          [المستوى, قربه, الحرم, شيء]\n",
              "105698                                                                                                                                                                                                                                                                         [مخيب, للامل, سوء, التنسيق, معرفه, الغرف, زوار, ام, فارغه, اداره, الفندق, ساعتين, يرسلوا, العمال, ليتاكد, خلو, الغرفه, عدمه]\n",
              "\n",
              "[103959 rows x 1 columns]"
            ],
            "text/html": [
              "\n",
              "  <div id=\"df-a811a9c1-d835-497b-aafd-1b145248ccbc\">\n",
              "    <div class=\"colab-df-container\">\n",
              "      <div>\n",
              "<style scoped>\n",
              "    .dataframe tbody tr th:only-of-type {\n",
              "        vertical-align: middle;\n",
              "    }\n",
              "\n",
              "    .dataframe tbody tr th {\n",
              "        vertical-align: top;\n",
              "    }\n",
              "\n",
              "    .dataframe thead th {\n",
              "        text-align: right;\n",
              "    }\n",
              "</style>\n",
              "<table border=\"1\" class=\"dataframe\">\n",
              "  <thead>\n",
              "    <tr style=\"text-align: right;\">\n",
              "      <th></th>\n",
              "      <th>toks</th>\n",
              "    </tr>\n",
              "  </thead>\n",
              "  <tbody>\n",
              "    <tr>\n",
              "      <th>1</th>\n",
              "      <td>[ممتاز, النظافه, والطاقم, متعاون]</td>\n",
              "    </tr>\n",
              "    <tr>\n",
              "      <th>2</th>\n",
              "      <td>[استثنائي, سهوله, انهاء, المعامله, الاستقبال, لاشيئ]</td>\n",
              "    </tr>\n",
              "    <tr>\n",
              "      <th>3</th>\n",
              "      <td>[استثنائي, انصح, باختيار, الاسويت, بالاخص, غرفه, رقم, 801, نوعيه, الارضيه]</td>\n",
              "    </tr>\n",
              "    <tr>\n",
              "      <th>4</th>\n",
              "      <td>[استغرب, تقييم, الفندق, كخمس, نجوم, شي, يستحق, 2, نجمه]</td>\n",
              "    </tr>\n",
              "    <tr>\n",
              "      <th>5</th>\n",
              "      <td>[جيد, المكان, جميل, وهاديء, شي, جيد, ونظيف, بس, حوض, السباحه, لايعمل, هذي, الفتره, حسب, كلامهم, يقولوا, صيانه, والله, اعلم]</td>\n",
              "    </tr>\n",
              "    <tr>\n",
              "      <th>...</th>\n",
              "      <td>...</td>\n",
              "    </tr>\n",
              "    <tr>\n",
              "      <th>105694</th>\n",
              "      <td>[فند, شئ, عجبني, طقم, العمل, سيئ, جدالا, يوجد, بالفندق, خدمات, الحمامات, الغرفه, نظيفه, بالمره, رائحه, كريهه, يوجد, حشرات, بالحمام]</td>\n",
              "    </tr>\n",
              "    <tr>\n",
              "      <th>105695</th>\n",
              "      <td>[سيئ, قربه, المسجد, النبوي, الشريف, استخدام, موظف, الاستقبال, للمواقف, المخصصه, للعملاء, وحجز, سياراتهم, بسيارته, مراعاه, لاي, طارئ, مسؤوليه]</td>\n",
              "    </tr>\n",
              "    <tr>\n",
              "      <th>105696</th>\n",
              "      <td>[اسوا, اقامه, الرحله, القرب, الحرم, شيء, ازعاج, تجاوب, الاستقبال, الاثاث, قديم, ليست, نظيفه, زحام, شديد, جدا, المصاعد, باب, الغرفه, يفتح, بصعوبه, تاخر, اجراءات, الدخول, غرفه, نظيفه, والجيران, ازعاجهم, شديدطلبت, تغييرها, غيروها, بغرفه, بينها, وبين, الغرفه, المجاوره, باب, فتحه, لايمكن, الاطمئنان, بسببها, خلالها, رؤيه, يمر, دوره, المياه, باختصار, ندمت, اني, سكنت, ولن, اكررها, باذن, الله]</td>\n",
              "    </tr>\n",
              "    <tr>\n",
              "      <th>105697</th>\n",
              "      <td>[المستوى, قربه, الحرم, شيء]</td>\n",
              "    </tr>\n",
              "    <tr>\n",
              "      <th>105698</th>\n",
              "      <td>[مخيب, للامل, سوء, التنسيق, معرفه, الغرف, زوار, ام, فارغه, اداره, الفندق, ساعتين, يرسلوا, العمال, ليتاكد, خلو, الغرفه, عدمه]</td>\n",
              "    </tr>\n",
              "  </tbody>\n",
              "</table>\n",
              "<p>103959 rows × 1 columns</p>\n",
              "</div>\n",
              "      <button class=\"colab-df-convert\" onclick=\"convertToInteractive('df-a811a9c1-d835-497b-aafd-1b145248ccbc')\"\n",
              "              title=\"Convert this dataframe to an interactive table.\"\n",
              "              style=\"display:none;\">\n",
              "        \n",
              "  <svg xmlns=\"http://www.w3.org/2000/svg\" height=\"24px\"viewBox=\"0 0 24 24\"\n",
              "       width=\"24px\">\n",
              "    <path d=\"M0 0h24v24H0V0z\" fill=\"none\"/>\n",
              "    <path d=\"M18.56 5.44l.94 2.06.94-2.06 2.06-.94-2.06-.94-.94-2.06-.94 2.06-2.06.94zm-11 1L8.5 8.5l.94-2.06 2.06-.94-2.06-.94L8.5 2.5l-.94 2.06-2.06.94zm10 10l.94 2.06.94-2.06 2.06-.94-2.06-.94-.94-2.06-.94 2.06-2.06.94z\"/><path d=\"M17.41 7.96l-1.37-1.37c-.4-.4-.92-.59-1.43-.59-.52 0-1.04.2-1.43.59L10.3 9.45l-7.72 7.72c-.78.78-.78 2.05 0 2.83L4 21.41c.39.39.9.59 1.41.59.51 0 1.02-.2 1.41-.59l7.78-7.78 2.81-2.81c.8-.78.8-2.07 0-2.86zM5.41 20L4 18.59l7.72-7.72 1.47 1.35L5.41 20z\"/>\n",
              "  </svg>\n",
              "      </button>\n",
              "      \n",
              "  <style>\n",
              "    .colab-df-container {\n",
              "      display:flex;\n",
              "      flex-wrap:wrap;\n",
              "      gap: 12px;\n",
              "    }\n",
              "\n",
              "    .colab-df-convert {\n",
              "      background-color: #E8F0FE;\n",
              "      border: none;\n",
              "      border-radius: 50%;\n",
              "      cursor: pointer;\n",
              "      display: none;\n",
              "      fill: #1967D2;\n",
              "      height: 32px;\n",
              "      padding: 0 0 0 0;\n",
              "      width: 32px;\n",
              "    }\n",
              "\n",
              "    .colab-df-convert:hover {\n",
              "      background-color: #E2EBFA;\n",
              "      box-shadow: 0px 1px 2px rgba(60, 64, 67, 0.3), 0px 1px 3px 1px rgba(60, 64, 67, 0.15);\n",
              "      fill: #174EA6;\n",
              "    }\n",
              "\n",
              "    [theme=dark] .colab-df-convert {\n",
              "      background-color: #3B4455;\n",
              "      fill: #D2E3FC;\n",
              "    }\n",
              "\n",
              "    [theme=dark] .colab-df-convert:hover {\n",
              "      background-color: #434B5C;\n",
              "      box-shadow: 0px 1px 3px 1px rgba(0, 0, 0, 0.15);\n",
              "      filter: drop-shadow(0px 1px 2px rgba(0, 0, 0, 0.3));\n",
              "      fill: #FFFFFF;\n",
              "    }\n",
              "  </style>\n",
              "\n",
              "      <script>\n",
              "        const buttonEl =\n",
              "          document.querySelector('#df-a811a9c1-d835-497b-aafd-1b145248ccbc button.colab-df-convert');\n",
              "        buttonEl.style.display =\n",
              "          google.colab.kernel.accessAllowed ? 'block' : 'none';\n",
              "\n",
              "        async function convertToInteractive(key) {\n",
              "          const element = document.querySelector('#df-a811a9c1-d835-497b-aafd-1b145248ccbc');\n",
              "          const dataTable =\n",
              "            await google.colab.kernel.invokeFunction('convertToInteractive',\n",
              "                                                     [key], {});\n",
              "          if (!dataTable) return;\n",
              "\n",
              "          const docLinkHtml = 'Like what you see? Visit the ' +\n",
              "            '<a target=\"_blank\" href=https://colab.research.google.com/notebooks/data_table.ipynb>data table notebook</a>'\n",
              "            + ' to learn more about interactive tables.';\n",
              "          element.innerHTML = '';\n",
              "          dataTable['output_type'] = 'display_data';\n",
              "          await google.colab.output.renderOutput(dataTable, element);\n",
              "          const docLink = document.createElement('div');\n",
              "          docLink.innerHTML = docLinkHtml;\n",
              "          element.appendChild(docLink);\n",
              "        }\n",
              "      </script>\n",
              "    </div>\n",
              "  </div>\n",
              "  "
            ]
          },
          "metadata": {},
          "execution_count": 72
        }
      ],
      "source": [
        "answer_df['toks'].to_frame()"
      ]
    },
    {
      "cell_type": "code",
      "execution_count": null,
      "metadata": {
        "colab": {
          "base_uri": "https://localhost:8080/",
          "height": 693
        },
        "id": "pZclbbY5hLGk",
        "outputId": "d7ab17c1-39b0-4bed-ae37-42ab4125ec12"
      },
      "outputs": [
        {
          "output_type": "execute_result",
          "data": {
            "text/plain": [
              "                                                                                                                                                                                                                                                                                                                                                                                                                                                                                                                                                                                                                                                                                                                                                               toks\n",
              "0      [المكان, يمكنك, مراجعه, الذات, والتفكر, كوكروبيت, غانا, ثمه, الكثير, زياره, غانا, وعلى, الرغم, الفقر, سوف, تلاحظه, طريقك, بيغ, ميلي, باكيارد, وجدت, الناس, غانا, يملكون, ثراء, القلب, رغم, العوز, بيغ, ميلي, باكيارد, مكان, يمكنني, مراجعه, الذات, والتفكر, التقيت, اشخاصاً, كانوا, يعملون, مبادرات, مختلفه, بيغ, ميلي, مكان, يمكننا, تبادل, الملاحظات, والآراء, بيغ, ميلي, مليء, بالسلام, وهادئ, للغايه, الطعام, ممتاز, جداً, الطهاه, ممتازون, وبالاضافه, بد, الاشاره, العمال, يكلون, ويحرصون, سعاده, نزلائهم, هم, يجعلون, المكان, مضيافاً, خيبه, امل, واحده, كبيره, رغم, الفنون, والاشغال, اليدويه, شراؤها, الموقع, الاسعار, غاليه, مؤخراً, ازالت, السلطات, كوكروبيت, محلات, التجار, الواقعه, خارج, شاطئ, بيغ, ميلي, منتجات, التجار, ارخص, يزال, محل, ...]\n",
              "1                  [موقع, رائع, وحديقه, رائعه, ويستحق, نجمهّ, اضافيه, الرغم, الغرف, ليست, فاخره, فهي, نظيفه, جداً, وتعمل, مثالي, بالتاكيد, التصرفات, الفرديه, والجماعيه, ولكن, تكييف, هواء, كبير, وجيد, ونوافذ, مزدوجه, جيده, شاشات, منطقه, الحديقه, تحتوى, 3, مطاعم, بالاضافه, بار, رياضي, تبلغ, تكلفه, الانترنت, اللاسلكي, 1, 50, دولار, للساعه, يوجد, خصم, الفترات, الاطول, لذلك, اضطررت, اغلاق, حاسوبي, بي, رخيص, جداً, يبدو, العديد, الزوار, الاجانب, 85, دولار, امريكي, لليله, بما, بوفيه, افطار, بمستوى, نجمه, واحده, اقامه, افضل, بكثير, مما, اعتقدت, سنعود, بالتاكيد, شملت, الاقامات, السابقه, فندق, الافريقيه, ريجنت, الدخول, بالمطار, غرب, فندق, خيارريجينت, افريكان, وفندق, ايربيورت, ويست, خيار, قوي, لتلك, المنطقه, المدينه, حركه, المرور, اكرا, ...]\n",
              "2                                                                                                                                                                                                                                                                                                                                                                                                                                                                                [اسوا, فندق, اقمت, الاطلاق, يستغرق, تسجيل, الوصول, حوالي, 30, دقيقه, باهظ, الثمن, غرف, قديمه, جداً, وقذره, سجاده, قذره, جداً, المجمل, تجربه, سيئه, للغايه, مثل, الفندق, سيكون, آسيا, نجمه, واحده, ويمكن, اذهب, 30, دولار, امريكي, السعر, فندق, نوفوتيل, حوالي, 250, دولار, امريكي]\n",
              "3                                                                                                                                                                                                                                                                                                                                                                                                                                                                                                  [بدون, روح, كانه, فندق, ثلاثه, نجوم, بدون, اداره, احترافيه, الفندق, يبدو, كمركب, ضائع, البحر, الغرف, موزعه, بطريقه, عشوائيه, والافطار, نقانق, بارده, سخيفه, ونفس, السلطه, القديمه, مكيف, الهواء, يثير, الضوضاء, الغرفه, المستحيل, ايقافه, ولكن, مركز, صحي, رائع]\n",
              "4                                                                                                                                                                                                                                                                                                                                                              [فندق, جميل, سوء, الاداره, والخدمات, الخارج, بدا, مبشرًا, خيبه, الامل, بدات, وقت, الغداء, جوده, الطعام, سيئه, سيئه, سيئه, والحساء, مزريًا, جدًا, والفواكه, جودتها, سيئه, البكيخ, متعفنًا, واو, اشتكى, زملائي, وجود, مناشف, غرفهم, حوالي, الساعه, 8, مساءً, والبعض, تكن, اسرّتهم, مرتبه, الساعه, 5, مساءً, تناولنا, عشاء, مكسيكيًا, ومره, قائمه, الطعام, مزريه, اقيم, هنا, ابدًا, الاقل, اتحدث, نفسي]\n",
              "...                                                                                                                                                                                                                                                                                                                                                                                                                                                                                                                                                                                                                                                                                                                                                             ...\n",
              "15567                                                                                                                                                                                                                                                                                                                                                                                                                                                                            [قريب, شي, جميل, وهادي, وكل, شي, حولك, حتي, المواقف, هادي, يصلح, لزوجين, لشهر, العسل, ابسالا, مدينه, حالمه, طبيعه, وهدوء, انصح, بالزياره, والتمتع, بجو, المدينه, تاريخ, الفندق, موقعه, جداً, ممتاز, بقرب, محطه, القطار, ورحابه, الموظفين, جداً, راقيه, خدمه, سريعه, نظافته, وتوفر]\n",
              "15568                                                                                                                                                                                                                                                                                                                                                                                                                                                                                                                                                [فندق, رائع, وممتاز, لقد, نزلت, بتاريخ, 1, 12, 2013, الفندق, وبقيت, بحدود, 10, وشهادت, جيد, الراحه, والخدمه, شكرا, لكم, قدمتموه, وكم, اتمنى, اعود, وانزل, الفندق, لانه, يقع, قلب, المدينه, وكل, شي, قريب, منك]\n",
              "15569                                                                                                                                                                                                                                                                                                                                                                                           [جيد, الفندق, ميزته, يقع, قرب, مركز, شرطه, العاصمه, وعموما, اوغندا, امان, وليس, الخطوره, السفر, يتميز, الفندق, رخيص, نفس, مستوى, نظافته, ممتاز, وهذا, اهم, شيء, تلك, البلاد, المطعم, الفندق, بالنسبه, باقي, المطاعم, المدينه, متوسط, ولكن, بالمقارنه, بفنادق, مدن, فهو, ضعيف, خدمه, مساج, الغرف, تاتيك, المدلكه, جميله, سمراء, تقوم, بتدليك, جسمك, بالطريقه, تعجبك]\n",
              "15570                                                                                      [احقر, مكان, وجه, الارض, انصح, يقومون, بتصفح, الفنادق, عبر, الانترنت, بالتروى, الاختيار, فهذا, المكان, احقر, وجدت, المغرب, فهو, بعيد, جدا, مراكش, وسط, الزراعات, والادغال, ولاتوجد, خدمه, بالداخل, يوجد, انترنت, والتواليتات, الخاصه, بالغرف, تعمل, سليم, ومسدوده, والافطار, عباره, بيضه, مسلوقه, وقطعه, الجبن, قليل, المربى, والزبد, البلدى, والخبز, الغداء, والعشاء, فالله, بالسر, عليم, فلقد, ندمنا, فعلنا, وايضا, وجدنا, التواليت, مسدود, وعندما, طلبنا, تغييره, قالو, لنا, بانهم, قامو, بدفع, مبلغ, اصلاحه, فهل, نحن, ملتزمون, بتصليح, التواليت, ناهيك, المكان, الموجود, الفندق, ليس, فندق, وانما, قبر, وسط, الزراعات, حياه, بشر, وهذا, للامانه, احببت, انصح, غيرى]\n",
              "15571                                                                                                                                                                                                                                                                                                                                                                                                                                                                                                                                  [ضيق, جدا, الفندق, ضيق, جدا, مساحه, الغرف, والحمامات, مكانه, ليس, سئ, قريب, اللوفر, وبرج, ايفل, الطعام, عندهم, ماجربته, مستوى, النظافه, ممتاز, المكان, ماينفع, لذوي, الاحتياجات, الخاصه, خاصه, مصعدهم, مره, ضيق, وقديم, جدا]\n",
              "\n",
              "[15572 rows x 1 columns]"
            ],
            "text/html": [
              "\n",
              "  <div id=\"df-4fdd5203-6af9-4838-957e-1c72bd098718\">\n",
              "    <div class=\"colab-df-container\">\n",
              "      <div>\n",
              "<style scoped>\n",
              "    .dataframe tbody tr th:only-of-type {\n",
              "        vertical-align: middle;\n",
              "    }\n",
              "\n",
              "    .dataframe tbody tr th {\n",
              "        vertical-align: top;\n",
              "    }\n",
              "\n",
              "    .dataframe thead th {\n",
              "        text-align: right;\n",
              "    }\n",
              "</style>\n",
              "<table border=\"1\" class=\"dataframe\">\n",
              "  <thead>\n",
              "    <tr style=\"text-align: right;\">\n",
              "      <th></th>\n",
              "      <th>toks</th>\n",
              "    </tr>\n",
              "  </thead>\n",
              "  <tbody>\n",
              "    <tr>\n",
              "      <th>0</th>\n",
              "      <td>[المكان, يمكنك, مراجعه, الذات, والتفكر, كوكروبيت, غانا, ثمه, الكثير, زياره, غانا, وعلى, الرغم, الفقر, سوف, تلاحظه, طريقك, بيغ, ميلي, باكيارد, وجدت, الناس, غانا, يملكون, ثراء, القلب, رغم, العوز, بيغ, ميلي, باكيارد, مكان, يمكنني, مراجعه, الذات, والتفكر, التقيت, اشخاصاً, كانوا, يعملون, مبادرات, مختلفه, بيغ, ميلي, مكان, يمكننا, تبادل, الملاحظات, والآراء, بيغ, ميلي, مليء, بالسلام, وهادئ, للغايه, الطعام, ممتاز, جداً, الطهاه, ممتازون, وبالاضافه, بد, الاشاره, العمال, يكلون, ويحرصون, سعاده, نزلائهم, هم, يجعلون, المكان, مضيافاً, خيبه, امل, واحده, كبيره, رغم, الفنون, والاشغال, اليدويه, شراؤها, الموقع, الاسعار, غاليه, مؤخراً, ازالت, السلطات, كوكروبيت, محلات, التجار, الواقعه, خارج, شاطئ, بيغ, ميلي, منتجات, التجار, ارخص, يزال, محل, ...]</td>\n",
              "    </tr>\n",
              "    <tr>\n",
              "      <th>1</th>\n",
              "      <td>[موقع, رائع, وحديقه, رائعه, ويستحق, نجمهّ, اضافيه, الرغم, الغرف, ليست, فاخره, فهي, نظيفه, جداً, وتعمل, مثالي, بالتاكيد, التصرفات, الفرديه, والجماعيه, ولكن, تكييف, هواء, كبير, وجيد, ونوافذ, مزدوجه, جيده, شاشات, منطقه, الحديقه, تحتوى, 3, مطاعم, بالاضافه, بار, رياضي, تبلغ, تكلفه, الانترنت, اللاسلكي, 1, 50, دولار, للساعه, يوجد, خصم, الفترات, الاطول, لذلك, اضطررت, اغلاق, حاسوبي, بي, رخيص, جداً, يبدو, العديد, الزوار, الاجانب, 85, دولار, امريكي, لليله, بما, بوفيه, افطار, بمستوى, نجمه, واحده, اقامه, افضل, بكثير, مما, اعتقدت, سنعود, بالتاكيد, شملت, الاقامات, السابقه, فندق, الافريقيه, ريجنت, الدخول, بالمطار, غرب, فندق, خيارريجينت, افريكان, وفندق, ايربيورت, ويست, خيار, قوي, لتلك, المنطقه, المدينه, حركه, المرور, اكرا, ...]</td>\n",
              "    </tr>\n",
              "    <tr>\n",
              "      <th>2</th>\n",
              "      <td>[اسوا, فندق, اقمت, الاطلاق, يستغرق, تسجيل, الوصول, حوالي, 30, دقيقه, باهظ, الثمن, غرف, قديمه, جداً, وقذره, سجاده, قذره, جداً, المجمل, تجربه, سيئه, للغايه, مثل, الفندق, سيكون, آسيا, نجمه, واحده, ويمكن, اذهب, 30, دولار, امريكي, السعر, فندق, نوفوتيل, حوالي, 250, دولار, امريكي]</td>\n",
              "    </tr>\n",
              "    <tr>\n",
              "      <th>3</th>\n",
              "      <td>[بدون, روح, كانه, فندق, ثلاثه, نجوم, بدون, اداره, احترافيه, الفندق, يبدو, كمركب, ضائع, البحر, الغرف, موزعه, بطريقه, عشوائيه, والافطار, نقانق, بارده, سخيفه, ونفس, السلطه, القديمه, مكيف, الهواء, يثير, الضوضاء, الغرفه, المستحيل, ايقافه, ولكن, مركز, صحي, رائع]</td>\n",
              "    </tr>\n",
              "    <tr>\n",
              "      <th>4</th>\n",
              "      <td>[فندق, جميل, سوء, الاداره, والخدمات, الخارج, بدا, مبشرًا, خيبه, الامل, بدات, وقت, الغداء, جوده, الطعام, سيئه, سيئه, سيئه, والحساء, مزريًا, جدًا, والفواكه, جودتها, سيئه, البكيخ, متعفنًا, واو, اشتكى, زملائي, وجود, مناشف, غرفهم, حوالي, الساعه, 8, مساءً, والبعض, تكن, اسرّتهم, مرتبه, الساعه, 5, مساءً, تناولنا, عشاء, مكسيكيًا, ومره, قائمه, الطعام, مزريه, اقيم, هنا, ابدًا, الاقل, اتحدث, نفسي]</td>\n",
              "    </tr>\n",
              "    <tr>\n",
              "      <th>...</th>\n",
              "      <td>...</td>\n",
              "    </tr>\n",
              "    <tr>\n",
              "      <th>15567</th>\n",
              "      <td>[قريب, شي, جميل, وهادي, وكل, شي, حولك, حتي, المواقف, هادي, يصلح, لزوجين, لشهر, العسل, ابسالا, مدينه, حالمه, طبيعه, وهدوء, انصح, بالزياره, والتمتع, بجو, المدينه, تاريخ, الفندق, موقعه, جداً, ممتاز, بقرب, محطه, القطار, ورحابه, الموظفين, جداً, راقيه, خدمه, سريعه, نظافته, وتوفر]</td>\n",
              "    </tr>\n",
              "    <tr>\n",
              "      <th>15568</th>\n",
              "      <td>[فندق, رائع, وممتاز, لقد, نزلت, بتاريخ, 1, 12, 2013, الفندق, وبقيت, بحدود, 10, وشهادت, جيد, الراحه, والخدمه, شكرا, لكم, قدمتموه, وكم, اتمنى, اعود, وانزل, الفندق, لانه, يقع, قلب, المدينه, وكل, شي, قريب, منك]</td>\n",
              "    </tr>\n",
              "    <tr>\n",
              "      <th>15569</th>\n",
              "      <td>[جيد, الفندق, ميزته, يقع, قرب, مركز, شرطه, العاصمه, وعموما, اوغندا, امان, وليس, الخطوره, السفر, يتميز, الفندق, رخيص, نفس, مستوى, نظافته, ممتاز, وهذا, اهم, شيء, تلك, البلاد, المطعم, الفندق, بالنسبه, باقي, المطاعم, المدينه, متوسط, ولكن, بالمقارنه, بفنادق, مدن, فهو, ضعيف, خدمه, مساج, الغرف, تاتيك, المدلكه, جميله, سمراء, تقوم, بتدليك, جسمك, بالطريقه, تعجبك]</td>\n",
              "    </tr>\n",
              "    <tr>\n",
              "      <th>15570</th>\n",
              "      <td>[احقر, مكان, وجه, الارض, انصح, يقومون, بتصفح, الفنادق, عبر, الانترنت, بالتروى, الاختيار, فهذا, المكان, احقر, وجدت, المغرب, فهو, بعيد, جدا, مراكش, وسط, الزراعات, والادغال, ولاتوجد, خدمه, بالداخل, يوجد, انترنت, والتواليتات, الخاصه, بالغرف, تعمل, سليم, ومسدوده, والافطار, عباره, بيضه, مسلوقه, وقطعه, الجبن, قليل, المربى, والزبد, البلدى, والخبز, الغداء, والعشاء, فالله, بالسر, عليم, فلقد, ندمنا, فعلنا, وايضا, وجدنا, التواليت, مسدود, وعندما, طلبنا, تغييره, قالو, لنا, بانهم, قامو, بدفع, مبلغ, اصلاحه, فهل, نحن, ملتزمون, بتصليح, التواليت, ناهيك, المكان, الموجود, الفندق, ليس, فندق, وانما, قبر, وسط, الزراعات, حياه, بشر, وهذا, للامانه, احببت, انصح, غيرى]</td>\n",
              "    </tr>\n",
              "    <tr>\n",
              "      <th>15571</th>\n",
              "      <td>[ضيق, جدا, الفندق, ضيق, جدا, مساحه, الغرف, والحمامات, مكانه, ليس, سئ, قريب, اللوفر, وبرج, ايفل, الطعام, عندهم, ماجربته, مستوى, النظافه, ممتاز, المكان, ماينفع, لذوي, الاحتياجات, الخاصه, خاصه, مصعدهم, مره, ضيق, وقديم, جدا]</td>\n",
              "    </tr>\n",
              "  </tbody>\n",
              "</table>\n",
              "<p>15572 rows × 1 columns</p>\n",
              "</div>\n",
              "      <button class=\"colab-df-convert\" onclick=\"convertToInteractive('df-4fdd5203-6af9-4838-957e-1c72bd098718')\"\n",
              "              title=\"Convert this dataframe to an interactive table.\"\n",
              "              style=\"display:none;\">\n",
              "        \n",
              "  <svg xmlns=\"http://www.w3.org/2000/svg\" height=\"24px\"viewBox=\"0 0 24 24\"\n",
              "       width=\"24px\">\n",
              "    <path d=\"M0 0h24v24H0V0z\" fill=\"none\"/>\n",
              "    <path d=\"M18.56 5.44l.94 2.06.94-2.06 2.06-.94-2.06-.94-.94-2.06-.94 2.06-2.06.94zm-11 1L8.5 8.5l.94-2.06 2.06-.94-2.06-.94L8.5 2.5l-.94 2.06-2.06.94zm10 10l.94 2.06.94-2.06 2.06-.94-2.06-.94-.94-2.06-.94 2.06-2.06.94z\"/><path d=\"M17.41 7.96l-1.37-1.37c-.4-.4-.92-.59-1.43-.59-.52 0-1.04.2-1.43.59L10.3 9.45l-7.72 7.72c-.78.78-.78 2.05 0 2.83L4 21.41c.39.39.9.59 1.41.59.51 0 1.02-.2 1.41-.59l7.78-7.78 2.81-2.81c.8-.78.8-2.07 0-2.86zM5.41 20L4 18.59l7.72-7.72 1.47 1.35L5.41 20z\"/>\n",
              "  </svg>\n",
              "      </button>\n",
              "      \n",
              "  <style>\n",
              "    .colab-df-container {\n",
              "      display:flex;\n",
              "      flex-wrap:wrap;\n",
              "      gap: 12px;\n",
              "    }\n",
              "\n",
              "    .colab-df-convert {\n",
              "      background-color: #E8F0FE;\n",
              "      border: none;\n",
              "      border-radius: 50%;\n",
              "      cursor: pointer;\n",
              "      display: none;\n",
              "      fill: #1967D2;\n",
              "      height: 32px;\n",
              "      padding: 0 0 0 0;\n",
              "      width: 32px;\n",
              "    }\n",
              "\n",
              "    .colab-df-convert:hover {\n",
              "      background-color: #E2EBFA;\n",
              "      box-shadow: 0px 1px 2px rgba(60, 64, 67, 0.3), 0px 1px 3px 1px rgba(60, 64, 67, 0.15);\n",
              "      fill: #174EA6;\n",
              "    }\n",
              "\n",
              "    [theme=dark] .colab-df-convert {\n",
              "      background-color: #3B4455;\n",
              "      fill: #D2E3FC;\n",
              "    }\n",
              "\n",
              "    [theme=dark] .colab-df-convert:hover {\n",
              "      background-color: #434B5C;\n",
              "      box-shadow: 0px 1px 3px 1px rgba(0, 0, 0, 0.15);\n",
              "      filter: drop-shadow(0px 1px 2px rgba(0, 0, 0, 0.3));\n",
              "      fill: #FFFFFF;\n",
              "    }\n",
              "  </style>\n",
              "\n",
              "      <script>\n",
              "        const buttonEl =\n",
              "          document.querySelector('#df-4fdd5203-6af9-4838-957e-1c72bd098718 button.colab-df-convert');\n",
              "        buttonEl.style.display =\n",
              "          google.colab.kernel.accessAllowed ? 'block' : 'none';\n",
              "\n",
              "        async function convertToInteractive(key) {\n",
              "          const element = document.querySelector('#df-4fdd5203-6af9-4838-957e-1c72bd098718');\n",
              "          const dataTable =\n",
              "            await google.colab.kernel.invokeFunction('convertToInteractive',\n",
              "                                                     [key], {});\n",
              "          if (!dataTable) return;\n",
              "\n",
              "          const docLinkHtml = 'Like what you see? Visit the ' +\n",
              "            '<a target=\"_blank\" href=https://colab.research.google.com/notebooks/data_table.ipynb>data table notebook</a>'\n",
              "            + ' to learn more about interactive tables.';\n",
              "          element.innerHTML = '';\n",
              "          dataTable['output_type'] = 'display_data';\n",
              "          await google.colab.output.renderOutput(dataTable, element);\n",
              "          const docLink = document.createElement('div');\n",
              "          docLink.innerHTML = docLinkHtml;\n",
              "          element.appendChild(docLink);\n",
              "        }\n",
              "      </script>\n",
              "    </div>\n",
              "  </div>\n",
              "  "
            ]
          },
          "metadata": {},
          "execution_count": 73
        }
      ],
      "source": [
        "answer_df_u['toks'].to_frame()"
      ]
    },
    {
      "cell_type": "code",
      "execution_count": null,
      "metadata": {
        "id": "329-KUJhhLGm"
      },
      "outputs": [],
      "source": [
        "#Creating a column of bigrams from the 'toks' column\n",
        "answer_df['bigrams'] = answer_df.toks.apply(lambda x: list(nltk.bigrams(x)))\n",
        "#answer_df.head(1)"
      ]
    },
    {
      "cell_type": "code",
      "source": [
        "answer_df['bigrams'].to_frame()"
      ],
      "metadata": {
        "colab": {
          "base_uri": "https://localhost:8080/",
          "height": 589
        },
        "id": "M7AhJuOL2kd7",
        "outputId": "67f03e34-d8b3-4021-ff31-b52318807259"
      },
      "execution_count": null,
      "outputs": [
        {
          "output_type": "execute_result",
          "data": {
            "text/plain": [
              "                                                                                                                                                                                                                                                                                                                                                                                                                                                                                                                                                                                                                                                                                                                                                                                                                                                                                                     bigrams\n",
              "1                                                                                                                                                                                                                                                                                                                                                                                                                                                                                                                                                                                                                                                                                                                                                                                                                                                  [(ممتاز, النظافه), (النظافه, والطاقم), (والطاقم, متعاون)]\n",
              "2                                                                                                                                                                                                                                                                                                                                                                                                                                                                                                                                                                                                                                                                                                                                                                                                          [(استثنائي, سهوله), (سهوله, انهاء), (انهاء, المعامله), (المعامله, الاستقبال), (الاستقبال, لاشيئ)]\n",
              "3                                                                                                                                                                                                                                                                                                                                                                                                                                                                                                                                                                                                                                                                                                                                                        [(استثنائي, انصح), (انصح, باختيار), (باختيار, الاسويت), (الاسويت, بالاخص), (بالاخص, غرفه), (غرفه, رقم), (رقم, 801), (801, نوعيه), (نوعيه, الارضيه)]\n",
              "4                                                                                                                                                                                                                                                                                                                                                                                                                                                                                                                                                                                                                                                                                                                                                                                           [(استغرب, تقييم), (تقييم, الفندق), (الفندق, كخمس), (كخمس, نجوم), (نجوم, شي), (شي, يستحق), (يستحق, 2), (2, نجمه)]\n",
              "5                                                                                                                                                                                                                                                                                                                                                                                                                                                                                                                                                                                                                            [(جيد, المكان), (المكان, جميل), (جميل, وهاديء), (وهاديء, شي), (شي, جيد), (جيد, ونظيف), (ونظيف, بس), (بس, حوض), (حوض, السباحه), (السباحه, لايعمل), (لايعمل, هذي), (هذي, الفتره), (الفتره, حسب), (حسب, كلامهم), (كلامهم, يقولوا), (يقولوا, صيانه), (صيانه, والله), (والله, اعلم)]\n",
              "...                                                                                                                                                                                                                                                                                                                                                                                                                                                                                                                                                                                                                                                                                                                                                                                                                                                                                                      ...\n",
              "105694                                                                                                                                                                                                                                                                                                                                                                                                                                                                                                                                                                                                          [(فند, شئ), (شئ, عجبني), (عجبني, طقم), (طقم, العمل), (العمل, سيئ), (سيئ, جدالا), (جدالا, يوجد), (يوجد, بالفندق), (بالفندق, خدمات), (خدمات, الحمامات), (الحمامات, الغرفه), (الغرفه, نظيفه), (نظيفه, بالمره), (بالمره, رائحه), (رائحه, كريهه), (كريهه, يوجد), (يوجد, حشرات), (حشرات, بالحمام)]\n",
              "105695                                                                                                                                                                                                                                                                                                                                                                                                                                                                                                                                                                                        [(سيئ, قربه), (قربه, المسجد), (المسجد, النبوي), (النبوي, الشريف), (الشريف, استخدام), (استخدام, موظف), (موظف, الاستقبال), (الاستقبال, للمواقف), (للمواقف, المخصصه), (المخصصه, للعملاء), (للعملاء, وحجز), (وحجز, سياراتهم), (سياراتهم, بسيارته), (بسيارته, مراعاه), (مراعاه, لاي), (لاي, طارئ), (طارئ, مسؤوليه)]\n",
              "105696  [(اسوا, اقامه), (اقامه, الرحله), (الرحله, القرب), (القرب, الحرم), (الحرم, شيء), (شيء, ازعاج), (ازعاج, تجاوب), (تجاوب, الاستقبال), (الاستقبال, الاثاث), (الاثاث, قديم), (قديم, ليست), (ليست, نظيفه), (نظيفه, زحام), (زحام, شديد), (شديد, جدا), (جدا, المصاعد), (المصاعد, باب), (باب, الغرفه), (الغرفه, يفتح), (يفتح, بصعوبه), (بصعوبه, تاخر), (تاخر, اجراءات), (اجراءات, الدخول), (الدخول, غرفه), (غرفه, نظيفه), (نظيفه, والجيران), (والجيران, ازعاجهم), (ازعاجهم, شديدطلبت), (شديدطلبت, تغييرها), (تغييرها, غيروها), (غيروها, بغرفه), (بغرفه, بينها), (بينها, وبين), (وبين, الغرفه), (الغرفه, المجاوره), (المجاوره, باب), (باب, فتحه), (فتحه, لايمكن), (لايمكن, الاطمئنان), (الاطمئنان, بسببها), (بسببها, خلالها), (خلالها, رؤيه), (رؤيه, يمر), (يمر, دوره), (دوره, المياه), (المياه, باختصار), (باختصار, ندمت), (ندمت, اني), (اني, سكنت), (سكنت, ولن), (ولن, اكررها), (اكررها, باذن), (باذن, الله)]\n",
              "105697                                                                                                                                                                                                                                                                                                                                                                                                                                                                                                                                                                                                                                                                                                                                                                                                                                                        [(المستوى, قربه), (قربه, الحرم), (الحرم, شيء)]\n",
              "105698                                                                                                                                                                                                                                                                                                                                                                                                                                                                                                                                                                                                                        [(مخيب, للامل), (للامل, سوء), (سوء, التنسيق), (التنسيق, معرفه), (معرفه, الغرف), (الغرف, زوار), (زوار, ام), (ام, فارغه), (فارغه, اداره), (اداره, الفندق), (الفندق, ساعتين), (ساعتين, يرسلوا), (يرسلوا, العمال), (العمال, ليتاكد), (ليتاكد, خلو), (خلو, الغرفه), (الغرفه, عدمه)]\n",
              "\n",
              "[103959 rows x 1 columns]"
            ],
            "text/html": [
              "\n",
              "  <div id=\"df-bd081379-0a12-46f2-9b0f-c6033bf4a1b6\">\n",
              "    <div class=\"colab-df-container\">\n",
              "      <div>\n",
              "<style scoped>\n",
              "    .dataframe tbody tr th:only-of-type {\n",
              "        vertical-align: middle;\n",
              "    }\n",
              "\n",
              "    .dataframe tbody tr th {\n",
              "        vertical-align: top;\n",
              "    }\n",
              "\n",
              "    .dataframe thead th {\n",
              "        text-align: right;\n",
              "    }\n",
              "</style>\n",
              "<table border=\"1\" class=\"dataframe\">\n",
              "  <thead>\n",
              "    <tr style=\"text-align: right;\">\n",
              "      <th></th>\n",
              "      <th>bigrams</th>\n",
              "    </tr>\n",
              "  </thead>\n",
              "  <tbody>\n",
              "    <tr>\n",
              "      <th>1</th>\n",
              "      <td>[(ممتاز, النظافه), (النظافه, والطاقم), (والطاقم, متعاون)]</td>\n",
              "    </tr>\n",
              "    <tr>\n",
              "      <th>2</th>\n",
              "      <td>[(استثنائي, سهوله), (سهوله, انهاء), (انهاء, المعامله), (المعامله, الاستقبال), (الاستقبال, لاشيئ)]</td>\n",
              "    </tr>\n",
              "    <tr>\n",
              "      <th>3</th>\n",
              "      <td>[(استثنائي, انصح), (انصح, باختيار), (باختيار, الاسويت), (الاسويت, بالاخص), (بالاخص, غرفه), (غرفه, رقم), (رقم, 801), (801, نوعيه), (نوعيه, الارضيه)]</td>\n",
              "    </tr>\n",
              "    <tr>\n",
              "      <th>4</th>\n",
              "      <td>[(استغرب, تقييم), (تقييم, الفندق), (الفندق, كخمس), (كخمس, نجوم), (نجوم, شي), (شي, يستحق), (يستحق, 2), (2, نجمه)]</td>\n",
              "    </tr>\n",
              "    <tr>\n",
              "      <th>5</th>\n",
              "      <td>[(جيد, المكان), (المكان, جميل), (جميل, وهاديء), (وهاديء, شي), (شي, جيد), (جيد, ونظيف), (ونظيف, بس), (بس, حوض), (حوض, السباحه), (السباحه, لايعمل), (لايعمل, هذي), (هذي, الفتره), (الفتره, حسب), (حسب, كلامهم), (كلامهم, يقولوا), (يقولوا, صيانه), (صيانه, والله), (والله, اعلم)]</td>\n",
              "    </tr>\n",
              "    <tr>\n",
              "      <th>...</th>\n",
              "      <td>...</td>\n",
              "    </tr>\n",
              "    <tr>\n",
              "      <th>105694</th>\n",
              "      <td>[(فند, شئ), (شئ, عجبني), (عجبني, طقم), (طقم, العمل), (العمل, سيئ), (سيئ, جدالا), (جدالا, يوجد), (يوجد, بالفندق), (بالفندق, خدمات), (خدمات, الحمامات), (الحمامات, الغرفه), (الغرفه, نظيفه), (نظيفه, بالمره), (بالمره, رائحه), (رائحه, كريهه), (كريهه, يوجد), (يوجد, حشرات), (حشرات, بالحمام)]</td>\n",
              "    </tr>\n",
              "    <tr>\n",
              "      <th>105695</th>\n",
              "      <td>[(سيئ, قربه), (قربه, المسجد), (المسجد, النبوي), (النبوي, الشريف), (الشريف, استخدام), (استخدام, موظف), (موظف, الاستقبال), (الاستقبال, للمواقف), (للمواقف, المخصصه), (المخصصه, للعملاء), (للعملاء, وحجز), (وحجز, سياراتهم), (سياراتهم, بسيارته), (بسيارته, مراعاه), (مراعاه, لاي), (لاي, طارئ), (طارئ, مسؤوليه)]</td>\n",
              "    </tr>\n",
              "    <tr>\n",
              "      <th>105696</th>\n",
              "      <td>[(اسوا, اقامه), (اقامه, الرحله), (الرحله, القرب), (القرب, الحرم), (الحرم, شيء), (شيء, ازعاج), (ازعاج, تجاوب), (تجاوب, الاستقبال), (الاستقبال, الاثاث), (الاثاث, قديم), (قديم, ليست), (ليست, نظيفه), (نظيفه, زحام), (زحام, شديد), (شديد, جدا), (جدا, المصاعد), (المصاعد, باب), (باب, الغرفه), (الغرفه, يفتح), (يفتح, بصعوبه), (بصعوبه, تاخر), (تاخر, اجراءات), (اجراءات, الدخول), (الدخول, غرفه), (غرفه, نظيفه), (نظيفه, والجيران), (والجيران, ازعاجهم), (ازعاجهم, شديدطلبت), (شديدطلبت, تغييرها), (تغييرها, غيروها), (غيروها, بغرفه), (بغرفه, بينها), (بينها, وبين), (وبين, الغرفه), (الغرفه, المجاوره), (المجاوره, باب), (باب, فتحه), (فتحه, لايمكن), (لايمكن, الاطمئنان), (الاطمئنان, بسببها), (بسببها, خلالها), (خلالها, رؤيه), (رؤيه, يمر), (يمر, دوره), (دوره, المياه), (المياه, باختصار), (باختصار, ندمت), (ندمت, اني), (اني, سكنت), (سكنت, ولن), (ولن, اكررها), (اكررها, باذن), (باذن, الله)]</td>\n",
              "    </tr>\n",
              "    <tr>\n",
              "      <th>105697</th>\n",
              "      <td>[(المستوى, قربه), (قربه, الحرم), (الحرم, شيء)]</td>\n",
              "    </tr>\n",
              "    <tr>\n",
              "      <th>105698</th>\n",
              "      <td>[(مخيب, للامل), (للامل, سوء), (سوء, التنسيق), (التنسيق, معرفه), (معرفه, الغرف), (الغرف, زوار), (زوار, ام), (ام, فارغه), (فارغه, اداره), (اداره, الفندق), (الفندق, ساعتين), (ساعتين, يرسلوا), (يرسلوا, العمال), (العمال, ليتاكد), (ليتاكد, خلو), (خلو, الغرفه), (الغرفه, عدمه)]</td>\n",
              "    </tr>\n",
              "  </tbody>\n",
              "</table>\n",
              "<p>103959 rows × 1 columns</p>\n",
              "</div>\n",
              "      <button class=\"colab-df-convert\" onclick=\"convertToInteractive('df-bd081379-0a12-46f2-9b0f-c6033bf4a1b6')\"\n",
              "              title=\"Convert this dataframe to an interactive table.\"\n",
              "              style=\"display:none;\">\n",
              "        \n",
              "  <svg xmlns=\"http://www.w3.org/2000/svg\" height=\"24px\"viewBox=\"0 0 24 24\"\n",
              "       width=\"24px\">\n",
              "    <path d=\"M0 0h24v24H0V0z\" fill=\"none\"/>\n",
              "    <path d=\"M18.56 5.44l.94 2.06.94-2.06 2.06-.94-2.06-.94-.94-2.06-.94 2.06-2.06.94zm-11 1L8.5 8.5l.94-2.06 2.06-.94-2.06-.94L8.5 2.5l-.94 2.06-2.06.94zm10 10l.94 2.06.94-2.06 2.06-.94-2.06-.94-.94-2.06-.94 2.06-2.06.94z\"/><path d=\"M17.41 7.96l-1.37-1.37c-.4-.4-.92-.59-1.43-.59-.52 0-1.04.2-1.43.59L10.3 9.45l-7.72 7.72c-.78.78-.78 2.05 0 2.83L4 21.41c.39.39.9.59 1.41.59.51 0 1.02-.2 1.41-.59l7.78-7.78 2.81-2.81c.8-.78.8-2.07 0-2.86zM5.41 20L4 18.59l7.72-7.72 1.47 1.35L5.41 20z\"/>\n",
              "  </svg>\n",
              "      </button>\n",
              "      \n",
              "  <style>\n",
              "    .colab-df-container {\n",
              "      display:flex;\n",
              "      flex-wrap:wrap;\n",
              "      gap: 12px;\n",
              "    }\n",
              "\n",
              "    .colab-df-convert {\n",
              "      background-color: #E8F0FE;\n",
              "      border: none;\n",
              "      border-radius: 50%;\n",
              "      cursor: pointer;\n",
              "      display: none;\n",
              "      fill: #1967D2;\n",
              "      height: 32px;\n",
              "      padding: 0 0 0 0;\n",
              "      width: 32px;\n",
              "    }\n",
              "\n",
              "    .colab-df-convert:hover {\n",
              "      background-color: #E2EBFA;\n",
              "      box-shadow: 0px 1px 2px rgba(60, 64, 67, 0.3), 0px 1px 3px 1px rgba(60, 64, 67, 0.15);\n",
              "      fill: #174EA6;\n",
              "    }\n",
              "\n",
              "    [theme=dark] .colab-df-convert {\n",
              "      background-color: #3B4455;\n",
              "      fill: #D2E3FC;\n",
              "    }\n",
              "\n",
              "    [theme=dark] .colab-df-convert:hover {\n",
              "      background-color: #434B5C;\n",
              "      box-shadow: 0px 1px 3px 1px rgba(0, 0, 0, 0.15);\n",
              "      filter: drop-shadow(0px 1px 2px rgba(0, 0, 0, 0.3));\n",
              "      fill: #FFFFFF;\n",
              "    }\n",
              "  </style>\n",
              "\n",
              "      <script>\n",
              "        const buttonEl =\n",
              "          document.querySelector('#df-bd081379-0a12-46f2-9b0f-c6033bf4a1b6 button.colab-df-convert');\n",
              "        buttonEl.style.display =\n",
              "          google.colab.kernel.accessAllowed ? 'block' : 'none';\n",
              "\n",
              "        async function convertToInteractive(key) {\n",
              "          const element = document.querySelector('#df-bd081379-0a12-46f2-9b0f-c6033bf4a1b6');\n",
              "          const dataTable =\n",
              "            await google.colab.kernel.invokeFunction('convertToInteractive',\n",
              "                                                     [key], {});\n",
              "          if (!dataTable) return;\n",
              "\n",
              "          const docLinkHtml = 'Like what you see? Visit the ' +\n",
              "            '<a target=\"_blank\" href=https://colab.research.google.com/notebooks/data_table.ipynb>data table notebook</a>'\n",
              "            + ' to learn more about interactive tables.';\n",
              "          element.innerHTML = '';\n",
              "          dataTable['output_type'] = 'display_data';\n",
              "          await google.colab.output.renderOutput(dataTable, element);\n",
              "          const docLink = document.createElement('div');\n",
              "          docLink.innerHTML = docLinkHtml;\n",
              "          element.appendChild(docLink);\n",
              "        }\n",
              "      </script>\n",
              "    </div>\n",
              "  </div>\n",
              "  "
            ]
          },
          "metadata": {},
          "execution_count": 75
        }
      ]
    },
    {
      "cell_type": "code",
      "execution_count": null,
      "metadata": {
        "id": "PHo1sfMQhLGn"
      },
      "outputs": [],
      "source": [
        "answer_df_u['bigrams'] = answer_df_u.toks.apply(lambda x: list(nltk.bigrams(x)))"
      ]
    },
    {
      "cell_type": "code",
      "execution_count": null,
      "metadata": {
        "id": "jgQFHKBWhLGo",
        "outputId": "2b138877-134c-4130-b57d-71e4d3b2bc18",
        "colab": {
          "base_uri": "https://localhost:8080/",
          "height": 1000
        }
      },
      "outputs": [
        {
          "output_type": "execute_result",
          "data": {
            "text/plain": [
              "                                                                                                                                                                                                                                                                                                                                                                                                                                                                                                                                                                                                                                                                                                                                                                                                                                                                                                                                                                                                                                                                                                                                                                                                                                                                                                                                                                                                                                                                                                                                                                                                                                                                                                                          bigrams\n",
              "0      [(المكان, يمكنك), (يمكنك, مراجعه), (مراجعه, الذات), (الذات, والتفكر), (والتفكر, كوكروبيت), (كوكروبيت, غانا), (غانا, ثمه), (ثمه, الكثير), (الكثير, زياره), (زياره, غانا), (غانا, وعلى), (وعلى, الرغم), (الرغم, الفقر), (الفقر, سوف), (سوف, تلاحظه), (تلاحظه, طريقك), (طريقك, بيغ), (بيغ, ميلي), (ميلي, باكيارد), (باكيارد, وجدت), (وجدت, الناس), (الناس, غانا), (غانا, يملكون), (يملكون, ثراء), (ثراء, القلب), (القلب, رغم), (رغم, العوز), (العوز, بيغ), (بيغ, ميلي), (ميلي, باكيارد), (باكيارد, مكان), (مكان, يمكنني), (يمكنني, مراجعه), (مراجعه, الذات), (الذات, والتفكر), (والتفكر, التقيت), (التقيت, اشخاصاً), (اشخاصاً, كانوا), (كانوا, يعملون), (يعملون, مبادرات), (مبادرات, مختلفه), (مختلفه, بيغ), (بيغ, ميلي), (ميلي, مكان), (مكان, يمكننا), (يمكننا, تبادل), (تبادل, الملاحظات), (الملاحظات, والآراء), (والآراء, بيغ), (بيغ, ميلي), (ميلي, مليء), (مليء, بالسلام), (بالسلام, وهادئ), (وهادئ, للغايه), (للغايه, الطعام), (الطعام, ممتاز), (ممتاز, جداً), (جداً, الطهاه), (الطهاه, ممتازون), (ممتازون, وبالاضافه), (وبالاضافه, بد), (بد, الاشاره), (الاشاره, العمال), (العمال, يكلون), (يكلون, ويحرصون), (ويحرصون, سعاده), (سعاده, نزلائهم), (نزلائهم, هم), (هم, يجعلون), (يجعلون, المكان), (المكان, مضيافاً), (مضيافاً, خيبه), (خيبه, امل), (امل, واحده), (واحده, كبيره), (كبيره, رغم), (رغم, الفنون), (الفنون, والاشغال), (والاشغال, اليدويه), (اليدويه, شراؤها), (شراؤها, الموقع), (الموقع, الاسعار), (الاسعار, غاليه), (غاليه, مؤخراً), (مؤخراً, ازالت), (ازالت, السلطات), (السلطات, كوكروبيت), (كوكروبيت, محلات), (محلات, التجار), (التجار, الواقعه), (الواقعه, خارج), (خارج, شاطئ), (شاطئ, بيغ), (بيغ, ميلي), (ميلي, منتجات), (منتجات, التجار), (التجار, ارخص), (ارخص, يزال), (يزال, محل), (محل, تجاري), ...]\n",
              "1                           [(موقع, رائع), (رائع, وحديقه), (وحديقه, رائعه), (رائعه, ويستحق), (ويستحق, نجمهّ), (نجمهّ, اضافيه), (اضافيه, الرغم), (الرغم, الغرف), (الغرف, ليست), (ليست, فاخره), (فاخره, فهي), (فهي, نظيفه), (نظيفه, جداً), (جداً, وتعمل), (وتعمل, مثالي), (مثالي, بالتاكيد), (بالتاكيد, التصرفات), (التصرفات, الفرديه), (الفرديه, والجماعيه), (والجماعيه, ولكن), (ولكن, تكييف), (تكييف, هواء), (هواء, كبير), (كبير, وجيد), (وجيد, ونوافذ), (ونوافذ, مزدوجه), (مزدوجه, جيده), (جيده, شاشات), (شاشات, منطقه), (منطقه, الحديقه), (الحديقه, تحتوى), (تحتوى, 3), (3, مطاعم), (مطاعم, بالاضافه), (بالاضافه, بار), (بار, رياضي), (رياضي, تبلغ), (تبلغ, تكلفه), (تكلفه, الانترنت), (الانترنت, اللاسلكي), (اللاسلكي, 1), (1, 50), (50, دولار), (دولار, للساعه), (للساعه, يوجد), (يوجد, خصم), (خصم, الفترات), (الفترات, الاطول), (الاطول, لذلك), (لذلك, اضطررت), (اضطررت, اغلاق), (اغلاق, حاسوبي), (حاسوبي, بي), (بي, رخيص), (رخيص, جداً), (جداً, يبدو), (يبدو, العديد), (العديد, الزوار), (الزوار, الاجانب), (الاجانب, 85), (85, دولار), (دولار, امريكي), (امريكي, لليله), (لليله, بما), (بما, بوفيه), (بوفيه, افطار), (افطار, بمستوى), (بمستوى, نجمه), (نجمه, واحده), (واحده, اقامه), (اقامه, افضل), (افضل, بكثير), (بكثير, مما), (مما, اعتقدت), (اعتقدت, سنعود), (سنعود, بالتاكيد), (بالتاكيد, شملت), (شملت, الاقامات), (الاقامات, السابقه), (السابقه, فندق), (فندق, الافريقيه), (الافريقيه, ريجنت), (ريجنت, الدخول), (الدخول, بالمطار), (بالمطار, غرب), (غرب, فندق), (فندق, خيارريجينت), (خيارريجينت, افريكان), (افريكان, وفندق), (وفندق, ايربيورت), (ايربيورت, ويست), (ويست, خيار), (خيار, قوي), (قوي, لتلك), (لتلك, المنطقه), (المنطقه, المدينه), (المدينه, حركه), (حركه, المرور), (المرور, اكرا), (اكرا, مُصابه), ...]\n",
              "2                                                                                                                                                                                                                                                                                                                                                                                                                                                                                                                                                                                                                                                                                                                                                                                                                                                                                                                                                                                                                                                                                          [(اسوا, فندق), (فندق, اقمت), (اقمت, الاطلاق), (الاطلاق, يستغرق), (يستغرق, تسجيل), (تسجيل, الوصول), (الوصول, حوالي), (حوالي, 30), (30, دقيقه), (دقيقه, باهظ), (باهظ, الثمن), (الثمن, غرف), (غرف, قديمه), (قديمه, جداً), (جداً, وقذره), (وقذره, سجاده), (سجاده, قذره), (قذره, جداً), (جداً, المجمل), (المجمل, تجربه), (تجربه, سيئه), (سيئه, للغايه), (للغايه, مثل), (مثل, الفندق), (الفندق, سيكون), (سيكون, آسيا), (آسيا, نجمه), (نجمه, واحده), (واحده, ويمكن), (ويمكن, اذهب), (اذهب, 30), (30, دولار), (دولار, امريكي), (امريكي, السعر), (السعر, فندق), (فندق, نوفوتيل), (نوفوتيل, حوالي), (حوالي, 250), (250, دولار), (دولار, امريكي)]\n",
              "3                                                                                                                                                                                                                                                                                                                                                                                                                                                                                                                                                                                                                                                                                                                                                                                                                                                                                                                                                                                                                                                                                                                                      [(بدون, روح), (روح, كانه), (كانه, فندق), (فندق, ثلاثه), (ثلاثه, نجوم), (نجوم, بدون), (بدون, اداره), (اداره, احترافيه), (احترافيه, الفندق), (الفندق, يبدو), (يبدو, كمركب), (كمركب, ضائع), (ضائع, البحر), (البحر, الغرف), (الغرف, موزعه), (موزعه, بطريقه), (بطريقه, عشوائيه), (عشوائيه, والافطار), (والافطار, نقانق), (نقانق, بارده), (بارده, سخيفه), (سخيفه, ونفس), (ونفس, السلطه), (السلطه, القديمه), (القديمه, مكيف), (مكيف, الهواء), (الهواء, يثير), (يثير, الضوضاء), (الضوضاء, الغرفه), (الغرفه, المستحيل), (المستحيل, ايقافه), (ايقافه, ولكن), (ولكن, مركز), (مركز, صحي), (صحي, رائع)]\n",
              "4                                                                                                                                                                                                                                                                                                                                                                                                                                                                                                                                                                                                                                                                                                                                                                                                                      [(فندق, جميل), (جميل, سوء), (سوء, الاداره), (الاداره, والخدمات), (والخدمات, الخارج), (الخارج, بدا), (بدا, مبشرًا), (مبشرًا, خيبه), (خيبه, الامل), (الامل, بدات), (بدات, وقت), (وقت, الغداء), (الغداء, جوده), (جوده, الطعام), (الطعام, سيئه), (سيئه, سيئه), (سيئه, سيئه), (سيئه, والحساء), (والحساء, مزريًا), (مزريًا, جدًا), (جدًا, والفواكه), (والفواكه, جودتها), (جودتها, سيئه), (سيئه, البكيخ), (البكيخ, متعفنًا), (متعفنًا, واو), (واو, اشتكى), (اشتكى, زملائي), (زملائي, وجود), (وجود, مناشف), (مناشف, غرفهم), (غرفهم, حوالي), (حوالي, الساعه), (الساعه, 8), (8, مساءً), (مساءً, والبعض), (والبعض, تكن), (تكن, اسرّتهم), (اسرّتهم, مرتبه), (مرتبه, الساعه), (الساعه, 5), (5, مساءً), (مساءً, تناولنا), (تناولنا, عشاء), (عشاء, مكسيكيًا), (مكسيكيًا, ومره), (ومره, قائمه), (قائمه, الطعام), (الطعام, مزريه), (مزريه, اقيم), (اقيم, هنا), (هنا, ابدًا), (ابدًا, الاقل), (الاقل, اتحدث), (اتحدث, نفسي)]\n",
              "...                                                                                                                                                                                                                                                                                                                                                                                                                                                                                                                                                                                                                                                                                                                                                                                                                                                                                                                                                                                                                                                                                                                                                                                                                                                                                                                                                                                                                                                                                                                                                                                                                                                                                                                           ...\n",
              "15567                                                                                                                                                                                                                                                                                                                                                                                                                                                                                                                                                                                                                                                                                                                                                                                                                                                                                                                                                                                                                                                                                       [(قريب, شي), (شي, جميل), (جميل, وهادي), (وهادي, وكل), (وكل, شي), (شي, حولك), (حولك, حتي), (حتي, المواقف), (المواقف, هادي), (هادي, يصلح), (يصلح, لزوجين), (لزوجين, لشهر), (لشهر, العسل), (العسل, ابسالا), (ابسالا, مدينه), (مدينه, حالمه), (حالمه, طبيعه), (طبيعه, وهدوء), (وهدوء, انصح), (انصح, بالزياره), (بالزياره, والتمتع), (والتمتع, بجو), (بجو, المدينه), (المدينه, تاريخ), (تاريخ, الفندق), (الفندق, موقعه), (موقعه, جداً), (جداً, ممتاز), (ممتاز, بقرب), (بقرب, محطه), (محطه, القطار), (القطار, ورحابه), (ورحابه, الموظفين), (الموظفين, جداً), (جداً, راقيه), (راقيه, خدمه), (خدمه, سريعه), (سريعه, نظافته), (نظافته, وتوفر)]\n",
              "15568                                                                                                                                                                                                                                                                                                                                                                                                                                                                                                                                                                                                                                                                                                                                                                                                                                                                                                                                                                                                                                                                                                                                                                                                                                           [(فندق, رائع), (رائع, وممتاز), (وممتاز, لقد), (لقد, نزلت), (نزلت, بتاريخ), (بتاريخ, 1), (1, 12), (12, 2013), (2013, الفندق), (الفندق, وبقيت), (وبقيت, بحدود), (بحدود, 10), (10, وشهادت), (وشهادت, جيد), (جيد, الراحه), (الراحه, والخدمه), (والخدمه, شكرا), (شكرا, لكم), (لكم, قدمتموه), (قدمتموه, وكم), (وكم, اتمنى), (اتمنى, اعود), (اعود, وانزل), (وانزل, الفندق), (الفندق, لانه), (لانه, يقع), (يقع, قلب), (قلب, المدينه), (المدينه, وكل), (وكل, شي), (شي, قريب), (قريب, منك)]\n",
              "15569                                                                                                                                                                                                                                                                                                                                                                                                                                                                                                                                                                                                                                                                                                                                                                                                                                                                                              [(جيد, الفندق), (الفندق, ميزته), (ميزته, يقع), (يقع, قرب), (قرب, مركز), (مركز, شرطه), (شرطه, العاصمه), (العاصمه, وعموما), (وعموما, اوغندا), (اوغندا, امان), (امان, وليس), (وليس, الخطوره), (الخطوره, السفر), (السفر, يتميز), (يتميز, الفندق), (الفندق, رخيص), (رخيص, نفس), (نفس, مستوى), (مستوى, نظافته), (نظافته, ممتاز), (ممتاز, وهذا), (وهذا, اهم), (اهم, شيء), (شيء, تلك), (تلك, البلاد), (البلاد, المطعم), (المطعم, الفندق), (الفندق, بالنسبه), (بالنسبه, باقي), (باقي, المطاعم), (المطاعم, المدينه), (المدينه, متوسط), (متوسط, ولكن), (ولكن, بالمقارنه), (بالمقارنه, بفنادق), (بفنادق, مدن), (مدن, فهو), (فهو, ضعيف), (ضعيف, خدمه), (خدمه, مساج), (مساج, الغرف), (الغرف, تاتيك), (تاتيك, المدلكه), (المدلكه, جميله), (جميله, سمراء), (سمراء, تقوم), (تقوم, بتدليك), (بتدليك, جسمك), (جسمك, بالطريقه), (بالطريقه, تعجبك)]\n",
              "15570                                                                                                                                                                                                      [(احقر, مكان), (مكان, وجه), (وجه, الارض), (الارض, انصح), (انصح, يقومون), (يقومون, بتصفح), (بتصفح, الفنادق), (الفنادق, عبر), (عبر, الانترنت), (الانترنت, بالتروى), (بالتروى, الاختيار), (الاختيار, فهذا), (فهذا, المكان), (المكان, احقر), (احقر, وجدت), (وجدت, المغرب), (المغرب, فهو), (فهو, بعيد), (بعيد, جدا), (جدا, مراكش), (مراكش, وسط), (وسط, الزراعات), (الزراعات, والادغال), (والادغال, ولاتوجد), (ولاتوجد, خدمه), (خدمه, بالداخل), (بالداخل, يوجد), (يوجد, انترنت), (انترنت, والتواليتات), (والتواليتات, الخاصه), (الخاصه, بالغرف), (بالغرف, تعمل), (تعمل, سليم), (سليم, ومسدوده), (ومسدوده, والافطار), (والافطار, عباره), (عباره, بيضه), (بيضه, مسلوقه), (مسلوقه, وقطعه), (وقطعه, الجبن), (الجبن, قليل), (قليل, المربى), (المربى, والزبد), (والزبد, البلدى), (البلدى, والخبز), (والخبز, الغداء), (الغداء, والعشاء), (والعشاء, فالله), (فالله, بالسر), (بالسر, عليم), (عليم, فلقد), (فلقد, ندمنا), (ندمنا, فعلنا), (فعلنا, وايضا), (وايضا, وجدنا), (وجدنا, التواليت), (التواليت, مسدود), (مسدود, وعندما), (وعندما, طلبنا), (طلبنا, تغييره), (تغييره, قالو), (قالو, لنا), (لنا, بانهم), (بانهم, قامو), (قامو, بدفع), (بدفع, مبلغ), (مبلغ, اصلاحه), (اصلاحه, فهل), (فهل, نحن), (نحن, ملتزمون), (ملتزمون, بتصليح), (بتصليح, التواليت), (التواليت, ناهيك), (ناهيك, المكان), (المكان, الموجود), (الموجود, الفندق), (الفندق, ليس), (ليس, فندق), (فندق, وانما), (وانما, قبر), (قبر, وسط), (وسط, الزراعات), (الزراعات, حياه), (حياه, بشر), (بشر, وهذا), (وهذا, للامانه), (للامانه, احببت), (احببت, انصح), (انصح, غيرى)]\n",
              "15571                                                                                                                                                                                                                                                                                                                                                                                                                                                                                                                                                                                                                                                                                                                                                                                                                                                                                                                                                                                                                                                                                                                                                                                                                [(ضيق, جدا), (جدا, الفندق), (الفندق, ضيق), (ضيق, جدا), (جدا, مساحه), (مساحه, الغرف), (الغرف, والحمامات), (والحمامات, مكانه), (مكانه, ليس), (ليس, سئ), (سئ, قريب), (قريب, اللوفر), (اللوفر, وبرج), (وبرج, ايفل), (ايفل, الطعام), (الطعام, عندهم), (عندهم, ماجربته), (ماجربته, مستوى), (مستوى, النظافه), (النظافه, ممتاز), (ممتاز, المكان), (المكان, ماينفع), (ماينفع, لذوي), (لذوي, الاحتياجات), (الاحتياجات, الخاصه), (الخاصه, خاصه), (خاصه, مصعدهم), (مصعدهم, مره), (مره, ضيق), (ضيق, وقديم), (وقديم, جدا)]\n",
              "\n",
              "[15572 rows x 1 columns]"
            ],
            "text/html": [
              "\n",
              "  <div id=\"df-e770cac7-de1d-48ae-a114-13877c58c06b\">\n",
              "    <div class=\"colab-df-container\">\n",
              "      <div>\n",
              "<style scoped>\n",
              "    .dataframe tbody tr th:only-of-type {\n",
              "        vertical-align: middle;\n",
              "    }\n",
              "\n",
              "    .dataframe tbody tr th {\n",
              "        vertical-align: top;\n",
              "    }\n",
              "\n",
              "    .dataframe thead th {\n",
              "        text-align: right;\n",
              "    }\n",
              "</style>\n",
              "<table border=\"1\" class=\"dataframe\">\n",
              "  <thead>\n",
              "    <tr style=\"text-align: right;\">\n",
              "      <th></th>\n",
              "      <th>bigrams</th>\n",
              "    </tr>\n",
              "  </thead>\n",
              "  <tbody>\n",
              "    <tr>\n",
              "      <th>0</th>\n",
              "      <td>[(المكان, يمكنك), (يمكنك, مراجعه), (مراجعه, الذات), (الذات, والتفكر), (والتفكر, كوكروبيت), (كوكروبيت, غانا), (غانا, ثمه), (ثمه, الكثير), (الكثير, زياره), (زياره, غانا), (غانا, وعلى), (وعلى, الرغم), (الرغم, الفقر), (الفقر, سوف), (سوف, تلاحظه), (تلاحظه, طريقك), (طريقك, بيغ), (بيغ, ميلي), (ميلي, باكيارد), (باكيارد, وجدت), (وجدت, الناس), (الناس, غانا), (غانا, يملكون), (يملكون, ثراء), (ثراء, القلب), (القلب, رغم), (رغم, العوز), (العوز, بيغ), (بيغ, ميلي), (ميلي, باكيارد), (باكيارد, مكان), (مكان, يمكنني), (يمكنني, مراجعه), (مراجعه, الذات), (الذات, والتفكر), (والتفكر, التقيت), (التقيت, اشخاصاً), (اشخاصاً, كانوا), (كانوا, يعملون), (يعملون, مبادرات), (مبادرات, مختلفه), (مختلفه, بيغ), (بيغ, ميلي), (ميلي, مكان), (مكان, يمكننا), (يمكننا, تبادل), (تبادل, الملاحظات), (الملاحظات, والآراء), (والآراء, بيغ), (بيغ, ميلي), (ميلي, مليء), (مليء, بالسلام), (بالسلام, وهادئ), (وهادئ, للغايه), (للغايه, الطعام), (الطعام, ممتاز), (ممتاز, جداً), (جداً, الطهاه), (الطهاه, ممتازون), (ممتازون, وبالاضافه), (وبالاضافه, بد), (بد, الاشاره), (الاشاره, العمال), (العمال, يكلون), (يكلون, ويحرصون), (ويحرصون, سعاده), (سعاده, نزلائهم), (نزلائهم, هم), (هم, يجعلون), (يجعلون, المكان), (المكان, مضيافاً), (مضيافاً, خيبه), (خيبه, امل), (امل, واحده), (واحده, كبيره), (كبيره, رغم), (رغم, الفنون), (الفنون, والاشغال), (والاشغال, اليدويه), (اليدويه, شراؤها), (شراؤها, الموقع), (الموقع, الاسعار), (الاسعار, غاليه), (غاليه, مؤخراً), (مؤخراً, ازالت), (ازالت, السلطات), (السلطات, كوكروبيت), (كوكروبيت, محلات), (محلات, التجار), (التجار, الواقعه), (الواقعه, خارج), (خارج, شاطئ), (شاطئ, بيغ), (بيغ, ميلي), (ميلي, منتجات), (منتجات, التجار), (التجار, ارخص), (ارخص, يزال), (يزال, محل), (محل, تجاري), ...]</td>\n",
              "    </tr>\n",
              "    <tr>\n",
              "      <th>1</th>\n",
              "      <td>[(موقع, رائع), (رائع, وحديقه), (وحديقه, رائعه), (رائعه, ويستحق), (ويستحق, نجمهّ), (نجمهّ, اضافيه), (اضافيه, الرغم), (الرغم, الغرف), (الغرف, ليست), (ليست, فاخره), (فاخره, فهي), (فهي, نظيفه), (نظيفه, جداً), (جداً, وتعمل), (وتعمل, مثالي), (مثالي, بالتاكيد), (بالتاكيد, التصرفات), (التصرفات, الفرديه), (الفرديه, والجماعيه), (والجماعيه, ولكن), (ولكن, تكييف), (تكييف, هواء), (هواء, كبير), (كبير, وجيد), (وجيد, ونوافذ), (ونوافذ, مزدوجه), (مزدوجه, جيده), (جيده, شاشات), (شاشات, منطقه), (منطقه, الحديقه), (الحديقه, تحتوى), (تحتوى, 3), (3, مطاعم), (مطاعم, بالاضافه), (بالاضافه, بار), (بار, رياضي), (رياضي, تبلغ), (تبلغ, تكلفه), (تكلفه, الانترنت), (الانترنت, اللاسلكي), (اللاسلكي, 1), (1, 50), (50, دولار), (دولار, للساعه), (للساعه, يوجد), (يوجد, خصم), (خصم, الفترات), (الفترات, الاطول), (الاطول, لذلك), (لذلك, اضطررت), (اضطررت, اغلاق), (اغلاق, حاسوبي), (حاسوبي, بي), (بي, رخيص), (رخيص, جداً), (جداً, يبدو), (يبدو, العديد), (العديد, الزوار), (الزوار, الاجانب), (الاجانب, 85), (85, دولار), (دولار, امريكي), (امريكي, لليله), (لليله, بما), (بما, بوفيه), (بوفيه, افطار), (افطار, بمستوى), (بمستوى, نجمه), (نجمه, واحده), (واحده, اقامه), (اقامه, افضل), (افضل, بكثير), (بكثير, مما), (مما, اعتقدت), (اعتقدت, سنعود), (سنعود, بالتاكيد), (بالتاكيد, شملت), (شملت, الاقامات), (الاقامات, السابقه), (السابقه, فندق), (فندق, الافريقيه), (الافريقيه, ريجنت), (ريجنت, الدخول), (الدخول, بالمطار), (بالمطار, غرب), (غرب, فندق), (فندق, خيارريجينت), (خيارريجينت, افريكان), (افريكان, وفندق), (وفندق, ايربيورت), (ايربيورت, ويست), (ويست, خيار), (خيار, قوي), (قوي, لتلك), (لتلك, المنطقه), (المنطقه, المدينه), (المدينه, حركه), (حركه, المرور), (المرور, اكرا), (اكرا, مُصابه), ...]</td>\n",
              "    </tr>\n",
              "    <tr>\n",
              "      <th>2</th>\n",
              "      <td>[(اسوا, فندق), (فندق, اقمت), (اقمت, الاطلاق), (الاطلاق, يستغرق), (يستغرق, تسجيل), (تسجيل, الوصول), (الوصول, حوالي), (حوالي, 30), (30, دقيقه), (دقيقه, باهظ), (باهظ, الثمن), (الثمن, غرف), (غرف, قديمه), (قديمه, جداً), (جداً, وقذره), (وقذره, سجاده), (سجاده, قذره), (قذره, جداً), (جداً, المجمل), (المجمل, تجربه), (تجربه, سيئه), (سيئه, للغايه), (للغايه, مثل), (مثل, الفندق), (الفندق, سيكون), (سيكون, آسيا), (آسيا, نجمه), (نجمه, واحده), (واحده, ويمكن), (ويمكن, اذهب), (اذهب, 30), (30, دولار), (دولار, امريكي), (امريكي, السعر), (السعر, فندق), (فندق, نوفوتيل), (نوفوتيل, حوالي), (حوالي, 250), (250, دولار), (دولار, امريكي)]</td>\n",
              "    </tr>\n",
              "    <tr>\n",
              "      <th>3</th>\n",
              "      <td>[(بدون, روح), (روح, كانه), (كانه, فندق), (فندق, ثلاثه), (ثلاثه, نجوم), (نجوم, بدون), (بدون, اداره), (اداره, احترافيه), (احترافيه, الفندق), (الفندق, يبدو), (يبدو, كمركب), (كمركب, ضائع), (ضائع, البحر), (البحر, الغرف), (الغرف, موزعه), (موزعه, بطريقه), (بطريقه, عشوائيه), (عشوائيه, والافطار), (والافطار, نقانق), (نقانق, بارده), (بارده, سخيفه), (سخيفه, ونفس), (ونفس, السلطه), (السلطه, القديمه), (القديمه, مكيف), (مكيف, الهواء), (الهواء, يثير), (يثير, الضوضاء), (الضوضاء, الغرفه), (الغرفه, المستحيل), (المستحيل, ايقافه), (ايقافه, ولكن), (ولكن, مركز), (مركز, صحي), (صحي, رائع)]</td>\n",
              "    </tr>\n",
              "    <tr>\n",
              "      <th>4</th>\n",
              "      <td>[(فندق, جميل), (جميل, سوء), (سوء, الاداره), (الاداره, والخدمات), (والخدمات, الخارج), (الخارج, بدا), (بدا, مبشرًا), (مبشرًا, خيبه), (خيبه, الامل), (الامل, بدات), (بدات, وقت), (وقت, الغداء), (الغداء, جوده), (جوده, الطعام), (الطعام, سيئه), (سيئه, سيئه), (سيئه, سيئه), (سيئه, والحساء), (والحساء, مزريًا), (مزريًا, جدًا), (جدًا, والفواكه), (والفواكه, جودتها), (جودتها, سيئه), (سيئه, البكيخ), (البكيخ, متعفنًا), (متعفنًا, واو), (واو, اشتكى), (اشتكى, زملائي), (زملائي, وجود), (وجود, مناشف), (مناشف, غرفهم), (غرفهم, حوالي), (حوالي, الساعه), (الساعه, 8), (8, مساءً), (مساءً, والبعض), (والبعض, تكن), (تكن, اسرّتهم), (اسرّتهم, مرتبه), (مرتبه, الساعه), (الساعه, 5), (5, مساءً), (مساءً, تناولنا), (تناولنا, عشاء), (عشاء, مكسيكيًا), (مكسيكيًا, ومره), (ومره, قائمه), (قائمه, الطعام), (الطعام, مزريه), (مزريه, اقيم), (اقيم, هنا), (هنا, ابدًا), (ابدًا, الاقل), (الاقل, اتحدث), (اتحدث, نفسي)]</td>\n",
              "    </tr>\n",
              "    <tr>\n",
              "      <th>...</th>\n",
              "      <td>...</td>\n",
              "    </tr>\n",
              "    <tr>\n",
              "      <th>15567</th>\n",
              "      <td>[(قريب, شي), (شي, جميل), (جميل, وهادي), (وهادي, وكل), (وكل, شي), (شي, حولك), (حولك, حتي), (حتي, المواقف), (المواقف, هادي), (هادي, يصلح), (يصلح, لزوجين), (لزوجين, لشهر), (لشهر, العسل), (العسل, ابسالا), (ابسالا, مدينه), (مدينه, حالمه), (حالمه, طبيعه), (طبيعه, وهدوء), (وهدوء, انصح), (انصح, بالزياره), (بالزياره, والتمتع), (والتمتع, بجو), (بجو, المدينه), (المدينه, تاريخ), (تاريخ, الفندق), (الفندق, موقعه), (موقعه, جداً), (جداً, ممتاز), (ممتاز, بقرب), (بقرب, محطه), (محطه, القطار), (القطار, ورحابه), (ورحابه, الموظفين), (الموظفين, جداً), (جداً, راقيه), (راقيه, خدمه), (خدمه, سريعه), (سريعه, نظافته), (نظافته, وتوفر)]</td>\n",
              "    </tr>\n",
              "    <tr>\n",
              "      <th>15568</th>\n",
              "      <td>[(فندق, رائع), (رائع, وممتاز), (وممتاز, لقد), (لقد, نزلت), (نزلت, بتاريخ), (بتاريخ, 1), (1, 12), (12, 2013), (2013, الفندق), (الفندق, وبقيت), (وبقيت, بحدود), (بحدود, 10), (10, وشهادت), (وشهادت, جيد), (جيد, الراحه), (الراحه, والخدمه), (والخدمه, شكرا), (شكرا, لكم), (لكم, قدمتموه), (قدمتموه, وكم), (وكم, اتمنى), (اتمنى, اعود), (اعود, وانزل), (وانزل, الفندق), (الفندق, لانه), (لانه, يقع), (يقع, قلب), (قلب, المدينه), (المدينه, وكل), (وكل, شي), (شي, قريب), (قريب, منك)]</td>\n",
              "    </tr>\n",
              "    <tr>\n",
              "      <th>15569</th>\n",
              "      <td>[(جيد, الفندق), (الفندق, ميزته), (ميزته, يقع), (يقع, قرب), (قرب, مركز), (مركز, شرطه), (شرطه, العاصمه), (العاصمه, وعموما), (وعموما, اوغندا), (اوغندا, امان), (امان, وليس), (وليس, الخطوره), (الخطوره, السفر), (السفر, يتميز), (يتميز, الفندق), (الفندق, رخيص), (رخيص, نفس), (نفس, مستوى), (مستوى, نظافته), (نظافته, ممتاز), (ممتاز, وهذا), (وهذا, اهم), (اهم, شيء), (شيء, تلك), (تلك, البلاد), (البلاد, المطعم), (المطعم, الفندق), (الفندق, بالنسبه), (بالنسبه, باقي), (باقي, المطاعم), (المطاعم, المدينه), (المدينه, متوسط), (متوسط, ولكن), (ولكن, بالمقارنه), (بالمقارنه, بفنادق), (بفنادق, مدن), (مدن, فهو), (فهو, ضعيف), (ضعيف, خدمه), (خدمه, مساج), (مساج, الغرف), (الغرف, تاتيك), (تاتيك, المدلكه), (المدلكه, جميله), (جميله, سمراء), (سمراء, تقوم), (تقوم, بتدليك), (بتدليك, جسمك), (جسمك, بالطريقه), (بالطريقه, تعجبك)]</td>\n",
              "    </tr>\n",
              "    <tr>\n",
              "      <th>15570</th>\n",
              "      <td>[(احقر, مكان), (مكان, وجه), (وجه, الارض), (الارض, انصح), (انصح, يقومون), (يقومون, بتصفح), (بتصفح, الفنادق), (الفنادق, عبر), (عبر, الانترنت), (الانترنت, بالتروى), (بالتروى, الاختيار), (الاختيار, فهذا), (فهذا, المكان), (المكان, احقر), (احقر, وجدت), (وجدت, المغرب), (المغرب, فهو), (فهو, بعيد), (بعيد, جدا), (جدا, مراكش), (مراكش, وسط), (وسط, الزراعات), (الزراعات, والادغال), (والادغال, ولاتوجد), (ولاتوجد, خدمه), (خدمه, بالداخل), (بالداخل, يوجد), (يوجد, انترنت), (انترنت, والتواليتات), (والتواليتات, الخاصه), (الخاصه, بالغرف), (بالغرف, تعمل), (تعمل, سليم), (سليم, ومسدوده), (ومسدوده, والافطار), (والافطار, عباره), (عباره, بيضه), (بيضه, مسلوقه), (مسلوقه, وقطعه), (وقطعه, الجبن), (الجبن, قليل), (قليل, المربى), (المربى, والزبد), (والزبد, البلدى), (البلدى, والخبز), (والخبز, الغداء), (الغداء, والعشاء), (والعشاء, فالله), (فالله, بالسر), (بالسر, عليم), (عليم, فلقد), (فلقد, ندمنا), (ندمنا, فعلنا), (فعلنا, وايضا), (وايضا, وجدنا), (وجدنا, التواليت), (التواليت, مسدود), (مسدود, وعندما), (وعندما, طلبنا), (طلبنا, تغييره), (تغييره, قالو), (قالو, لنا), (لنا, بانهم), (بانهم, قامو), (قامو, بدفع), (بدفع, مبلغ), (مبلغ, اصلاحه), (اصلاحه, فهل), (فهل, نحن), (نحن, ملتزمون), (ملتزمون, بتصليح), (بتصليح, التواليت), (التواليت, ناهيك), (ناهيك, المكان), (المكان, الموجود), (الموجود, الفندق), (الفندق, ليس), (ليس, فندق), (فندق, وانما), (وانما, قبر), (قبر, وسط), (وسط, الزراعات), (الزراعات, حياه), (حياه, بشر), (بشر, وهذا), (وهذا, للامانه), (للامانه, احببت), (احببت, انصح), (انصح, غيرى)]</td>\n",
              "    </tr>\n",
              "    <tr>\n",
              "      <th>15571</th>\n",
              "      <td>[(ضيق, جدا), (جدا, الفندق), (الفندق, ضيق), (ضيق, جدا), (جدا, مساحه), (مساحه, الغرف), (الغرف, والحمامات), (والحمامات, مكانه), (مكانه, ليس), (ليس, سئ), (سئ, قريب), (قريب, اللوفر), (اللوفر, وبرج), (وبرج, ايفل), (ايفل, الطعام), (الطعام, عندهم), (عندهم, ماجربته), (ماجربته, مستوى), (مستوى, النظافه), (النظافه, ممتاز), (ممتاز, المكان), (المكان, ماينفع), (ماينفع, لذوي), (لذوي, الاحتياجات), (الاحتياجات, الخاصه), (الخاصه, خاصه), (خاصه, مصعدهم), (مصعدهم, مره), (مره, ضيق), (ضيق, وقديم), (وقديم, جدا)]</td>\n",
              "    </tr>\n",
              "  </tbody>\n",
              "</table>\n",
              "<p>15572 rows × 1 columns</p>\n",
              "</div>\n",
              "      <button class=\"colab-df-convert\" onclick=\"convertToInteractive('df-e770cac7-de1d-48ae-a114-13877c58c06b')\"\n",
              "              title=\"Convert this dataframe to an interactive table.\"\n",
              "              style=\"display:none;\">\n",
              "        \n",
              "  <svg xmlns=\"http://www.w3.org/2000/svg\" height=\"24px\"viewBox=\"0 0 24 24\"\n",
              "       width=\"24px\">\n",
              "    <path d=\"M0 0h24v24H0V0z\" fill=\"none\"/>\n",
              "    <path d=\"M18.56 5.44l.94 2.06.94-2.06 2.06-.94-2.06-.94-.94-2.06-.94 2.06-2.06.94zm-11 1L8.5 8.5l.94-2.06 2.06-.94-2.06-.94L8.5 2.5l-.94 2.06-2.06.94zm10 10l.94 2.06.94-2.06 2.06-.94-2.06-.94-.94-2.06-.94 2.06-2.06.94z\"/><path d=\"M17.41 7.96l-1.37-1.37c-.4-.4-.92-.59-1.43-.59-.52 0-1.04.2-1.43.59L10.3 9.45l-7.72 7.72c-.78.78-.78 2.05 0 2.83L4 21.41c.39.39.9.59 1.41.59.51 0 1.02-.2 1.41-.59l7.78-7.78 2.81-2.81c.8-.78.8-2.07 0-2.86zM5.41 20L4 18.59l7.72-7.72 1.47 1.35L5.41 20z\"/>\n",
              "  </svg>\n",
              "      </button>\n",
              "      \n",
              "  <style>\n",
              "    .colab-df-container {\n",
              "      display:flex;\n",
              "      flex-wrap:wrap;\n",
              "      gap: 12px;\n",
              "    }\n",
              "\n",
              "    .colab-df-convert {\n",
              "      background-color: #E8F0FE;\n",
              "      border: none;\n",
              "      border-radius: 50%;\n",
              "      cursor: pointer;\n",
              "      display: none;\n",
              "      fill: #1967D2;\n",
              "      height: 32px;\n",
              "      padding: 0 0 0 0;\n",
              "      width: 32px;\n",
              "    }\n",
              "\n",
              "    .colab-df-convert:hover {\n",
              "      background-color: #E2EBFA;\n",
              "      box-shadow: 0px 1px 2px rgba(60, 64, 67, 0.3), 0px 1px 3px 1px rgba(60, 64, 67, 0.15);\n",
              "      fill: #174EA6;\n",
              "    }\n",
              "\n",
              "    [theme=dark] .colab-df-convert {\n",
              "      background-color: #3B4455;\n",
              "      fill: #D2E3FC;\n",
              "    }\n",
              "\n",
              "    [theme=dark] .colab-df-convert:hover {\n",
              "      background-color: #434B5C;\n",
              "      box-shadow: 0px 1px 3px 1px rgba(0, 0, 0, 0.15);\n",
              "      filter: drop-shadow(0px 1px 2px rgba(0, 0, 0, 0.3));\n",
              "      fill: #FFFFFF;\n",
              "    }\n",
              "  </style>\n",
              "\n",
              "      <script>\n",
              "        const buttonEl =\n",
              "          document.querySelector('#df-e770cac7-de1d-48ae-a114-13877c58c06b button.colab-df-convert');\n",
              "        buttonEl.style.display =\n",
              "          google.colab.kernel.accessAllowed ? 'block' : 'none';\n",
              "\n",
              "        async function convertToInteractive(key) {\n",
              "          const element = document.querySelector('#df-e770cac7-de1d-48ae-a114-13877c58c06b');\n",
              "          const dataTable =\n",
              "            await google.colab.kernel.invokeFunction('convertToInteractive',\n",
              "                                                     [key], {});\n",
              "          if (!dataTable) return;\n",
              "\n",
              "          const docLinkHtml = 'Like what you see? Visit the ' +\n",
              "            '<a target=\"_blank\" href=https://colab.research.google.com/notebooks/data_table.ipynb>data table notebook</a>'\n",
              "            + ' to learn more about interactive tables.';\n",
              "          element.innerHTML = '';\n",
              "          dataTable['output_type'] = 'display_data';\n",
              "          await google.colab.output.renderOutput(dataTable, element);\n",
              "          const docLink = document.createElement('div');\n",
              "          docLink.innerHTML = docLinkHtml;\n",
              "          element.appendChild(docLink);\n",
              "        }\n",
              "      </script>\n",
              "    </div>\n",
              "  </div>\n",
              "  "
            ]
          },
          "metadata": {},
          "execution_count": 77
        }
      ],
      "source": [
        "answer_df_u['bigrams'].to_frame()"
      ]
    },
    {
      "cell_type": "code",
      "execution_count": null,
      "metadata": {
        "id": "kKpdUhB5hLGq"
      },
      "outputs": [],
      "source": []
    },
    {
      "cell_type": "code",
      "execution_count": null,
      "metadata": {
        "id": "Ebiw-xxDhLGs",
        "outputId": "f3602996-c0d9-4c6e-dbee-ef2fec7a2957",
        "colab": {
          "base_uri": "https://localhost:8080/"
        }
      },
      "outputs": [
        {
          "output_type": "execute_result",
          "data": {
            "text/plain": [
              "الفندق       39365\n",
              "جدا          31524\n",
              "جيد          18477\n",
              "الاستقبال    18199\n",
              "الغرفه       17290\n",
              "جداً         16923\n",
              "شي           16412\n",
              "الغرف        15538\n",
              "ممتاز        14796\n",
              "ضعيف         14290\n",
              "dtype: int64"
            ]
          },
          "metadata": {},
          "execution_count": 78
        }
      ],
      "source": [
        "df_f['text14'].str.split(expand=True).stack().value_counts().nlargest(10)"
      ]
    },
    {
      "cell_type": "code",
      "execution_count": null,
      "metadata": {
        "colab": {
          "base_uri": "https://localhost:8080/"
        },
        "id": "fyo3vdvKhLGt",
        "outputId": "c8a9de24-074d-4fae-bc35-91e3336434c3"
      },
      "outputs": [
        {
          "output_type": "execute_result",
          "data": {
            "text/plain": [
              "الفندق    19860\n",
              "فندق       9571\n",
              "جدا        7764\n",
              "الغرف      6088\n",
              "رائع       5782\n",
              "جيد        4968\n",
              "ولكن       4902\n",
              "الغرفه     4847\n",
              "جداً       4070\n",
              "الطعام     3778\n",
              "dtype: int64"
            ]
          },
          "metadata": {},
          "execution_count": 79
        }
      ],
      "source": [
        "df_u['text14'].str.split(expand=True).stack().value_counts().nlargest(10)"
      ]
    },
    {
      "cell_type": "markdown",
      "source": [
        "Word Cloud"
      ],
      "metadata": {
        "id": "grwdcT_P9piP"
      }
    },
    {
      "cell_type": "code",
      "execution_count": null,
      "metadata": {
        "id": "C-oxFYxNhLGz"
      },
      "outputs": [],
      "source": [
        "#to try later\n",
        "# s=df_f['text14'].to_string()\n",
        "# data = arabic_reshaper.reshape(s)\n",
        "# data = get_display(data)"
      ]
    },
    {
      "cell_type": "code",
      "execution_count": null,
      "metadata": {
        "id": "jFxoFJwWhLG5"
      },
      "outputs": [],
      "source": [
        "# s=df_u['text14'].to_string()\n",
        "# data = arabic_reshaper.reshape(s)\n",
        "# data = get_display(data)"
      ]
    },
    {
      "cell_type": "code",
      "execution_count": null,
      "metadata": {
        "id": "epIUI2QEhLG6",
        "outputId": "72a29457-d62d-43ad-9eb3-e22eae44c7c7"
      },
      "outputs": [
        {
          "data": {
            "image/png": "[encoded data removed]",
            "text/plain": [
              "<Figure size 576x576 with 1 Axes>"
            ]
          },
          "metadata": {
            "needs_background": "light"
          },
          "output_type": "display_data"
        }
      ],
      "source": [
        "# wordcloud = WordCloud(width = 1000, height = 800,background_color ='white',\n",
        "#                       font_path = '/content/gdrive/MyDrive/Arial.ttf',\n",
        "#                  min_font_size = 15,colormap='Set2').generate(data)#,font_path = 'arial.ttf'\n",
        "  \n",
        "# # # # plot the WordCloud image                       \n",
        "# plt.figure(figsize = (8, 8), facecolor = None)\n",
        "# plt.imshow(wordcloud,interpolation=\"bilinear\")\n",
        "# #plt.imshow(wordcloud, )\n",
        "\n",
        "# plt.axis(\"off\")\n",
        "\n",
        "# plt.tight_layout(pad = 0)\n",
        "  \n",
        "# plt.show()"
      ]
    },
    {
      "cell_type": "markdown",
      "metadata": {
        "id": "xD5sropPhLHF"
      },
      "source": [
        "\n",
        "#Sentiment Analysis"
      ]
    },
    {
      "cell_type": "code",
      "execution_count": null,
      "metadata": {
        "id": "sfk-MKbIhLHI"
      },
      "outputs": [],
      "source": [
        "# to use this\n",
        "X =df_u['text14']\n",
        "y = df_u['polarity']\n",
        "vect = CountVectorizer( ngram_range = (1,1), max_df = .80, min_df = 4)\n",
        "X_train, X_test, y_train, y_test = train_test_split(X,y,random_state=1, test_size= 0.2)\n",
        "#Using training data to transform text into counts of features for each message\n",
        "vect.fit(X_train)\n",
        "X_train_dtm = vect.transform(X_train) \n",
        "X_test_dtm = vect.transform(X_test)\n"
      ]
    },
    {
      "cell_type": "code",
      "execution_count": null,
      "metadata": {
        "id": "r9v1uITxhLHJ",
        "outputId": "5d9aaef1-eeb0-4eac-aa9c-6e41bf8ccfea",
        "colab": {
          "base_uri": "https://localhost:8080/"
        }
      },
      "outputs": [
        {
          "output_type": "stream",
          "name": "stdout",
          "text": [
            "(12457, 19702)\n",
            "(3115, 19702)\n"
          ]
        }
      ],
      "source": [
        "print(X_train_dtm.shape)\n",
        "print(X_test_dtm.shape)\n",
        "print(vect.transform(df_f['text14']).shape )"
      ]
    },
    {
      "cell_type": "markdown",
      "source": [
        "LogisticRegression"
      ],
      "metadata": {
        "id": "whJ_fYVg-bA6"
      }
    },
    {
      "cell_type": "code",
      "execution_count": null,
      "metadata": {
        "id": "jNugJCb5hLHK"
      },
      "outputs": [],
      "source": [
        "lr = LogisticRegression()"
      ]
    },
    {
      "cell_type": "code",
      "execution_count": null,
      "metadata": {
        "id": "fuhh-IfxhLHM"
      },
      "outputs": [],
      "source": [
        "#train_matrix"
      ]
    },
    {
      "cell_type": "code",
      "execution_count": null,
      "metadata": {
        "id": "jyM5biuEhLHQ",
        "outputId": "aec53fbe-bb65-4a51-b5b7-36e08087d448",
        "colab": {
          "base_uri": "https://localhost:8080/"
        }
      },
      "outputs": [
        {
          "output_type": "stream",
          "name": "stderr",
          "text": [
            "/usr/local/lib/python3.7/dist-packages/sklearn/linear_model/_logistic.py:818: ConvergenceWarning:\n",
            "\n",
            "lbfgs failed to converge (status=1):\n",
            "STOP: TOTAL NO. of ITERATIONS REACHED LIMIT.\n",
            "\n",
            "Increase the number of iterations (max_iter) or scale the data as shown in:\n",
            "    https://scikit-learn.org/stable/modules/preprocessing.html\n",
            "Please also refer to the documentation for alternative solver options:\n",
            "    https://scikit-learn.org/stable/modules/linear_model.html#logistic-regression\n",
            "\n"
          ]
        },
        {
          "output_type": "execute_result",
          "data": {
            "text/plain": [
              "LogisticRegression()"
            ]
          },
          "metadata": {},
          "execution_count": 23
        }
      ],
      "source": [
        "lr.fit(X_train_dtm,y_train)"
      ]
    },
    {
      "cell_type": "code",
      "execution_count": null,
      "metadata": {
        "id": "nLmjeZ8ehLHS"
      },
      "outputs": [],
      "source": [
        "predictions = lr.predict(X_test_dtm)"
      ]
    },
    {
      "cell_type": "code",
      "execution_count": 2,
      "metadata": {
        "id": "7uIO2yjwhLHT"
      },
      "outputs": [],
      "source": [
        "new = np.asarray(y_test)\n",
        "confusion_matrix(predictions,y_test)"
      ]
    },
    {
      "cell_type": "code",
      "execution_count": 3,
      "metadata": {
        "id": "friI78kQhLHV"
      },
      "outputs": [],
      "source": [
        "sns.heatmap(confusion_matrix(predictions,y_test), square=True, annot=True, fmt='d', cbar=False)\n",
        "plt.xlabel('true label')\n",
        "plt.ylabel('predicted label')"
      ]
    },
    {
      "cell_type": "markdown",
      "source": [
        "MultinomialNB Classifier"
      ],
      "metadata": {
        "id": "4_d25xM3-RJ7"
      }
    },
    {
      "cell_type": "code",
      "execution_count": 4,
      "metadata": {
        "id": "zPUiijBHhLHW"
      },
      "outputs": [],
      "source": [
        "NB = MultinomialNB()\n",
        "NB.fit(X_train_dtm,y_train)\n",
        "y_pred = NB.predict(X_test_dtm)\n",
        "print('\\nNaive Bayes')\n",
        "print('Accuracy Score: ',metrics.accuracy_score(y_test,y_pred)*100,'%',sep='')\n",
        "print('Confusion Matrix: ',metrics.confusion_matrix(y_test,y_pred), sep = '\\n')\n"
      ]
    },
    {
      "cell_type": "code",
      "execution_count": 5,
      "metadata": {
        "id": "THm_gOw3hLHY"
      },
      "outputs": [],
      "source": [
        "sns.heatmap(metrics.confusion_matrix(y_test,y_pred), square=True, annot=True, fmt='d', cbar=False)\n",
        "plt.xlabel('true label')\n",
        "plt.ylabel('predicted label')"
      ]
    },
    {
      "cell_type": "markdown",
      "source": [
        "To test with new data"
      ],
      "metadata": {
        "id": "CY0duBU8-fAA"
      }
    },
    {
      "cell_type": "code",
      "execution_count": null,
      "metadata": {
        "id": "TXH1TwNphLHc"
      },
      "outputs": [],
      "source": [
        "x_test1=vect.transform(df_f['text14'])"
      ]
    },
    {
      "cell_type": "code",
      "execution_count": null,
      "metadata": {
        "id": "GyE3G9n0hLHc",
        "outputId": "6234c71f-fa62-48c8-b491-0d22d299e460",
        "colab": {
          "base_uri": "https://localhost:8080/"
        }
      },
      "outputs": [
        {
          "output_type": "stream",
          "name": "stdout",
          "text": [
            "\n",
            "Naive Bayes\n",
            "[ 1  1  1 ... -1  1 -1]\n"
          ]
        }
      ],
      "source": [
        "y_pred1 = NB.predict(x_test1)\n",
        "print('\\nNaive Bayes')\n",
        "print(y_pred1)\n",
        "# print('Accuracy Score: ',metrics.accuracy_score(y_test,y_pred)*100,'%',sep='')\n",
        "# print('Confusion Matrix: ',metrics.confusion_matrix(y_test,y_pred), sep = '\\n')\n"
      ]
    },
    {
      "cell_type": "code",
      "source": [
        "df_f['text14']"
      ],
      "metadata": {
        "colab": {
          "base_uri": "https://localhost:8080/"
        },
        "id": "PHW3_L9F4L4t",
        "outputId": "8ac0eb5c-d6c6-4a3c-ad6d-250751e5ae9c"
      },
      "execution_count": null,
      "outputs": [
        {
          "output_type": "execute_result",
          "data": {
            "text/plain": [
              "1                                                                                                                                                                                                                                                                                                                         ممتاز النظافه والطاقم متعاون\n",
              "2                                                                                                                                                                                                                                                                                                        استثنائي سهوله انهاء المعامله الاستقبال لاشيئ\n",
              "3                                                                                                                                                                                                                                                                                      استثنائي انصح باختيار الاسويت بالاخص غرفه رقم 801 نوعيه الارضيه\n",
              "4                                                                                                                                                                                                                                                                                                        استغرب تقييم الفندق كخمس نجوم شي يستحق 2 نجمه\n",
              "5                                                                                                                                                                                                                                              جيد المكان جميل وهاديء شي جيد ونظيف بس حوض السباحه لايعمل هذي الفتره حسب كلامهم يقولوا صيانه والله اعلم\n",
              "                                                                                                                                                                              ...                                                                                                                                                                     \n",
              "105694                                                                                                                                                                                                                                 فند شئ عجبني طقم العمل سيئ جدالا يوجد بالفندق خدمات الحمامات الغرفه نظيفه بالمره رائحه كريهه يوجد حشرات بالحمام\n",
              "105695                                                                                                                                                                                                                      سيئ قربه المسجد النبوي الشريف استخدام موظف الاستقبال للمواقف المخصصه للعملاء وحجز سياراتهم بسيارته مراعاه لاي طارئ مسؤوليه\n",
              "105696    اسوا اقامه الرحله القرب الحرم شيء ازعاج تجاوب الاستقبال الاثاث قديم ليست نظيفه زحام شديد جدا المصاعد باب الغرفه يفتح بصعوبه تاخر اجراءات الدخول غرفه نظيفه والجيران ازعاجهم شديدطلبت تغييرها غيروها بغرفه بينها وبين الغرفه المجاوره باب فتحه لايمكن الاطمئنان بسببها خلالها رؤيه يمر دوره المياه باختصار ندمت اني سكنت ولن اكررها باذن الله\n",
              "105697                                                                                                                                                                                                                                                                                                                          المستوى قربه الحرم شيء\n",
              "105698                                                                                                                                                                                                                                       مخيب للامل سوء التنسيق معرفه الغرف زوار ام فارغه اداره الفندق ساعتين يرسلوا العمال ليتاكد خلو الغرفه عدمه\n",
              "Name: text14, Length: 103959, dtype: object"
            ]
          },
          "metadata": {},
          "execution_count": 103
        }
      ]
    },
    {
      "cell_type": "code",
      "execution_count": null,
      "metadata": {
        "id": "69ks1QHKhLHe",
        "outputId": "e5fc6af7-a2c7-4459-fd03-cabf35b518a3",
        "colab": {
          "base_uri": "https://localhost:8080/"
        }
      },
      "outputs": [
        {
          "output_type": "execute_result",
          "data": {
            "text/plain": [
              "array([ 1,  1,  1, ..., -1,  1, -1])"
            ]
          },
          "metadata": {},
          "execution_count": 101
        }
      ],
      "source": [
        "y_pred1"
      ]
    },
    {
      "cell_type": "code",
      "execution_count": null,
      "metadata": {
        "id": "7qCJcmR4hLHp"
      },
      "outputs": [],
      "source": []
    },
    {
      "cell_type": "markdown",
      "metadata": {
        "id": "HD8H7yq5hLHr"
      },
      "source": [
        "Text Classification"
      ]
    },
    {
      "cell_type": "code",
      "source": [
        "#to remove hamzah and tashkeel\n",
        "stops = set(stopwords.words(\"arabic\"))\n",
        "stop_word_comp = {\"،\",\"آض\",\"آمينَ\",\"آه\"\n",
        "                  ,\"آهاً\",\"آي\",\"أ\",\"أب\",\"أجل\",\"أجمع\",\"أخ\",\"أخذ\",\"أصبح\",\"أضحى\",\"أقبل\",\"أقل\",\"أكثر\",\"ألا\",\"أم\",\"أما\",\"أمامك\",\"أمامكَ\",\"أمسى\",\"أمّا\"\n",
        "                  ,\"أن\",\"أنا\",\"أنت\",\"أنتم\",\"أنتما\",\"أنتن\",\"أنتِ\",\"أنشأ\",\"أنّى\",\"أو\",\"أوشك\",\"أولئك\",\"أولئكم\",\"أولاء\",\"أولالك\",\"أوّهْ\",\"أي\",\"أيا\",\"أين\",\"أينما\"\n",
        "                  ,\"أيّ\",\"أَنَّ\",\"أََيُّ\",\"أُفٍّ\",\"إذ\",\"إذا\",\"إذاً\",\"إذما\",\"إذن\",\"إلى\",\"إليكم\",\"إليكما\",\"إليكنّ\",\"إليكَ\",\"إلَيْكَ\",\"إلّا\",\"إمّا\",\"إن\",\"إنّما\",\"إي\",\"إياك\"\n",
        "                  ,\"إياكم\",\"إياكما\",\"إياكن\",\"إيانا\",\"إياه\",\"إياها\",\"إياهم\",\"إياهما\",\"إياهن\",\"إياي\",\"إيهٍ\",\"إِنَّ\",\"ا\",\"ابتدأ\",\"اثر\",\"اجل\",\"احد\",\"اخرى\",\"اخلولق\"\n",
        "                  ,\"اذا\",\"اربعة\",\"ارتدّ\",\"استحال\",\"اطار\",\"اعادة\",\"اعلنت\",\"اف\",\"اكثر\",\"اكد\",\"الألاء\",\"الألى\",\"الا\",\"الاخيرة\",\"الان\",\"الاول\",\"الاولى\",\"التى\"\n",
        "                  ,\"التي\",\"الثاني\",\"الثانية\",\"الذاتي\",\"الذى\",\"الذي\",\"الذين\",\"السابق\",\"الف\",\"اللائي\",\"اللاتي\",\"اللتان\",\"اللتيا\",\"اللتين\",\"اللذان\",\"اللذين\",\"اللواتي\"\n",
        "                  ,\"الماضي\",\"المقبل\",\"الوقت\",\"الى\",\"اليوم\",\"اما\",\"امام\",\"امس\",\"ان\",\"انبرى\",\"انقلب\",\"انه\",\"انها\",\"او\",\"اول\",\"اي\",\"ايار\",\"ايام\",\"ايضا\"\n",
        "                  ,\"ب\",\"بات\",\"باسم\",\"بان\",\"بخٍ\",\"برس\",\"بسبب\",\"بسّ\",\"بشكل\",\"بضع\",\"بطآن\",\"بعد\",\"بعض\",\"بك\",\"بكم\",\"بكما\",\"بكن\",\"بل\",\"بلى\"\n",
        "                  ,\"بما\",\"بماذا\",\"بمن\",\"بن\",\"بنا\",\"به\",\"بها\",\"بي\",\"بيد\",\"بين\",\"بَسْ\",\"بَلْهَ\",\"بِئْسَ\",\"تانِ\",\"تانِك\",\"تبدّل\",\"تجاه\",\"تحوّل\",\"تلقاء\",\"تلك\"\n",
        "                  ,\"تلكم\",\"تلكما\",\"تم\",\"تينك\",\"تَيْنِ\",\"تِه\",\"تِي\",\"ثلاثة\",\"ثم\",\"ثمّ\",\"ثمّة\",\"ثُمَّ\",\"جعل\",\"جلل\",\"جميع\",\"جير\",\"حار\",\"حاشا\",\"حاليا\",\"حاي\"\n",
        "                  ,\"حتى\",\"حرى\",\"حسب\",\"حم\",\"حوالى\",\"حول\",\"حيث\",\"حيثما\",\"حين\",\"حيَّ\",\"حَبَّذَا\",\"حَتَّى\",\"حَذارِ\",\"خلا\",\"خلال\",\"دون\",\"دونك\",\"ذا\"\n",
        "                  ,\"ذات\",\"ذاك\",\"ذانك\",\"ذانِ\",\"ذلك\",\"ذلكم\",\"ذلكما\",\"ذلكن\",\"ذو\",\"ذوا\",\"ذواتا\",\"ذواتي\",\"ذيت\",\"ذينك\",\"ذَيْنِ\",\"ذِه\",\"ذِي\",\"راح\",\"رجع\"\n",
        "                  ,\"رويدك\",\"ريث\",\"رُبَّ\",\"زيارة\",\"سبحان\",\"سرعان\",\"سنة\",\"سنوات\",\"سوف\",\"سوى\",\"سَاءَ\",\"سَاءَمَا\",\"شبه\",\"شخصا\",\"شرع\",\"شَتَّانَ\"\n",
        "                  ,\"صار\",\"صباح\",\"صفر\",\"صهٍ\",\"صهْ\",\"ضد\",\"ضمن\",\"طاق\",\"طالما\",\"طفق\",\"طَق\",\"ظلّ\",\"عاد\",\"عام\",\"عاما\",\"عامة\",\"عدا\"\n",
        "                  ,\"عدة\",\"عدد\",\"عدم\",\"عسى\",\"عشر\",\"عشرة\",\"علق\",\"على\",\"عليك\",\"عليه\",\"عليها\",\"علًّ\",\"عن\",\"عند\",\"عندما\",\"عوض\",\"عين\"\n",
        "                  ,\"عَدَسْ\",\"عَمَّا\",\"غدا\",\"غير\",\"ـ\",\"ف\",\"فان\",\"فلان\",\"فو\",\"فى\",\"في\",\"فيم\",\"فيما\",\"فيه\",\"فيها\",\"قال\",\"قام\",\"قبل\",\"قد\"\n",
        "                  ,\"قطّ\",\"قلما\",\"قوة\",\"كأنّما\",\"كأين\",\"كأيّ\",\"كأيّن\",\"كاد\",\"كان\",\"كانت\",\"كذا\",\"كذلك\",\"كرب\",\"كل\",\"كلا\",\"كلاهما\",\"كلتا\"\n",
        "                  ,\"كلم\",\"كليكما\",\"كليهما\",\"كلّما\",\"كلَّا\",\"كم\",\"كما\",\"كي\",\"كيت\",\"كيف\",\"كيفما\",\"كَأَنَّ\",\"كِخ\",\"لئن\",\"لا\",\"لات\",\"لاسيما\"\n",
        "                  ,\"لدن\",\"لدى\",\"لعمر\",\"لقاء\",\"لك\",\"لكم\",\"لكما\",\"لكن\",\"لكنَّما\",\"لكي\",\"لكيلا\",\"للامم\",\"لم\",\"لما\",\"لمّا\",\"لن\",\"لنا\",\"له\"\n",
        "                  ,\"لها\",\"لو\",\"لوكالة\",\"لولا\",\"لوما\",\"لي\",\"لَسْتَ\",\"لَسْتُ\",\"لَسْتُم\",\"لَسْتُمَا\",\"لَسْتُنَّ\",\"لَسْتِ\",\"لَسْنَ\",\"لَعَلَّ\",\"لَكِنَّ\",\"لَيْتَ\",\"لَيْسَ\"\n",
        "                  ,\"لَيْسَا\",\"لَيْسَتَا\",\"لَيْسَتْ\",\"لَيْسُوا\",\"لَِسْنَا\",\"ما\",\"ماانفك\",\"مابرح\",\"مادام\",\"ماذا\",\"مازال\",\"مافتئ\",\"مايو\",\"متى\",\"مثل\",\"مذ\"\n",
        "                  ,\"مساء\",\"مع\",\"معاذ\",\"مقابل\",\"مكانكم\",\"مكانكما\",\"مكانكنّ\",\"مكانَك\",\"مليار\",\"مليون\",\"مما\",\"ممن\",\"من\",\"منذ\",\"منها\",\"مه\"\n",
        "                  ,\"مهما\",\"مَنْ\",\"مِن\",\"نحن\",\"نحو\",\"نعم\",\"نفس\",\"نفسه\",\"نهاية\",\"نَخْ\",\"نِعِمّا\",\"نِعْمَ\",\"ها\",\"هاؤم\",\"هاكَ\",\"هاهنا\",\"هبّ\"\n",
        "                  ,\"هذا\",\"هذه\",\"هكذا\",\"هل\",\"هلمَّ\",\"هلّا\",\"هم\",\"هما\",\"هن\",\"هنا\",\"هناك\",\"هنالك\",\"هو\",\"هي\",\"هيا\",\"هيت\",\"هيّا\"\n",
        "                  ,\"هَؤلاء\",\"هَاتانِ\",\"هَاتَيْنِ\",\"هَاتِه\",\"هَاتِي\",\"هَجْ\",\"هَذا\",\"هَذانِ\",\"هَذَيْنِ\",\"هَذِه\",\"هَذِي\",\"هَيْهَاتَ\",\"و\",\"و6\",\"وا\",\"واحد\"\n",
        "                  ,\"واضاف\",\"واضافت\",\"واكد\",\"وان\",\"واهاً\",\"واوضح\",\"وراءَك\",\"وفي\",\"وقال\",\"وقالت\",\"وقد\",\"وقف\",\"وكان\",\"وكانت\"\n",
        "                  ,\"ولا\",\"ولم\",\"ومن\",\"مَن\",\"وهو\",\"وهي\",\"ويكأنّ\",\"وَيْ\",\"وُشْكَانََ\",\"يكون\",\"يمكن\",\"يوم\",\"ّأيّان\",\"اذن\",\"ايش\",\"دي\",\"مش\",\n",
        "                  \"عندي\",\"انك\",\"ايه\",\"مره\",\"لكل\",\"الآن\",\"لان\",\"انا\",\"إنك\",\"لأن\",\"مرة\",\"إيه\",\"فيه\",\"اللي\" ,\n",
        "                  \"ده\",\"لذلك\",\"عبر\",\"عشان\",\"حد\",\"مثلا\",\"مثلاً\",\"مو\",\"زي\",\"وكذل\",\"ال\",\"وال\",\"الت\",\"ان\",\"دة\",\"عشان\",\"حد\",\"مُش\",\"دَه\",'زي','إيه','ليه','أل',\n",
        "                  'إنه','إنّه','انّه','آل','و التي','انت','إنت','أنتِ','ليش','لأنه','لانه','إيش','مثل','جدا','جداً',\n",
        "                  'لحد','وغيرها','و غيرها','دية','ودة','كدي','فقط','احد','أحد','وت','لكن','مره','فقط','جد','جيد','جيده','لكن','ولكن','ولكنه','ليس','باس','انا','رائع','رائعه',\n",
        "                  'لقد','كنت','علي','افضل','للغايه','يكن','شيء','سيء','سىء','ممتاز','جد','ممتازه','سيئه','فقد','جيدا','شكرا'}"
      ],
      "metadata": {
        "id": "WGepLdPIyU40"
      },
      "execution_count": null,
      "outputs": []
    },
    {
      "cell_type": "code",
      "source": [
        "lst = [' ' + x + ' ' for x in stop_word_comp]\n",
        "df_u['text15']=df_u['text14'].apply(lambda x: ' '.join([word for word in x.split() if word not in stops and word not in lst ]))\n",
        "df_u['text15'] = df_u['text15'].str.lower()\n",
        "pat = '|'.join(r\"\\b{}\\b\".format(x) for x in lst)\n",
        "df_u['text15'] =df_u['text15'].str.replace(pat, ' ')\n",
        "df_u['text15'].to_frame()"
      ],
      "metadata": {
        "colab": {
          "base_uri": "https://localhost:8080/",
          "height": 728
        },
        "id": "wMoKpH2LyVkK",
        "outputId": "53d02b66-805b-4d14-e5d8-c437cc075195"
      },
      "execution_count": null,
      "outputs": [
        {
          "output_type": "stream",
          "name": "stderr",
          "text": [
            "/usr/local/lib/python3.7/dist-packages/ipykernel_launcher.py:5: FutureWarning:\n",
            "\n",
            "The default value of regex will change from True to False in a future version.\n",
            "\n"
          ]
        },
        {
          "output_type": "execute_result",
          "data": {
            "text/plain": [
              "                                                                                                                                                                                                                                                                                                                                                                                                                                                                                                                                                                                                                                                                                                                                                                                                                                                                                                                                                     text15\n",
              "0      المكان يمكنك مراجعه الذات والتفكر كوكروبيت غانا ثمه الكثير زياره غانا وعلى الرغم الفقر تلاحظه طريقك بيغ ميلي باكيارد وجدت الناس غانا يملكون ثراء القلب رغم العوز بيغ ميلي باكيارد مكان يمكنني مراجعه الذات والتفكر التقيت اشخاصا كانوا يعملون مبادرات مختلفه بيغ ميلي مكان يمكننا تبادل الملاحظات والآراء بيغ ميلي مليء بالسلام وهادئ الطعام جدا الطهاه ممتازون وبالاضافه بد الاشاره العمال يكلون ويحرصون سعاده نزلائهم يجعلون المكان مضيافا خيبه امل واحده كبيره رغم الفنون والاشغال اليدويه شراؤها الموقع الاسعار غاليه مؤخرا ازالت السلطات كوكروبيت محلات التجار الواقعه خارج شاطئ بيغ ميلي منتجات التجار ارخص يزال محل تجاري متجر مايسترو للفن الافريقي كوكروبيت يعرض الفنون والاشغال اليدويه الفريده والملابس واللوحات اشتريت لوحات مذهله لايمكنك تجدها بيغ ميلي تزور بيغ ميلي فضلك خذ لحظه للذهاب الشاطئ وعلى يمينك ستجد متجر مايسترو للفن الافريقي المذهل تنخدع باسعار التجار بيغ ميلي باكيارد استمتع بالموسيقى والناس الرجاء تقضي وقتا ممتعا\n",
              "1                                                                                                                                                                                                                                                                                                                                          موقع وحديقه ويستحق نجمه اضافيه الرغم الغرف فاخره فهي نظيفه وتعمل مثالي بالتاكيد التصرفات الفرديه والجماعيه تكييف هواء كبير وجيد ونوافذ مزدوجه شاشات منطقه الحديقه تحتوى مطاعم بالاضافه بار رياضي تبلغ تكلفه الانترنت اللاسلكي للساعه يوجد خصم الفترات الاطول اضطررت اغلاق حاسوبي رخيص يبدو العديد الزوار الاجانب امريكي لليله بوفيه افطار بمستوى نجمه واحده اقامه بكثير اعتقدت سنعود بالتاكيد شملت الاقامات السابقه فندق الافريقيه ريجنت الدخول بالمطار غرب فندق خيارريجينت افريكان وفندق ايربيورت ويست خيار قوي لتلك المنطقه المدينه حركه المرور اكرا مصابه بالشلل لذا قم بعقد اجتماعاتك فندق بالوما معروف جيدا\n",
              "2                                                                                                                                                                                                                                                                                                                                                                                                                                                                                                                                                                                                                                                                                                                                                           اسوا فندق اقمت الاطلاق يستغرق تسجيل الوصول حوالي دقيقه باهظ الثمن غرف قديمه وقذره سجاده قذره المجمل تجربه للغايه الفندق سيكون آسيا نجمه واحده ويمكن اذهب امريكي السعر فندق نوفوتيل حوالي امريكي\n",
              "3                                                                                                                                                                                                                                                                                                                                                                                                                                                                                                                                                                                                                                                                                                                                    بدون روح كانه فندق ثلاثه نجوم بدون اداره احترافيه الفندق يبدو كمركب ضائع البحر الغرف موزعه بطريقه عشوائيه والافطار نقانق بارده سخيفه ونفس السلطه القديمه مكيف الهواء يثير الضوضاء الغرفه المستحيل ايقافه مركز صحي رائع\n",
              "4                                                                                                                                                                                                                                                                                                                                                                                                                                                                                                                                                                                                                                                                 فندق جميل سوء الاداره والخدمات الخارج بدا مبشرا خيبه الامل بدات وقت الغداء جوده الطعام سيئه والحساء مزريا والفواكه جودتها البكيخ متعفنا اشتكى زملائي وجود مناشف غرفهم حوالي الساعه والبعض تكن اسرتهم مرتبه الساعه تناولنا عشاء مكسيكيا ومره قائمه الطعام مزريه اقيم ابدا الاقل اتحدث نفسي\n",
              "...                                                                                                                                                                                                                                                                                                                                                                                                                                                                                                                                                                                                                                                                                                                                                                                                                                                                                                                                                     ...\n",
              "15567                                                                                                                                                                                                                                                                                                                                                                                                                                                                                                                                                                                                                                                                                                                       قريب شي جميل وهادي وكل شي حولك حتي المواقف هادي يصلح لزوجين لشهر العسل ابسالا مدينه حالمه طبيعه وهدوء انصح بالزياره والتمتع بجو المدينه تاريخ الفندق موقعه ممتاز بقرب محطه القطار ورحابه الموظفين راقيه خدمه سريعه نظافته وتوفر\n",
              "15568                                                                                                                                                                                                                                                                                                                                                                                                                                                                                                                                                                                                                                                                                                                                                                                                             فندق وممتاز نزلت بتاريخ الفندق وبقيت بحدود وشهادت الراحه والخدمه شكرا قدمتموه وكم اتمنى اعود وانزل الفندق يقع قلب المدينه وكل شي قريب منك\n",
              "15569                                                                                                                                                                                                                                                                                                                                                                                                                                                                                                                                                                                                                                                              جيد الفندق ميزته يقع قرب مركز شرطه العاصمه وعموما اوغندا امان وليس الخطوره السفر يتميز الفندق رخيص مستوى نظافته وهذا اهم البلاد المطعم الفندق بالنسبه باقي المطاعم المدينه متوسط بالمقارنه بفنادق مدن فهو ضعيف خدمه مساج الغرف تاتيك المدلكه جميله سمراء تقوم بتدليك جسمك بالطريقه تعجبك\n",
              "15570                                                                                                                                                                                                                                                                                                                                                                                             احقر مكان وجه الارض انصح يقومون بتصفح الفنادق الانترنت بالتروى الاختيار فهذا المكان احقر وجدت المغرب فهو بعيد مراكش وسط الزراعات والادغال ولاتوجد خدمه بالداخل يوجد انترنت والتواليتات الخاصه بالغرف تعمل سليم ومسدوده والافطار عباره بيضه مسلوقه وقطعه الجبن قليل المربى والزبد البلدى والخبز الغداء والعشاء فالله بالسر عليم فلقد ندمنا فعلنا وايضا وجدنا التواليت مسدود وعندما طلبنا تغييره قالو بانهم قامو بدفع مبلغ اصلاحه فهل ملتزمون بتصليح التواليت ناهيك المكان الموجود الفندق فندق وانما قبر وسط الزراعات حياه بشر وهذا للامانه احببت انصح غيرى\n",
              "15571                                                                                                                                                                                                                                                                                                                                                                                                                                                                                                                                                                                                                                                                                                                                                                                 ضيق الفندق ضيق مساحه الغرف والحمامات مكانه سئ قريب اللوفر وبرج ايفل الطعام عندهم ماجربته مستوى النظافه المكان ماينفع لذوي الاحتياجات الخاصه خاصه مصعدهم ضيق وقديم جدا\n",
              "\n",
              "[15572 rows x 1 columns]"
            ],
            "text/html": [
              "\n",
              "  <div id=\"df-cbb42440-c3c1-4f11-a37a-71dd2a140ec2\">\n",
              "    <div class=\"colab-df-container\">\n",
              "      <div>\n",
              "<style scoped>\n",
              "    .dataframe tbody tr th:only-of-type {\n",
              "        vertical-align: middle;\n",
              "    }\n",
              "\n",
              "    .dataframe tbody tr th {\n",
              "        vertical-align: top;\n",
              "    }\n",
              "\n",
              "    .dataframe thead th {\n",
              "        text-align: right;\n",
              "    }\n",
              "</style>\n",
              "<table border=\"1\" class=\"dataframe\">\n",
              "  <thead>\n",
              "    <tr style=\"text-align: right;\">\n",
              "      <th></th>\n",
              "      <th>text15</th>\n",
              "    </tr>\n",
              "  </thead>\n",
              "  <tbody>\n",
              "    <tr>\n",
              "      <th>0</th>\n",
              "      <td>المكان يمكنك مراجعه الذات والتفكر كوكروبيت غانا ثمه الكثير زياره غانا وعلى الرغم الفقر تلاحظه طريقك بيغ ميلي باكيارد وجدت الناس غانا يملكون ثراء القلب رغم العوز بيغ ميلي باكيارد مكان يمكنني مراجعه الذات والتفكر التقيت اشخاصا كانوا يعملون مبادرات مختلفه بيغ ميلي مكان يمكننا تبادل الملاحظات والآراء بيغ ميلي مليء بالسلام وهادئ الطعام جدا الطهاه ممتازون وبالاضافه بد الاشاره العمال يكلون ويحرصون سعاده نزلائهم يجعلون المكان مضيافا خيبه امل واحده كبيره رغم الفنون والاشغال اليدويه شراؤها الموقع الاسعار غاليه مؤخرا ازالت السلطات كوكروبيت محلات التجار الواقعه خارج شاطئ بيغ ميلي منتجات التجار ارخص يزال محل تجاري متجر مايسترو للفن الافريقي كوكروبيت يعرض الفنون والاشغال اليدويه الفريده والملابس واللوحات اشتريت لوحات مذهله لايمكنك تجدها بيغ ميلي تزور بيغ ميلي فضلك خذ لحظه للذهاب الشاطئ وعلى يمينك ستجد متجر مايسترو للفن الافريقي المذهل تنخدع باسعار التجار بيغ ميلي باكيارد استمتع بالموسيقى والناس الرجاء تقضي وقتا ممتعا</td>\n",
              "    </tr>\n",
              "    <tr>\n",
              "      <th>1</th>\n",
              "      <td>موقع وحديقه ويستحق نجمه اضافيه الرغم الغرف فاخره فهي نظيفه وتعمل مثالي بالتاكيد التصرفات الفرديه والجماعيه تكييف هواء كبير وجيد ونوافذ مزدوجه شاشات منطقه الحديقه تحتوى مطاعم بالاضافه بار رياضي تبلغ تكلفه الانترنت اللاسلكي للساعه يوجد خصم الفترات الاطول اضطررت اغلاق حاسوبي رخيص يبدو العديد الزوار الاجانب امريكي لليله بوفيه افطار بمستوى نجمه واحده اقامه بكثير اعتقدت سنعود بالتاكيد شملت الاقامات السابقه فندق الافريقيه ريجنت الدخول بالمطار غرب فندق خيارريجينت افريكان وفندق ايربيورت ويست خيار قوي لتلك المنطقه المدينه حركه المرور اكرا مصابه بالشلل لذا قم بعقد اجتماعاتك فندق بالوما معروف جيدا</td>\n",
              "    </tr>\n",
              "    <tr>\n",
              "      <th>2</th>\n",
              "      <td>اسوا فندق اقمت الاطلاق يستغرق تسجيل الوصول حوالي دقيقه باهظ الثمن غرف قديمه وقذره سجاده قذره المجمل تجربه للغايه الفندق سيكون آسيا نجمه واحده ويمكن اذهب امريكي السعر فندق نوفوتيل حوالي امريكي</td>\n",
              "    </tr>\n",
              "    <tr>\n",
              "      <th>3</th>\n",
              "      <td>بدون روح كانه فندق ثلاثه نجوم بدون اداره احترافيه الفندق يبدو كمركب ضائع البحر الغرف موزعه بطريقه عشوائيه والافطار نقانق بارده سخيفه ونفس السلطه القديمه مكيف الهواء يثير الضوضاء الغرفه المستحيل ايقافه مركز صحي رائع</td>\n",
              "    </tr>\n",
              "    <tr>\n",
              "      <th>4</th>\n",
              "      <td>فندق جميل سوء الاداره والخدمات الخارج بدا مبشرا خيبه الامل بدات وقت الغداء جوده الطعام سيئه والحساء مزريا والفواكه جودتها البكيخ متعفنا اشتكى زملائي وجود مناشف غرفهم حوالي الساعه والبعض تكن اسرتهم مرتبه الساعه تناولنا عشاء مكسيكيا ومره قائمه الطعام مزريه اقيم ابدا الاقل اتحدث نفسي</td>\n",
              "    </tr>\n",
              "    <tr>\n",
              "      <th>...</th>\n",
              "      <td>...</td>\n",
              "    </tr>\n",
              "    <tr>\n",
              "      <th>15567</th>\n",
              "      <td>قريب شي جميل وهادي وكل شي حولك حتي المواقف هادي يصلح لزوجين لشهر العسل ابسالا مدينه حالمه طبيعه وهدوء انصح بالزياره والتمتع بجو المدينه تاريخ الفندق موقعه ممتاز بقرب محطه القطار ورحابه الموظفين راقيه خدمه سريعه نظافته وتوفر</td>\n",
              "    </tr>\n",
              "    <tr>\n",
              "      <th>15568</th>\n",
              "      <td>فندق وممتاز نزلت بتاريخ الفندق وبقيت بحدود وشهادت الراحه والخدمه شكرا قدمتموه وكم اتمنى اعود وانزل الفندق يقع قلب المدينه وكل شي قريب منك</td>\n",
              "    </tr>\n",
              "    <tr>\n",
              "      <th>15569</th>\n",
              "      <td>جيد الفندق ميزته يقع قرب مركز شرطه العاصمه وعموما اوغندا امان وليس الخطوره السفر يتميز الفندق رخيص مستوى نظافته وهذا اهم البلاد المطعم الفندق بالنسبه باقي المطاعم المدينه متوسط بالمقارنه بفنادق مدن فهو ضعيف خدمه مساج الغرف تاتيك المدلكه جميله سمراء تقوم بتدليك جسمك بالطريقه تعجبك</td>\n",
              "    </tr>\n",
              "    <tr>\n",
              "      <th>15570</th>\n",
              "      <td>احقر مكان وجه الارض انصح يقومون بتصفح الفنادق الانترنت بالتروى الاختيار فهذا المكان احقر وجدت المغرب فهو بعيد مراكش وسط الزراعات والادغال ولاتوجد خدمه بالداخل يوجد انترنت والتواليتات الخاصه بالغرف تعمل سليم ومسدوده والافطار عباره بيضه مسلوقه وقطعه الجبن قليل المربى والزبد البلدى والخبز الغداء والعشاء فالله بالسر عليم فلقد ندمنا فعلنا وايضا وجدنا التواليت مسدود وعندما طلبنا تغييره قالو بانهم قامو بدفع مبلغ اصلاحه فهل ملتزمون بتصليح التواليت ناهيك المكان الموجود الفندق فندق وانما قبر وسط الزراعات حياه بشر وهذا للامانه احببت انصح غيرى</td>\n",
              "    </tr>\n",
              "    <tr>\n",
              "      <th>15571</th>\n",
              "      <td>ضيق الفندق ضيق مساحه الغرف والحمامات مكانه سئ قريب اللوفر وبرج ايفل الطعام عندهم ماجربته مستوى النظافه المكان ماينفع لذوي الاحتياجات الخاصه خاصه مصعدهم ضيق وقديم جدا</td>\n",
              "    </tr>\n",
              "  </tbody>\n",
              "</table>\n",
              "<p>15572 rows × 1 columns</p>\n",
              "</div>\n",
              "      <button class=\"colab-df-convert\" onclick=\"convertToInteractive('df-cbb42440-c3c1-4f11-a37a-71dd2a140ec2')\"\n",
              "              title=\"Convert this dataframe to an interactive table.\"\n",
              "              style=\"display:none;\">\n",
              "        \n",
              "  <svg xmlns=\"http://www.w3.org/2000/svg\" height=\"24px\"viewBox=\"0 0 24 24\"\n",
              "       width=\"24px\">\n",
              "    <path d=\"M0 0h24v24H0V0z\" fill=\"none\"/>\n",
              "    <path d=\"M18.56 5.44l.94 2.06.94-2.06 2.06-.94-2.06-.94-.94-2.06-.94 2.06-2.06.94zm-11 1L8.5 8.5l.94-2.06 2.06-.94-2.06-.94L8.5 2.5l-.94 2.06-2.06.94zm10 10l.94 2.06.94-2.06 2.06-.94-2.06-.94-.94-2.06-.94 2.06-2.06.94z\"/><path d=\"M17.41 7.96l-1.37-1.37c-.4-.4-.92-.59-1.43-.59-.52 0-1.04.2-1.43.59L10.3 9.45l-7.72 7.72c-.78.78-.78 2.05 0 2.83L4 21.41c.39.39.9.59 1.41.59.51 0 1.02-.2 1.41-.59l7.78-7.78 2.81-2.81c.8-.78.8-2.07 0-2.86zM5.41 20L4 18.59l7.72-7.72 1.47 1.35L5.41 20z\"/>\n",
              "  </svg>\n",
              "      </button>\n",
              "      \n",
              "  <style>\n",
              "    .colab-df-container {\n",
              "      display:flex;\n",
              "      flex-wrap:wrap;\n",
              "      gap: 12px;\n",
              "    }\n",
              "\n",
              "    .colab-df-convert {\n",
              "      background-color: #E8F0FE;\n",
              "      border: none;\n",
              "      border-radius: 50%;\n",
              "      cursor: pointer;\n",
              "      display: none;\n",
              "      fill: #1967D2;\n",
              "      height: 32px;\n",
              "      padding: 0 0 0 0;\n",
              "      width: 32px;\n",
              "    }\n",
              "\n",
              "    .colab-df-convert:hover {\n",
              "      background-color: #E2EBFA;\n",
              "      box-shadow: 0px 1px 2px rgba(60, 64, 67, 0.3), 0px 1px 3px 1px rgba(60, 64, 67, 0.15);\n",
              "      fill: #174EA6;\n",
              "    }\n",
              "\n",
              "    [theme=dark] .colab-df-convert {\n",
              "      background-color: #3B4455;\n",
              "      fill: #D2E3FC;\n",
              "    }\n",
              "\n",
              "    [theme=dark] .colab-df-convert:hover {\n",
              "      background-color: #434B5C;\n",
              "      box-shadow: 0px 1px 3px 1px rgba(0, 0, 0, 0.15);\n",
              "      filter: drop-shadow(0px 1px 2px rgba(0, 0, 0, 0.3));\n",
              "      fill: #FFFFFF;\n",
              "    }\n",
              "  </style>\n",
              "\n",
              "      <script>\n",
              "        const buttonEl =\n",
              "          document.querySelector('#df-cbb42440-c3c1-4f11-a37a-71dd2a140ec2 button.colab-df-convert');\n",
              "        buttonEl.style.display =\n",
              "          google.colab.kernel.accessAllowed ? 'block' : 'none';\n",
              "\n",
              "        async function convertToInteractive(key) {\n",
              "          const element = document.querySelector('#df-cbb42440-c3c1-4f11-a37a-71dd2a140ec2');\n",
              "          const dataTable =\n",
              "            await google.colab.kernel.invokeFunction('convertToInteractive',\n",
              "                                                     [key], {});\n",
              "          if (!dataTable) return;\n",
              "\n",
              "          const docLinkHtml = 'Like what you see? Visit the ' +\n",
              "            '<a target=\"_blank\" href=https://colab.research.google.com/notebooks/data_table.ipynb>data table notebook</a>'\n",
              "            + ' to learn more about interactive tables.';\n",
              "          element.innerHTML = '';\n",
              "          dataTable['output_type'] = 'display_data';\n",
              "          await google.colab.output.renderOutput(dataTable, element);\n",
              "          const docLink = document.createElement('div');\n",
              "          docLink.innerHTML = docLinkHtml;\n",
              "          element.appendChild(docLink);\n",
              "        }\n",
              "      </script>\n",
              "    </div>\n",
              "  </div>\n",
              "  "
            ]
          },
          "metadata": {},
          "execution_count": 32
        }
      ]
    },
    {
      "cell_type": "markdown",
      "source": [
        "LatentDirichletAllocation"
      ],
      "metadata": {
        "id": "LfRE67oE_v2N"
      }
    },
    {
      "cell_type": "code",
      "source": [
        "# the vectorizer object will be used to transform text to vector form\n",
        "vectorizer = CountVectorizer(max_df=0.9, min_df=100, token_pattern='\\w+|\\$[\\d\\.]+|\\S+')\n",
        "# apply transformation\n",
        "tf = vectorizer.fit_transform(df_u['text15']) #.toarray()\n",
        "# tf_feature_names tells us what word each column in the matric represents\n",
        "tf_feature_names = vectorizer.get_feature_names()\n",
        "tf.shape # --> (200000, 2296)"
      ],
      "metadata": {
        "colab": {
          "base_uri": "https://localhost:8080/"
        },
        "id": "5mMcNjwAAaP7",
        "outputId": "e048c5d8-703c-447a-b36d-0f5b62aaf4b6"
      },
      "execution_count": null,
      "outputs": [
        {
          "output_type": "stream",
          "name": "stderr",
          "text": [
            "/usr/local/lib/python3.7/dist-packages/sklearn/utils/deprecation.py:87: FutureWarning:\n",
            "\n",
            "Function get_feature_names is deprecated; get_feature_names is deprecated in 1.0 and will be removed in 1.2. Please use get_feature_names_out instead.\n",
            "\n"
          ]
        },
        {
          "output_type": "execute_result",
          "data": {
            "text/plain": [
              "(15572, 1541)"
            ]
          },
          "metadata": {},
          "execution_count": 36
        }
      ]
    },
    {
      "cell_type": "code",
      "source": [
        "number_of_topics = 10\n",
        "model = LatentDirichletAllocation(n_components=number_of_topics, random_state=45) # random state for reproducibility\n",
        "# Fit data to model\n",
        "model.fit(tf)"
      ],
      "metadata": {
        "colab": {
          "base_uri": "https://localhost:8080/"
        },
        "id": "Oj2Nve30AaS3",
        "outputId": "f695dced-1628-405b-ce14-4167bfd4e56e"
      },
      "execution_count": null,
      "outputs": [
        {
          "output_type": "execute_result",
          "data": {
            "text/plain": [
              "LatentDirichletAllocation(random_state=45)"
            ]
          },
          "metadata": {},
          "execution_count": 37
        }
      ]
    },
    {
      "cell_type": "code",
      "source": [
        "for index, topic in enumerate(model.components_):\n",
        "    print(f'Top 5 words for Topic #{index}')\n",
        "    print([vectorizer.get_feature_names()[i] for i in topic.argsort()[-15:]])\n",
        "    print('\\n')"
      ],
      "metadata": {
        "id": "MK4czVxZAaWJ"
      },
      "execution_count": 6,
      "outputs": []
    },
    {
      "cell_type": "code",
      "source": [
        "def show_topics(vectorizer=vectorizer, lda_model=model, n_words=20):\n",
        "    keywords = np.array(vectorizer.get_feature_names())\n",
        "    topic_keywords = []\n",
        "    for topic_weights in lda_model.components_:\n",
        "        top_keyword_locs = (-topic_weights).argsort()[:n_words]\n",
        "        topic_keywords.append(keywords.take(top_keyword_locs))\n",
        "    return topic_keywords\n",
        "\n",
        "topic_keywords = show_topics(vectorizer=vectorizer, lda_model=model, n_words=10)\n",
        "\n",
        "df_topic_keywords = pd.DataFrame(topic_keywords)\n",
        "df_topic_keywords.columns = ['Word '+str(i) for i in range(df_topic_keywords.shape[1])]\n",
        "df_topic_keywords.index = ['Topic '+str(i) for i in range(df_topic_keywords.shape[0])]\n",
        "df_topic_keywords.T"
      ],
      "metadata": {
        "id": "tvjeRT8HAmQM"
      },
      "execution_count": 7,
      "outputs": []
    },
    {
      "cell_type": "markdown",
      "source": [
        "nmf"
      ],
      "metadata": {
        "id": "_fVuvVRNAF4N"
      }
    },
    {
      "cell_type": "code",
      "source": [
        "n_features = 104\n",
        "n_components = 10 # number of topics\n",
        "n_top_words = 20\n",
        "\n",
        "# ignore terms that have a document frequency strictly higher than 95%, \n",
        "# ignore terms that have a document frequency strictly lower than 2\n",
        "tfidf_vectorizer = TfidfVectorizer(max_df=0.95, min_df=2,\n",
        "                                   max_features=n_features)\n",
        "tfidf = tfidf_vectorizer.fit_transform(df_u['text15'].values.astype(str))\n",
        "\n",
        "# alpha=0 means no regularization, l1_ratio=.5, the penalty is a combination of L1 and L2\n",
        "nmf = NMF(n_components=n_components, random_state=1, alpha=.1, l1_ratio=.5).fit(tfidf)\n",
        "nmf_output = nmf.fit_transform(tfidf)\n",
        "\n",
        "def show_topics(vectorizer=tfidf_vectorizer, lda_model=nmf, n_words=20):\n",
        "    keywords = np.array(vectorizer.get_feature_names())\n",
        "    topic_keywords = []\n",
        "    for topic_weights in lda_model.components_:\n",
        "        top_keyword_locs = (-topic_weights).argsort()[:n_words]\n",
        "        topic_keywords.append(keywords.take(top_keyword_locs))\n",
        "    return topic_keywords\n",
        "\n",
        "topic_keywords = show_topics(vectorizer=tfidf_vectorizer, lda_model=nmf, n_words=10)        \n",
        "\n",
        "# Topic - Keywords Dataframe\n",
        "df_topic_keywords = pd.DataFrame(topic_keywords)\n",
        "df_topic_keywords.columns = ['Word '+str(i) for i in range(df_topic_keywords.shape[1])]\n",
        "df_topic_keywords.index = ['Topic '+str(i) for i in range(df_topic_keywords.shape[0])]\n",
        "\n",
        "#Topics_theme = ['Word start from ph', 'People/Friend/Relationship', 'Life/Experience/Love/Purpose', 'Money/Internet/Business', \n",
        "#                 'Weekend/Parent/Child', 'Leisure time', 'Language/technique/software', 'Relationship/Girl/Boy', \n",
        "#                 'Business relate to India, China or Pakistan', 'Friend/Love/Relationship', 'Difference and similarity/Language/Engineering', \n",
        "#                 'Culture, travel and visa requirements in several countries', 'Tips on working as software engineering', 'Book/Movie/Class/History/Physics/Chemistry/Science', \n",
        "#                 'Software engineer job opportunitis in Canada', 'Love/Life/Relationship', 'World/War/Language/History', 'Day/Hour/Week/Month/Sex/Place', 'School/Student/College/University', \n",
        "#                 'Question/Answer/Quora/Interview']\n",
        "# df_topic_keywords['topic_theme'] = Topics_theme\n",
        "#df_topic_keywords.set_index('topic_theme', inplace=True)\n",
        "df_topic_keywords.T"
      ],
      "metadata": {
        "id": "nMXJkRCJ8WxM"
      },
      "execution_count": 8,
      "outputs": []
    },
    {
      "cell_type": "code",
      "source": [
        "H = pd.DataFrame(doc_topic.round(5),\n",
        "             columns = [\"سيرة الذاتية ومذكرات\",\"مراجع وابحاث\",\"فنون\",\"قانون \",\"فلسفة\",\"سياسة\",\"اجتماعية\",\"روايات وقصص\",\"مال واعمال\",\"الاسرة والطفل\",\"تكنلوجيا والانترنت\",\"سيرة النبوية\",\"دينية\",\"تاريخية\",\"ادب\"]\n",
        ")\n",
        "H"
      ],
      "metadata": {
        "id": "FReG2ukd72B7"
      },
      "execution_count": null,
      "outputs": []
    },
    {
      "cell_type": "code",
      "execution_count": null,
      "metadata": {
        "id": "d0nLcjhIhLH2"
      },
      "outputs": [],
      "source": [
        "from sklearn.metrics import silhouette_score\n",
        "km = KMeans(n_clusters = 17)\n",
        "km.fit(H)\n",
        "silhouette_score(H, km.labels_)"
      ]
    },
    {
      "cell_type": "code",
      "source": [
        "cluster=km.predict(H)"
      ],
      "metadata": {
        "id": "9wpbRUIBJ3i4"
      },
      "execution_count": null,
      "outputs": []
    },
    {
      "cell_type": "code",
      "source": [
        "df_scaled=pd.DataFrame(km.cluster_centers_,columns=H.columns)\n",
        "H[\"cluster\"]=cluster"
      ],
      "metadata": {
        "id": "FAry3-y1J5XL"
      },
      "execution_count": null,
      "outputs": []
    }
  ],
  "metadata": {
    "kernelspec": {
      "display_name": "Python 3",
      "language": "python",
      "name": "python3"
    },
    "language_info": {
      "codemirror_mode": {
        "name": "ipython",
        "version": 3
      },
      "file_extension": ".py",
      "mimetype": "text/x-python",
      "name": "python",
      "nbconvert_exporter": "python",
      "pygments_lexer": "ipython3",
      "version": "3.8.5"
    },
    "colab": {
      "provenance": [],
      "collapsed_sections": [],
      "include_colab_link": true
    }
  },
  "nbformat": 4,
  "nbformat_minor": 0
}